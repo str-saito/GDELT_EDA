{
 "cells": [
  {
   "cell_type": "code",
   "execution_count": null,
   "id": "f76d01e3",
   "metadata": {},
   "outputs": [],
   "source": [
    "!pip install gdeltdoc pandas tqdm pyarrow statsmodels tigramite tqdm matplotlib seaborn plotly wordcloud japanize-matplotlib nbformat\n",
    "!pip install \"dask[complete]\" "
   ]
  },
  {
   "cell_type": "markdown",
   "id": "6fea542e",
   "metadata": {},
   "source": []
  },
  {
   "cell_type": "markdown",
   "id": "85f21935",
   "metadata": {},
   "source": [
    "## 目的\n",
    "世界中のニュースメディアを監視する大規模データベース**GDELT**のデータを活用し、どのようなデータを含んでいてるか可視化をしながら確認する。\n",
    "\n",
    "## GDELTプロジェクトとは\n",
    "GDELT（Global Database of Events, Language, and Tone）は、世界中のニュース記事をリアルタイムで収集・分析し、「誰が、誰に、何をしたか」というイベント情報を構造化データとして提供している。\n",
    "\n",
    "### EventRootCode\n",
    "これはイベントを大まかに分類する2桁の数字で全部で20のカテゴリがある。 \\\n",
    "大まかに協力的なイベントと対立的なイベントに分ける。 \\\n",
    "3桁以上の数字でより細かい値を出すことができる。 \\\n",
    "https://www.gdeltproject.org/data/lookups/CAMEO.eventcodes.txt \\\n",
    "\n",
    "協力的なイベントの例: \\\n",
    "01: MAKE PUBLIC STATEMENT (公式声明を発表) \\\n",
    "02: APPEAL (要請・アピール) \\\n",
    "03: EXPRESS INTENT TO COOPERATE (協力の意図を表明) \\\n",
    "04: CONSULT (協議する) \\\n",
    "05: ENGAGE IN DIPLOMATIC COOPERATION (外交協力を行う) \\\n",
    "対立的なイベントの例: \\\n",
    "10: DEMAND (要求する) \\\n",
    "11: DISAPPROVE (非難する) \\\n",
    "12: REJECT (拒否する) \\\n",
    "13: THREATEN (脅迫する) \\\n",
    "14: PROTEST (抗議する) \\\n",
    "19: USE CONVENTIONAL MILITARY FORCE (通常戦力を行使する) \\\n",
    "\n",
    "### Goldstein\n",
    "各イベントコードに割り当てられた、-10（極めて対立的）から+10（極めて協力的）までのスコア。国家間の関係性の安定度を測る指標。\n",
    "\n",
    "### Average Tone\n",
    "ニュース記事全体の感情的なトーンを示す指標。-100（極端にネガティブ）から+100（極端にポジティブ）までの値を取り、メディアの論調を測る指標。\n",
    "\n",
    "\n"
   ]
  },
  {
   "cell_type": "code",
   "execution_count": null,
   "id": "a5288f12",
   "metadata": {},
   "outputs": [],
   "source": [
    "import os\n",
    "import zipfile\n",
    "import requests\n",
    "import pandas as pd\n",
    "import pyarrow as pa\n",
    "import pyarrow.parquet as pq\n",
    "from pathlib import Path\n",
    "from datetime import datetime, timedelta\n",
    "from tqdm import tqdm\n",
    "import logging\n",
    "import gc \n",
    "\n",
    "\n",
    "logging.basicConfig(level=logging.INFO, format='%(asctime)s - %(levelname)s - %(message)s')\n",
    "\n",
    "BASE = \"http://data.gdeltproject.org/events\"\n",
    "OUT  = Path(\"data\") \n",
    "OUT.mkdir(exist_ok=True)\n",
    "\n",
    "\n",
    "start_date = datetime(2022, 4, 1)\n",
    "end_date   = datetime(2025, 5, 30) \n",
    "\n",
    "current_date = start_date\n",
    "downloaded_files = []\n",
    "\n",
    "logging.info(f\"Starting download process for dates: {start_date.strftime('%Y-%m-%d')} to {end_date.strftime('%Y-%m-%d')}\")\n",
    "\n",
    "while current_date <= end_date:\n",
    "    fname = f\"{current_date:%Y%m%d}.export.CSV.zip\"\n",
    "    url   = f\"{BASE}/{fname}\"\n",
    "    local_zip_path = OUT / fname\n",
    "\n",
    "    if not local_zip_path.exists():\n",
    "        logging.info(f\"Downloading {fname} from {url}...\")\n",
    "        try:\n",
    "            r = requests.get(url, stream=True, timeout=60) \n",
    "            r.raise_for_status()\n",
    "            \n",
    "            content_type = r.headers.get('content-type', '').lower()\n",
    "            is_zip_content = 'application/zip' in content_type or \\\n",
    "                             'application/octet-stream' in content_type or \\\n",
    "                             'application/x-zip-compressed' in content_type\n",
    "            \n",
    "\n",
    "            content_length = int(r.headers.get('content-length', 0)) \n",
    "            \n",
    "            if not is_zip_content and content_length < 10000 and 'text/html' in content_type:\n",
    "                logging.warning(f\"Skipping {fname}: Unexpected content-type '{content_type}' and small size ({content_length} bytes). Might be an error page.\")\n",
    "                current_date += timedelta(days=1)\n",
    "                continue\n",
    "            if is_zip_content and content_length > 0 and content_length < 1024: \n",
    "                 logging.warning(f\"Skipping {fname}: ZIP file size ({content_length} bytes) is suspiciously small. May be empty or corrupted.\")\n",
    "                 current_date += timedelta(days=1)\n",
    "                 continue\n",
    "\n",
    "\n",
    "            with open(local_zip_path, \"wb\") as f:\n",
    "                for chunk in r.iter_content(1024*1024):\n",
    "                    f.write(chunk)\n",
    "            \n",
    "            try:\n",
    "                with zipfile.ZipFile(local_zip_path, 'r') as test_zf:\n",
    "                    if not test_zf.namelist():\n",
    "                        logging.warning(f\"Downloaded file {fname} is an empty ZIP. Deleting and skipping.\")\n",
    "                        local_zip_path.unlink() \n",
    "                        current_date += timedelta(days=1)\n",
    "                        continue\n",
    "                logging.info(f\"Successfully downloaded and verified {fname}\")\n",
    "                downloaded_files.append(local_zip_path)\n",
    "            except zipfile.BadZipFile:\n",
    "                logging.error(f\"Downloaded file {fname} is not a valid ZIP. Deleting and skipping.\")\n",
    "                if local_zip_path.exists(): local_zip_path.unlink()\n",
    "                current_date += timedelta(days=1)\n",
    "                continue\n",
    "                \n",
    "        except requests.exceptions.HTTPError as e:\n",
    "            logging.error(f\"HTTP error downloading {fname}: {e}. Server might not have this file yet or other issue.\")\n",
    "        except requests.exceptions.RequestException as e:\n",
    "            logging.error(f\"Error downloading {fname}: {e}\")\n",
    "            if local_zip_path.exists():\n",
    "                try:\n",
    "                    local_zip_path.unlink(missing_ok=True)\n",
    "                except OSError: pass \n",
    "        except Exception as e:\n",
    "            logging.error(f\"An unexpected error occurred during download of {fname}: {e}\")\n",
    "    else:\n",
    "        logging.info(f\"{fname} already exists. Assuming valid and adding to process list.\")\n",
    "        downloaded_files.append(local_zip_path)\n",
    "    \n",
    "    current_date += timedelta(days=1)\n",
    "\n",
    "logging.info(f\"Download process finished. {len(downloaded_files)} files to process.\")\n",
    "if not downloaded_files:\n",
    "    logging.warning(\"No files were downloaded or found. Exiting processing.\")\n",
    "    exit()\n",
    "    \n",
    "logging.info(\"Starting Parquet conversion and writing process...\")\n",
    "\n",
    "usecols_super_enhanced = [\n",
    "    0, 1, 6, 7, 12, 16, 17, 22, 25, 26, 29, 30, 31, 34, 52, 53, 54, 55, 56, 57\n",
    "]\n",
    "colnames_super_enhanced = [\n",
    "    \"GLOBALEVENTID\", \"SQLDATE\",\n",
    "    \"Actor1Name\", \"Actor1CountryCode\", \"Actor1Type1Code\",\n",
    "    \"Actor2Name\", \"Actor2CountryCode\", \"Actor2Type1Code\",\n",
    "    \"EventCodeFull\", \"EventRootCode\", \"QuadClass\", \"GoldsteinScale\",\n",
    "    \"NumMentions\", \"AvgTone\",\n",
    "    \"ActionGeo_Fullname\", \"ActionGeo_CountryCode\", \"ActionGeo_ADM1Code\", \n",
    "    \"ActionGeo_Lat\", \"ActionGeo_Long\",\n",
    "    \"SOURCEURL\"\n",
    "]\n",
    "\n",
    "\n",
    "parquet_schema = pa.schema([\n",
    "    pa.field(\"GLOBALEVENTID\", pa.string()),\n",
    "    pa.field(\"SQLDATE\", pa.timestamp('ms')), \n",
    "    pa.field(\"Actor1Name\", pa.string()),\n",
    "    pa.field(\"Actor1CountryCode\", pa.string()), \n",
    "    pa.field(\"Actor1Type1Code\", pa.string()),\n",
    "    pa.field(\"Actor2Name\", pa.string()),\n",
    "    pa.field(\"Actor2CountryCode\", pa.string()),\n",
    "    pa.field(\"Actor2Type1Code\", pa.string()),\n",
    "    pa.field(\"EventCodeFull\", pa.string()),\n",
    "    pa.field(\"EventRootCode\", pa.string()),\n",
    "    pa.field(\"QuadClass\", pa.int8()),\n",
    "    pa.field(\"GoldsteinScale\", pa.float32()),\n",
    "    pa.field(\"NumMentions\", pa.int32()),\n",
    "    pa.field(\"AvgTone\", pa.float32()),\n",
    "    pa.field(\"ActionGeo_Fullname\", pa.string()),\n",
    "    pa.field(\"ActionGeo_CountryCode\", pa.string()),\n",
    "    pa.field(\"ActionGeo_ADM1Code\", pa.string()),\n",
    "    pa.field(\"ActionGeo_Lat\", pa.float32()),\n",
    "    pa.field(\"ActionGeo_Long\", pa.float32()),\n",
    "    pa.field(\"SOURCEURL\", pa.string())\n",
    "])\n",
    "\n",
    "csv_dtypes = {\n",
    "    1: str,\n",
    "    30: str,\n",
    "    31: str,\n",
    "    34: str,\n",
    "    29: str,\n",
    "    55: str,\n",
    "    56: str,\n",
    "}\n",
    "\n",
    "output_filename = f\"gdelt_events_{start_date.strftime('%Y%m%d')}_{end_date.strftime('%Y%m%d')}.parquet\"\n",
    "output_parquet_path = OUT / output_filename \n",
    "parquet_writer = None\n",
    "total_rows_written = 0\n",
    "\n",
    "try:\n",
    "    for zpath in tqdm(downloaded_files, desc=\"Processing ZIP files to Parquet\"):\n",
    "        if not zpath.exists():\n",
    "            logging.warning(f\"File {zpath} was in list but not found on disk. Skipping.\")\n",
    "            continue\n",
    "        \n",
    "        df = None\n",
    "        table = None \n",
    "\n",
    "        try:\n",
    "            with zipfile.ZipFile(zpath, 'r') as zf:\n",
    "                if not zf.namelist():\n",
    "                    logging.warning(f\"ZIP file {zpath.name} is empty. Skipping.\")\n",
    "                    continue\n",
    "                \n",
    "                csv_filename_in_zip = zf.namelist()[0]\n",
    "                with zf.open(csv_filename_in_zip) as f:\n",
    "                    df = pd.read_csv(\n",
    "                        f,\n",
    "                        sep=\"\\t\",\n",
    "                        header=None,\n",
    "                        names=None, \n",
    "                        usecols=usecols_super_enhanced,\n",
    "                        dtype=str,\n",
    "                        engine=\"c\", \n",
    "                        low_memory=False,\n",
    "                        on_bad_lines=\"skip\"\n",
    "                    )\n",
    "            \n",
    "            if df.empty:\n",
    "                logging.warning(f\"DataFrame from {zpath.name} is empty after read_csv. Skipping.\")\n",
    "                continue\n",
    "\n",
    "            if df.shape[1] == len(colnames_super_enhanced):\n",
    "                df.columns = colnames_super_enhanced\n",
    "\n",
    "                try:\n",
    "                    df[\"SQLDATE\"] = pd.to_datetime(df[\"SQLDATE\"], format='%Y%m%d', errors='coerce')\n",
    "                    df.dropna(subset=[\"SQLDATE\"], inplace=True) \n",
    "                    if df.empty:\n",
    "                        logging.warning(f\"No valid SQLDATE entries in {zpath.name} after coercion. Skipping.\")\n",
    "                        continue\n",
    "\n",
    "                    df[\"NumMentions\"] = pd.to_numeric(df[\"NumMentions\"], errors='coerce').astype('Int32')\n",
    "                    df[\"AvgTone\"] = pd.to_numeric(df[\"AvgTone\"], errors='coerce').astype('float32')\n",
    "                    df[\"GoldsteinScale\"] = pd.to_numeric(df[\"GoldsteinScale\"], errors='coerce').astype('float32')\n",
    "                    df[\"QuadClass\"] = pd.to_numeric(df[\"QuadClass\"], errors='coerce').astype('Int8') # pandas nullable Int8\n",
    "                    df[\"ActionGeo_Lat\"] = pd.to_numeric(df[\"ActionGeo_Lat\"], errors='coerce').astype('float32')\n",
    "                    df[\"ActionGeo_Long\"] = pd.to_numeric(df[\"ActionGeo_Long\"], errors='coerce').astype('float32')\n",
    "                    \n",
    "\n",
    "                    for col_name in colnames_super_enhanced:\n",
    "                        if df[col_name].dtype == 'object':\n",
    "                            df[col_name] = df[col_name].fillna('')\n",
    "\n",
    "                except Exception as e_convert_daily:\n",
    "                    logging.error(f\"Error during type conversion for {zpath.name}: {e_convert_daily}. Skipping this file.\")\n",
    "                    continue\n",
    "                \n",
    "                if df.empty:\n",
    "                    logging.warning(f\"DataFrame from {zpath.name} became empty after type conversion. Skipping.\")\n",
    "                    continue\n",
    "                \n",
    "                try:\n",
    "                    table = pa.Table.from_pandas(df, schema=parquet_schema, preserve_index=False)\n",
    "                except Exception as e_to_arrow:\n",
    "                    logging.error(f\"Error converting DataFrame from {zpath.name} to Arrow Table: {e_to_arrow}. Skipping this file.\")\n",
    "                    logging.error(f\"DataFrame dtypes at point of failure for {zpath.name}:\\n{df.dtypes.to_string()}\")\n",
    "                    continue\n",
    "\n",
    "                if parquet_writer is None:\n",
    "                    parquet_writer = pq.ParquetWriter(output_parquet_path, parquet_schema, compression='snappy')\n",
    "                \n",
    "                parquet_writer.write_table(table)\n",
    "                total_rows_written += len(df)\n",
    "\n",
    "            else:\n",
    "                logging.warning(f\"Skipping data from {zpath.name}: Expected {len(colnames_super_enhanced)} columns but got {df.shape[1]}. `on_bad_lines='skip'` might have affected row structure.\")\n",
    "\n",
    "        except zipfile.BadZipFile:\n",
    "            logging.error(f\"File {zpath.name} is not a valid ZIP file or is corrupted. Skipping.\")\n",
    "        except pd.errors.EmptyDataError:\n",
    "            logging.warning(f\"No data or columns to parse in {zpath.name} (or its CSV). Skipping.\")\n",
    "        except pd.errors.ParserError as e:\n",
    "            logging.error(f\"Error parsing CSV from {zpath.name}: {e}. Skipping.\")\n",
    "        except IndexError: \n",
    "            logging.error(f\"Could not access file list in zip {zpath.name}, it might be empty or malformed. Skipping.\")\n",
    "        except Exception as e:\n",
    "            logging.error(f\"An unexpected error occurred while processing {zpath.name}: {e}. Skipping.\")\n",
    "        finally:\n",
    "            del df\n",
    "            del table\n",
    "            gc.collect()\n",
    "\n",
    "finally:\n",
    "    if parquet_writer:\n",
    "        parquet_writer.close()\n",
    "        logging.info(f\"Parquet writer closed. Total rows written to {output_parquet_path}: {total_rows_written}\")\n",
    "    elif total_rows_written == 0 and downloaded_files:\n",
    "         logging.warning(\"No data was written to Parquet file, though files were processed.\")\n",
    "\n",
    "\n",
    "if total_rows_written > 0:\n",
    "    logging.info(f\"Successfully saved data to {output_parquet_path}. Total rows: {total_rows_written}\")\n",
    "else:\n",
    "    logging.warning(\"No dataframes were processed successfully or no rows were written. Parquet file might be empty or not created if no valid data was found.\")\n",
    "\n",
    "logging.info(\"Script finished.\")\n"
   ]
  },
  {
   "cell_type": "code",
   "execution_count": 5,
   "id": "e64995e5",
   "metadata": {},
   "outputs": [
    {
     "name": "stdout",
     "output_type": "stream",
     "text": [
      "[########################################] | 100% Completed | 16.85 s\n",
      "[########################################] | 100% Completed | 237.33 s\n",
      "[########################################] | 100% Completed | 13.16 s\n"
     ]
    },
    {
     "data": {
      "image/png": "[encoded data removed]",
      "text/plain": [
       "<Figure size 1200x600 with 1 Axes>"
      ]
     },
     "metadata": {},
     "output_type": "display_data"
    },
    {
     "name": "stdout",
     "output_type": "stream",
     "text": [
      "[########################################] | 100% Completed | 11.03 s\n"
     ]
    },
    {
     "data": {
      "image/png": "[encoded data removed]",
      "text/plain": [
       "<Figure size 1200x600 with 1 Axes>"
      ]
     },
     "metadata": {},
     "output_type": "display_data"
    },
    {
     "name": "stdout",
     "output_type": "stream",
     "text": [
      "[########################################] | 100% Completed | 123.67 s\n"
     ]
    },
    {
     "data": {
      "image/png": "[encoded data removed]",
      "text/plain": [
       "<Figure size 1500x500 with 2 Axes>"
      ]
     },
     "metadata": {},
     "output_type": "display_data"
    },
    {
     "name": "stdout",
     "output_type": "stream",
     "text": [
      "[########################################] | 100% Completed | 306.46 s\n",
      "[########################################] | 100% Completed | 123.31 s\n"
     ]
    },
    {
     "data": {
      "application/vnd.plotly.v1+json": {
       "config": {
        "plotlyServerURL": "https://plot.ly"
       },
       "data": [
        {
         "coloraxis": "coloraxis",
         "geo": "geo",
         "hovertemplate": "<b>%{hovertext}</b><br><br>Actor1CountryCode=%{location}<br>NumMentions=%{z}<extra></extra>",
         "hovertext": [
          "ABW",
          "AFG",
          "AFR",
          "AGO",
          "AIA",
          "ALB",
          "AND",
          "ARE",
          "ARG",
          "ARM",
          "ASA",
          "ATG",
          "AUS",
          "AUT",
          "AZE",
          "BDI",
          "BEL",
          "BEN",
          "BFA",
          "BGD",
          "BGR",
          "BHR",
          "BHS",
          "BLR",
          "BLZ",
          "BMU",
          "BOL",
          "BRA",
          "BRB",
          "BRN",
          "BTN",
          "BWA",
          "CAF",
          "CAN",
          "CAS",
          "CHE",
          "CHL",
          "CHN",
          "CIV",
          "CMR",
          "COD",
          "COG",
          "COK",
          "COL",
          "COM",
          "CPV",
          "CRB",
          "CRI",
          "CUB",
          "CYM",
          "CYP",
          "CZE",
          "DEU",
          "DJI",
          "DMA",
          "DNK",
          "DOM",
          "DZA",
          "EAF",
          "ECU",
          "EGY",
          "ERI",
          "ESP",
          "EST",
          "ETH",
          "EUR",
          "FIN",
          "FJI",
          "FRA",
          "FSM",
          "GAB",
          "GBR",
          "GEO",
          "GHA",
          "GIN",
          "GMB",
          "GNB",
          "GNQ",
          "GRC",
          "GRD",
          "GTM",
          "GUY",
          "HKG",
          "HND",
          "HRV",
          "HTI",
          "HUN",
          "IDN",
          "IND",
          "IRL",
          "IRN",
          "IRQ",
          "ISL",
          "ISR",
          "ITA",
          "JAM",
          "JOR",
          "JPN",
          "KAZ",
          "KEN",
          "KGZ",
          "KHM",
          "KIR",
          "KNA",
          "KOR",
          "KWT",
          "LAM",
          "LAO",
          "LBN",
          "LBR",
          "LBY",
          "LCA",
          "LIE",
          "LKA",
          "LSO",
          "LTU",
          "LUX",
          "LVA",
          "MAC",
          "MAR",
          "MCO",
          "MDA",
          "MDG",
          "MDV",
          "MEA",
          "MEX",
          "MHL",
          "MKD",
          "MLI",
          "MLT",
          "MMR",
          "MNG",
          "MOZ",
          "MRT",
          "MUS",
          "MWI",
          "MYS",
          "NAF",
          "NAM",
          "NER",
          "NGA",
          "NIC",
          "NLD",
          "NMR",
          "NOR",
          "NPL",
          "NRU",
          "NZL",
          "OMN",
          "PAK",
          "PAN",
          "PER",
          "PGS",
          "PHL",
          "PLW",
          "PNG",
          "POL",
          "PRI",
          "PRK",
          "PRT",
          "PRY",
          "PSE",
          "QAT",
          "ROM",
          "RUS",
          "RWA",
          "SAF",
          "SAM",
          "SAS",
          "SAU",
          "SCN",
          "SDN",
          "SEA",
          "SEN",
          "SGP",
          "SHN",
          "SLB",
          "SLE",
          "SLV",
          "SMR",
          "SOM",
          "SRB",
          "SSD",
          "STP",
          "SUR",
          "SVK",
          "SWE",
          "SWZ",
          "SYC",
          "SYR",
          "TCD",
          "TGO",
          "THA",
          "TJK",
          "TKM",
          "TMP",
          "TON",
          "TTO",
          "TUN",
          "TUR",
          "TUV",
          "TWN",
          "TZA",
          "UGA",
          "UKR",
          "URY",
          "USA",
          "UZB",
          "VAT",
          "VCT",
          "VEN",
          "VNM",
          "VUT",
          "WAF",
          "WLF",
          "WSM",
          "WST",
          "YEM",
          "ZAF",
          "ZMB",
          "ZWE",
          "CAU"
         ],
         "locations": [
          "ABW",
          "AFG",
          "AFR",
          "AGO",
          "AIA",
          "ALB",
          "AND",
          "ARE",
          "ARG",
          "ARM",
          "ASA",
          "ATG",
          "AUS",
          "AUT",
          "AZE",
          "BDI",
          "BEL",
          "BEN",
          "BFA",
          "BGD",
          "BGR",
          "BHR",
          "BHS",
          "BLR",
          "BLZ",
          "BMU",
          "BOL",
          "BRA",
          "BRB",
          "BRN",
          "BTN",
          "BWA",
          "CAF",
          "CAN",
          "CAS",
          "CHE",
          "CHL",
          "CHN",
          "CIV",
          "CMR",
          "COD",
          "COG",
          "COK",
          "COL",
          "COM",
          "CPV",
          "CRB",
          "CRI",
          "CUB",
          "CYM",
          "CYP",
          "CZE",
          "DEU",
          "DJI",
          "DMA",
          "DNK",
          "DOM",
          "DZA",
          "EAF",
          "ECU",
          "EGY",
          "ERI",
          "ESP",
          "EST",
          "ETH",
          "EUR",
          "FIN",
          "FJI",
          "FRA",
          "FSM",
          "GAB",
          "GBR",
          "GEO",
          "GHA",
          "GIN",
          "GMB",
          "GNB",
          "GNQ",
          "GRC",
          "GRD",
          "GTM",
          "GUY",
          "HKG",
          "HND",
          "HRV",
          "HTI",
          "HUN",
          "IDN",
          "IND",
          "IRL",
          "IRN",
          "IRQ",
          "ISL",
          "ISR",
          "ITA",
          "JAM",
          "JOR",
          "JPN",
          "KAZ",
          "KEN",
          "KGZ",
          "KHM",
          "KIR",
          "KNA",
          "KOR",
          "KWT",
          "LAM",
          "LAO",
          "LBN",
          "LBR",
          "LBY",
          "LCA",
          "LIE",
          "LKA",
          "LSO",
          "LTU",
          "LUX",
          "LVA",
          "MAC",
          "MAR",
          "MCO",
          "MDA",
          "MDG",
          "MDV",
          "MEA",
          "MEX",
          "MHL",
          "MKD",
          "MLI",
          "MLT",
          "MMR",
          "MNG",
          "MOZ",
          "MRT",
          "MUS",
          "MWI",
          "MYS",
          "NAF",
          "NAM",
          "NER",
          "NGA",
          "NIC",
          "NLD",
          "NMR",
          "NOR",
          "NPL",
          "NRU",
          "NZL",
          "OMN",
          "PAK",
          "PAN",
          "PER",
          "PGS",
          "PHL",
          "PLW",
          "PNG",
          "POL",
          "PRI",
          "PRK",
          "PRT",
          "PRY",
          "PSE",
          "QAT",
          "ROM",
          "RUS",
          "RWA",
          "SAF",
          "SAM",
          "SAS",
          "SAU",
          "SCN",
          "SDN",
          "SEA",
          "SEN",
          "SGP",
          "SHN",
          "SLB",
          "SLE",
          "SLV",
          "SMR",
          "SOM",
          "SRB",
          "SSD",
          "STP",
          "SUR",
          "SVK",
          "SWE",
          "SWZ",
          "SYC",
          "SYR",
          "TCD",
          "TGO",
          "THA",
          "TJK",
          "TKM",
          "TMP",
          "TON",
          "TTO",
          "TUN",
          "TUR",
          "TUV",
          "TWN",
          "TZA",
          "UGA",
          "UKR",
          "URY",
          "USA",
          "UZB",
          "VAT",
          "VCT",
          "VEN",
          "VNM",
          "VUT",
          "WAF",
          "WLF",
          "WSM",
          "WST",
          "YEM",
          "ZAF",
          "ZMB",
          "ZWE",
          "CAU"
         ],
         "name": "",
         "type": "choropleth",
         "z": {
          "bdata": "BNgAAHVjRgCcwXsA2vIDAOIxAADgjwYACCQAADYlKwA9mA4Ay6oaALosAQD7qwEA99/PAS8qDwA4NCYAIHMBAGVJHwBT5QIA2agEAOA1KgB3QgsA0oUIACGVCADp8xIA+/YDADVeAwA7PAUAzCAqAMNnAwCxnAMA2HoDACzBAgCNjQEA8/R/AWxLAACnTiUAzXAKALXNuQHWNQIAc5gDAAYZCgDFigUAF2MBACeXDwBpnAAAHJoAAOVoAABFiwMA5DcTACRnAQBGYwkAk20LAO1RjwCeQgUAaa0AAPoIHgDMOwYAENIHAKF/AAA74wcAWGlSABBfAgA21joAXRMIABDNDwBHoqsAxicWANweCAB7JMQAesQAAH73AQCVUSADRBIAAKgxKQB9kgIArz4FAOaOAABevgAA5+wqAIXZAgDZgwYAkVYJAFrDAAAotQQAoNEDAP1hEQDsbBUAdMAsAH2gwACbEqEAQ9ScAIvlIAC7gQUAs7nSAikgYABzehAAzyk0AN4BkAA2IAsAiOMrAP2SBgAPUxMAwfgAAPLvBgCJCGEAQrkIAIQLAAB8mgYAkIZCAE1/CAAeUAsAeVcCACdzAAAB0hsABPABAIXyCgAvrAMA/EUGAEtyAADYRAsAeqUIAHDmBgD0jwEA9wEaABcrAgCXxEsAkhUBAONzAgDolQcAVnUIAAxTFQBM8wQAQe8DAL0gAQABPwMAR+0GAH5CJwCwAAAAiEYFAPGcDACvW5AA+B8FAMX3KgAf8QYAwxgXAGnGEQCO4AAAXgc6ACiTCQARiZAAWOsHAGseDwBWgAEADytCANv/AADfnwcAohctACgAAABMfDQA6KQVAMY2AgB9oUcBklIsAAQLAADm2v8BAvIRAAuHAQDADQAAiF0DAO1+RgAQBQAAcRokAHEcEgBd4AYAmL4dAJwKAABNKgUAdCsDAB4VCwANJQAALI8MAADTCAAXZAcAHiYAAGo4AQAk9AgA970cACWFAACNpAIAE7o1AEwZCgAfLQEAbH4qACZfBACMUQQA1E8CAIbLAQD6DAUALhQKAOaOWgBR8QAA/hIyAIKJBwDI6w8ADa2qASl9AgBig98Q6KUJANstGAB/oQIA450WAEVtPwBlGwIAmL4FAPYBAABXugMARj0oAKg/EwCh9x4AAegFAHRrFgAbAAAA",
          "dtype": "i4"
         }
        }
       ],
       "layout": {
        "coloraxis": {
         "colorbar": {
          "title": {
           "text": "NumMentions"
          }
         },
         "colorscale": [
          [
           0,
           "#0d0887"
          ],
          [
           0.1111111111111111,
           "#46039f"
          ],
          [
           0.2222222222222222,
           "#7201a8"
          ],
          [
           0.3333333333333333,
           "#9c179e"
          ],
          [
           0.4444444444444444,
           "#bd3786"
          ],
          [
           0.5555555555555556,
           "#d8576b"
          ],
          [
           0.6666666666666666,
           "#ed7953"
          ],
          [
           0.7777777777777778,
           "#fb9f3a"
          ],
          [
           0.8888888888888888,
           "#fdca26"
          ],
          [
           1,
           "#f0f921"
          ]
         ]
        },
        "geo": {
         "center": {},
         "domain": {
          "x": [
           0,
           1
          ],
          "y": [
           0,
           1
          ]
         }
        },
        "legend": {
         "tracegroupgap": 0
        },
        "template": {
         "data": {
          "bar": [
           {
            "error_x": {
             "color": "#2a3f5f"
            },
            "error_y": {
             "color": "#2a3f5f"
            },
            "marker": {
             "line": {
              "color": "#E5ECF6",
              "width": 0.5
             },
             "pattern": {
              "fillmode": "overlay",
              "size": 10,
              "solidity": 0.2
             }
            },
            "type": "bar"
           }
          ],
          "barpolar": [
           {
            "marker": {
             "line": {
              "color": "#E5ECF6",
              "width": 0.5
             },
             "pattern": {
              "fillmode": "overlay",
              "size": 10,
              "solidity": 0.2
             }
            },
            "type": "barpolar"
           }
          ],
          "carpet": [
           {
            "aaxis": {
             "endlinecolor": "#2a3f5f",
             "gridcolor": "white",
             "linecolor": "white",
             "minorgridcolor": "white",
             "startlinecolor": "#2a3f5f"
            },
            "baxis": {
             "endlinecolor": "#2a3f5f",
             "gridcolor": "white",
             "linecolor": "white",
             "minorgridcolor": "white",
             "startlinecolor": "#2a3f5f"
            },
            "type": "carpet"
           }
          ],
          "choropleth": [
           {
            "colorbar": {
             "outlinewidth": 0,
             "ticks": ""
            },
            "type": "choropleth"
           }
          ],
          "contour": [
           {
            "colorbar": {
             "outlinewidth": 0,
             "ticks": ""
            },
            "colorscale": [
             [
              0,
              "#0d0887"
             ],
             [
              0.1111111111111111,
              "#46039f"
             ],
             [
              0.2222222222222222,
              "#7201a8"
             ],
             [
              0.3333333333333333,
              "#9c179e"
             ],
             [
              0.4444444444444444,
              "#bd3786"
             ],
             [
              0.5555555555555556,
              "#d8576b"
             ],
             [
              0.6666666666666666,
              "#ed7953"
             ],
             [
              0.7777777777777778,
              "#fb9f3a"
             ],
             [
              0.8888888888888888,
              "#fdca26"
             ],
             [
              1,
              "#f0f921"
             ]
            ],
            "type": "contour"
           }
          ],
          "contourcarpet": [
           {
            "colorbar": {
             "outlinewidth": 0,
             "ticks": ""
            },
            "type": "contourcarpet"
           }
          ],
          "heatmap": [
           {
            "colorbar": {
             "outlinewidth": 0,
             "ticks": ""
            },
            "colorscale": [
             [
              0,
              "#0d0887"
             ],
             [
              0.1111111111111111,
              "#46039f"
             ],
             [
              0.2222222222222222,
              "#7201a8"
             ],
             [
              0.3333333333333333,
              "#9c179e"
             ],
             [
              0.4444444444444444,
              "#bd3786"
             ],
             [
              0.5555555555555556,
              "#d8576b"
             ],
             [
              0.6666666666666666,
              "#ed7953"
             ],
             [
              0.7777777777777778,
              "#fb9f3a"
             ],
             [
              0.8888888888888888,
              "#fdca26"
             ],
             [
              1,
              "#f0f921"
             ]
            ],
            "type": "heatmap"
           }
          ],
          "histogram": [
           {
            "marker": {
             "pattern": {
              "fillmode": "overlay",
              "size": 10,
              "solidity": 0.2
             }
            },
            "type": "histogram"
           }
          ],
          "histogram2d": [
           {
            "colorbar": {
             "outlinewidth": 0,
             "ticks": ""
            },
            "colorscale": [
             [
              0,
              "#0d0887"
             ],
             [
              0.1111111111111111,
              "#46039f"
             ],
             [
              0.2222222222222222,
              "#7201a8"
             ],
             [
              0.3333333333333333,
              "#9c179e"
             ],
             [
              0.4444444444444444,
              "#bd3786"
             ],
             [
              0.5555555555555556,
              "#d8576b"
             ],
             [
              0.6666666666666666,
              "#ed7953"
             ],
             [
              0.7777777777777778,
              "#fb9f3a"
             ],
             [
              0.8888888888888888,
              "#fdca26"
             ],
             [
              1,
              "#f0f921"
             ]
            ],
            "type": "histogram2d"
           }
          ],
          "histogram2dcontour": [
           {
            "colorbar": {
             "outlinewidth": 0,
             "ticks": ""
            },
            "colorscale": [
             [
              0,
              "#0d0887"
             ],
             [
              0.1111111111111111,
              "#46039f"
             ],
             [
              0.2222222222222222,
              "#7201a8"
             ],
             [
              0.3333333333333333,
              "#9c179e"
             ],
             [
              0.4444444444444444,
              "#bd3786"
             ],
             [
              0.5555555555555556,
              "#d8576b"
             ],
             [
              0.6666666666666666,
              "#ed7953"
             ],
             [
              0.7777777777777778,
              "#fb9f3a"
             ],
             [
              0.8888888888888888,
              "#fdca26"
             ],
             [
              1,
              "#f0f921"
             ]
            ],
            "type": "histogram2dcontour"
           }
          ],
          "mesh3d": [
           {
            "colorbar": {
             "outlinewidth": 0,
             "ticks": ""
            },
            "type": "mesh3d"
           }
          ],
          "parcoords": [
           {
            "line": {
             "colorbar": {
              "outlinewidth": 0,
              "ticks": ""
             }
            },
            "type": "parcoords"
           }
          ],
          "pie": [
           {
            "automargin": true,
            "type": "pie"
           }
          ],
          "scatter": [
           {
            "fillpattern": {
             "fillmode": "overlay",
             "size": 10,
             "solidity": 0.2
            },
            "type": "scatter"
           }
          ],
          "scatter3d": [
           {
            "line": {
             "colorbar": {
              "outlinewidth": 0,
              "ticks": ""
             }
            },
            "marker": {
             "colorbar": {
              "outlinewidth": 0,
              "ticks": ""
             }
            },
            "type": "scatter3d"
           }
          ],
          "scattercarpet": [
           {
            "marker": {
             "colorbar": {
              "outlinewidth": 0,
              "ticks": ""
             }
            },
            "type": "scattercarpet"
           }
          ],
          "scattergeo": [
           {
            "marker": {
             "colorbar": {
              "outlinewidth": 0,
              "ticks": ""
             }
            },
            "type": "scattergeo"
           }
          ],
          "scattergl": [
           {
            "marker": {
             "colorbar": {
              "outlinewidth": 0,
              "ticks": ""
             }
            },
            "type": "scattergl"
           }
          ],
          "scattermap": [
           {
            "marker": {
             "colorbar": {
              "outlinewidth": 0,
              "ticks": ""
             }
            },
            "type": "scattermap"
           }
          ],
          "scattermapbox": [
           {
            "marker": {
             "colorbar": {
              "outlinewidth": 0,
              "ticks": ""
             }
            },
            "type": "scattermapbox"
           }
          ],
          "scatterpolar": [
           {
            "marker": {
             "colorbar": {
              "outlinewidth": 0,
              "ticks": ""
             }
            },
            "type": "scatterpolar"
           }
          ],
          "scatterpolargl": [
           {
            "marker": {
             "colorbar": {
              "outlinewidth": 0,
              "ticks": ""
             }
            },
            "type": "scatterpolargl"
           }
          ],
          "scatterternary": [
           {
            "marker": {
             "colorbar": {
              "outlinewidth": 0,
              "ticks": ""
             }
            },
            "type": "scatterternary"
           }
          ],
          "surface": [
           {
            "colorbar": {
             "outlinewidth": 0,
             "ticks": ""
            },
            "colorscale": [
             [
              0,
              "#0d0887"
             ],
             [
              0.1111111111111111,
              "#46039f"
             ],
             [
              0.2222222222222222,
              "#7201a8"
             ],
             [
              0.3333333333333333,
              "#9c179e"
             ],
             [
              0.4444444444444444,
              "#bd3786"
             ],
             [
              0.5555555555555556,
              "#d8576b"
             ],
             [
              0.6666666666666666,
              "#ed7953"
             ],
             [
              0.7777777777777778,
              "#fb9f3a"
             ],
             [
              0.8888888888888888,
              "#fdca26"
             ],
             [
              1,
              "#f0f921"
             ]
            ],
            "type": "surface"
           }
          ],
          "table": [
           {
            "cells": {
             "fill": {
              "color": "#EBF0F8"
             },
             "line": {
              "color": "white"
             }
            },
            "header": {
             "fill": {
              "color": "#C8D4E3"
             },
             "line": {
              "color": "white"
             }
            },
            "type": "table"
           }
          ]
         },
         "layout": {
          "annotationdefaults": {
           "arrowcolor": "#2a3f5f",
           "arrowhead": 0,
           "arrowwidth": 1
          },
          "autotypenumbers": "strict",
          "coloraxis": {
           "colorbar": {
            "outlinewidth": 0,
            "ticks": ""
           }
          },
          "colorscale": {
           "diverging": [
            [
             0,
             "#8e0152"
            ],
            [
             0.1,
             "#c51b7d"
            ],
            [
             0.2,
             "#de77ae"
            ],
            [
             0.3,
             "#f1b6da"
            ],
            [
             0.4,
             "#fde0ef"
            ],
            [
             0.5,
             "#f7f7f7"
            ],
            [
             0.6,
             "#e6f5d0"
            ],
            [
             0.7,
             "#b8e186"
            ],
            [
             0.8,
             "#7fbc41"
            ],
            [
             0.9,
             "#4d9221"
            ],
            [
             1,
             "#276419"
            ]
           ],
           "sequential": [
            [
             0,
             "#0d0887"
            ],
            [
             0.1111111111111111,
             "#46039f"
            ],
            [
             0.2222222222222222,
             "#7201a8"
            ],
            [
             0.3333333333333333,
             "#9c179e"
            ],
            [
             0.4444444444444444,
             "#bd3786"
            ],
            [
             0.5555555555555556,
             "#d8576b"
            ],
            [
             0.6666666666666666,
             "#ed7953"
            ],
            [
             0.7777777777777778,
             "#fb9f3a"
            ],
            [
             0.8888888888888888,
             "#fdca26"
            ],
            [
             1,
             "#f0f921"
            ]
           ],
           "sequentialminus": [
            [
             0,
             "#0d0887"
            ],
            [
             0.1111111111111111,
             "#46039f"
            ],
            [
             0.2222222222222222,
             "#7201a8"
            ],
            [
             0.3333333333333333,
             "#9c179e"
            ],
            [
             0.4444444444444444,
             "#bd3786"
            ],
            [
             0.5555555555555556,
             "#d8576b"
            ],
            [
             0.6666666666666666,
             "#ed7953"
            ],
            [
             0.7777777777777778,
             "#fb9f3a"
            ],
            [
             0.8888888888888888,
             "#fdca26"
            ],
            [
             1,
             "#f0f921"
            ]
           ]
          },
          "colorway": [
           "#636efa",
           "#EF553B",
           "#00cc96",
           "#ab63fa",
           "#FFA15A",
           "#19d3f3",
           "#FF6692",
           "#B6E880",
           "#FF97FF",
           "#FECB52"
          ],
          "font": {
           "color": "#2a3f5f"
          },
          "geo": {
           "bgcolor": "white",
           "lakecolor": "white",
           "landcolor": "#E5ECF6",
           "showlakes": true,
           "showland": true,
           "subunitcolor": "white"
          },
          "hoverlabel": {
           "align": "left"
          },
          "hovermode": "closest",
          "mapbox": {
           "style": "light"
          },
          "paper_bgcolor": "white",
          "plot_bgcolor": "#E5ECF6",
          "polar": {
           "angularaxis": {
            "gridcolor": "white",
            "linecolor": "white",
            "ticks": ""
           },
           "bgcolor": "#E5ECF6",
           "radialaxis": {
            "gridcolor": "white",
            "linecolor": "white",
            "ticks": ""
           }
          },
          "scene": {
           "xaxis": {
            "backgroundcolor": "#E5ECF6",
            "gridcolor": "white",
            "gridwidth": 2,
            "linecolor": "white",
            "showbackground": true,
            "ticks": "",
            "zerolinecolor": "white"
           },
           "yaxis": {
            "backgroundcolor": "#E5ECF6",
            "gridcolor": "white",
            "gridwidth": 2,
            "linecolor": "white",
            "showbackground": true,
            "ticks": "",
            "zerolinecolor": "white"
           },
           "zaxis": {
            "backgroundcolor": "#E5ECF6",
            "gridcolor": "white",
            "gridwidth": 2,
            "linecolor": "white",
            "showbackground": true,
            "ticks": "",
            "zerolinecolor": "white"
           }
          },
          "shapedefaults": {
           "line": {
            "color": "#2a3f5f"
           }
          },
          "ternary": {
           "aaxis": {
            "gridcolor": "white",
            "linecolor": "white",
            "ticks": ""
           },
           "baxis": {
            "gridcolor": "white",
            "linecolor": "white",
            "ticks": ""
           },
           "bgcolor": "#E5ECF6",
           "caxis": {
            "gridcolor": "white",
            "linecolor": "white",
            "ticks": ""
           }
          },
          "title": {
           "x": 0.05
          },
          "xaxis": {
           "automargin": true,
           "gridcolor": "white",
           "linecolor": "white",
           "ticks": "",
           "title": {
            "standoff": 15
           },
           "zerolinecolor": "white",
           "zerolinewidth": 2
          },
          "yaxis": {
           "automargin": true,
           "gridcolor": "white",
           "linecolor": "white",
           "ticks": "",
           "title": {
            "standoff": 15
           },
           "zerolinecolor": "white",
           "zerolinewidth": 2
          }
         }
        },
        "title": {
         "text": "Actor1CountryCode - NumMentions (sum)"
        }
       }
      }
     },
     "metadata": {},
     "output_type": "display_data"
    },
    {
     "name": "stdout",
     "output_type": "stream",
     "text": [
      "[########################################] | 100% Completed | 306.48 s\n",
      "[########################################] | 100% Completed | 129.65 s\n"
     ]
    },
    {
     "data": {
      "application/vnd.plotly.v1+json": {
       "config": {
        "plotlyServerURL": "https://plot.ly"
       },
       "data": [
        {
         "coloraxis": "coloraxis",
         "geo": "geo",
         "hovertemplate": "<b>%{hovertext}</b><br><br>Actor1CountryCode=%{location}<br>AvgTone=%{z}<extra></extra>",
         "hovertext": [
          "ABW",
          "AFG",
          "AFR",
          "AGO",
          "AIA",
          "ALB",
          "AND",
          "ARE",
          "ARG",
          "ARM",
          "ASA",
          "ATG",
          "AUS",
          "AUT",
          "AZE",
          "BDI",
          "BEL",
          "BEN",
          "BFA",
          "BGD",
          "BGR",
          "BHR",
          "BHS",
          "BLR",
          "BLZ",
          "BMU",
          "BOL",
          "BRA",
          "BRB",
          "BRN",
          "BTN",
          "BWA",
          "CAF",
          "CAN",
          "CAS",
          "CHE",
          "CHL",
          "CHN",
          "CIV",
          "CMR",
          "COD",
          "COG",
          "COK",
          "COL",
          "COM",
          "CPV",
          "CRB",
          "CRI",
          "CUB",
          "CYM",
          "CYP",
          "CZE",
          "DEU",
          "DJI",
          "DMA",
          "DNK",
          "DOM",
          "DZA",
          "EAF",
          "ECU",
          "EGY",
          "ERI",
          "ESP",
          "EST",
          "ETH",
          "EUR",
          "FIN",
          "FJI",
          "FRA",
          "FSM",
          "GAB",
          "GBR",
          "GEO",
          "GHA",
          "GIN",
          "GMB",
          "GNB",
          "GNQ",
          "GRC",
          "GRD",
          "GTM",
          "GUY",
          "HKG",
          "HND",
          "HRV",
          "HTI",
          "HUN",
          "IDN",
          "IND",
          "IRL",
          "IRN",
          "IRQ",
          "ISL",
          "ISR",
          "ITA",
          "JAM",
          "JOR",
          "JPN",
          "KAZ",
          "KEN",
          "KGZ",
          "KHM",
          "KIR",
          "KNA",
          "KOR",
          "KWT",
          "LAM",
          "LAO",
          "LBN",
          "LBR",
          "LBY",
          "LCA",
          "LIE",
          "LKA",
          "LSO",
          "LTU",
          "LUX",
          "LVA",
          "MAC",
          "MAR",
          "MCO",
          "MDA",
          "MDG",
          "MDV",
          "MEA",
          "MEX",
          "MHL",
          "MKD",
          "MLI",
          "MLT",
          "MMR",
          "MNG",
          "MOZ",
          "MRT",
          "MUS",
          "MWI",
          "MYS",
          "NAF",
          "NAM",
          "NER",
          "NGA",
          "NIC",
          "NLD",
          "NMR",
          "NOR",
          "NPL",
          "NRU",
          "NZL",
          "OMN",
          "PAK",
          "PAN",
          "PER",
          "PGS",
          "PHL",
          "PLW",
          "PNG",
          "POL",
          "PRI",
          "PRK",
          "PRT",
          "PRY",
          "PSE",
          "QAT",
          "ROM",
          "RUS",
          "RWA",
          "SAF",
          "SAM",
          "SAS",
          "SAU",
          "SCN",
          "SDN",
          "SEA",
          "SEN",
          "SGP",
          "SHN",
          "SLB",
          "SLE",
          "SLV",
          "SMR",
          "SOM",
          "SRB",
          "SSD",
          "STP",
          "SUR",
          "SVK",
          "SWE",
          "SWZ",
          "SYC",
          "SYR",
          "TCD",
          "TGO",
          "THA",
          "TJK",
          "TKM",
          "TMP",
          "TON",
          "TTO",
          "TUN",
          "TUR",
          "TUV",
          "TWN",
          "TZA",
          "UGA",
          "UKR",
          "URY",
          "USA",
          "UZB",
          "VAT",
          "VCT",
          "VEN",
          "VNM",
          "VUT",
          "WAF",
          "WLF",
          "WSM",
          "WST",
          "YEM",
          "ZAF",
          "ZMB",
          "ZWE",
          "CAU"
         ],
         "locations": [
          "ABW",
          "AFG",
          "AFR",
          "AGO",
          "AIA",
          "ALB",
          "AND",
          "ARE",
          "ARG",
          "ARM",
          "ASA",
          "ATG",
          "AUS",
          "AUT",
          "AZE",
          "BDI",
          "BEL",
          "BEN",
          "BFA",
          "BGD",
          "BGR",
          "BHR",
          "BHS",
          "BLR",
          "BLZ",
          "BMU",
          "BOL",
          "BRA",
          "BRB",
          "BRN",
          "BTN",
          "BWA",
          "CAF",
          "CAN",
          "CAS",
          "CHE",
          "CHL",
          "CHN",
          "CIV",
          "CMR",
          "COD",
          "COG",
          "COK",
          "COL",
          "COM",
          "CPV",
          "CRB",
          "CRI",
          "CUB",
          "CYM",
          "CYP",
          "CZE",
          "DEU",
          "DJI",
          "DMA",
          "DNK",
          "DOM",
          "DZA",
          "EAF",
          "ECU",
          "EGY",
          "ERI",
          "ESP",
          "EST",
          "ETH",
          "EUR",
          "FIN",
          "FJI",
          "FRA",
          "FSM",
          "GAB",
          "GBR",
          "GEO",
          "GHA",
          "GIN",
          "GMB",
          "GNB",
          "GNQ",
          "GRC",
          "GRD",
          "GTM",
          "GUY",
          "HKG",
          "HND",
          "HRV",
          "HTI",
          "HUN",
          "IDN",
          "IND",
          "IRL",
          "IRN",
          "IRQ",
          "ISL",
          "ISR",
          "ITA",
          "JAM",
          "JOR",
          "JPN",
          "KAZ",
          "KEN",
          "KGZ",
          "KHM",
          "KIR",
          "KNA",
          "KOR",
          "KWT",
          "LAM",
          "LAO",
          "LBN",
          "LBR",
          "LBY",
          "LCA",
          "LIE",
          "LKA",
          "LSO",
          "LTU",
          "LUX",
          "LVA",
          "MAC",
          "MAR",
          "MCO",
          "MDA",
          "MDG",
          "MDV",
          "MEA",
          "MEX",
          "MHL",
          "MKD",
          "MLI",
          "MLT",
          "MMR",
          "MNG",
          "MOZ",
          "MRT",
          "MUS",
          "MWI",
          "MYS",
          "NAF",
          "NAM",
          "NER",
          "NGA",
          "NIC",
          "NLD",
          "NMR",
          "NOR",
          "NPL",
          "NRU",
          "NZL",
          "OMN",
          "PAK",
          "PAN",
          "PER",
          "PGS",
          "PHL",
          "PLW",
          "PNG",
          "POL",
          "PRI",
          "PRK",
          "PRT",
          "PRY",
          "PSE",
          "QAT",
          "ROM",
          "RUS",
          "RWA",
          "SAF",
          "SAM",
          "SAS",
          "SAU",
          "SCN",
          "SDN",
          "SEA",
          "SEN",
          "SGP",
          "SHN",
          "SLB",
          "SLE",
          "SLV",
          "SMR",
          "SOM",
          "SRB",
          "SSD",
          "STP",
          "SUR",
          "SVK",
          "SWE",
          "SWZ",
          "SYC",
          "SYR",
          "TCD",
          "TGO",
          "THA",
          "TJK",
          "TKM",
          "TMP",
          "TON",
          "TTO",
          "TUN",
          "TUR",
          "TUV",
          "TWN",
          "TZA",
          "UGA",
          "UKR",
          "URY",
          "USA",
          "UZB",
          "VAT",
          "VCT",
          "VEN",
          "VNM",
          "VUT",
          "WAF",
          "WLF",
          "WSM",
          "WST",
          "YEM",
          "ZAF",
          "ZMB",
          "ZWE",
          "CAU"
         ],
         "name": "",
         "type": "choropleth",
         "z": {
          "bdata": "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",
          "dtype": "f8"
         }
        }
       ],
       "layout": {
        "coloraxis": {
         "colorbar": {
          "title": {
           "text": "AvgTone"
          }
         },
         "colorscale": [
          [
           0,
           "#0d0887"
          ],
          [
           0.1111111111111111,
           "#46039f"
          ],
          [
           0.2222222222222222,
           "#7201a8"
          ],
          [
           0.3333333333333333,
           "#9c179e"
          ],
          [
           0.4444444444444444,
           "#bd3786"
          ],
          [
           0.5555555555555556,
           "#d8576b"
          ],
          [
           0.6666666666666666,
           "#ed7953"
          ],
          [
           0.7777777777777778,
           "#fb9f3a"
          ],
          [
           0.8888888888888888,
           "#fdca26"
          ],
          [
           1,
           "#f0f921"
          ]
         ]
        },
        "geo": {
         "center": {},
         "domain": {
          "x": [
           0,
           1
          ],
          "y": [
           0,
           1
          ]
         }
        },
        "legend": {
         "tracegroupgap": 0
        },
        "template": {
         "data": {
          "bar": [
           {
            "error_x": {
             "color": "#2a3f5f"
            },
            "error_y": {
             "color": "#2a3f5f"
            },
            "marker": {
             "line": {
              "color": "#E5ECF6",
              "width": 0.5
             },
             "pattern": {
              "fillmode": "overlay",
              "size": 10,
              "solidity": 0.2
             }
            },
            "type": "bar"
           }
          ],
          "barpolar": [
           {
            "marker": {
             "line": {
              "color": "#E5ECF6",
              "width": 0.5
             },
             "pattern": {
              "fillmode": "overlay",
              "size": 10,
              "solidity": 0.2
             }
            },
            "type": "barpolar"
           }
          ],
          "carpet": [
           {
            "aaxis": {
             "endlinecolor": "#2a3f5f",
             "gridcolor": "white",
             "linecolor": "white",
             "minorgridcolor": "white",
             "startlinecolor": "#2a3f5f"
            },
            "baxis": {
             "endlinecolor": "#2a3f5f",
             "gridcolor": "white",
             "linecolor": "white",
             "minorgridcolor": "white",
             "startlinecolor": "#2a3f5f"
            },
            "type": "carpet"
           }
          ],
          "choropleth": [
           {
            "colorbar": {
             "outlinewidth": 0,
             "ticks": ""
            },
            "type": "choropleth"
           }
          ],
          "contour": [
           {
            "colorbar": {
             "outlinewidth": 0,
             "ticks": ""
            },
            "colorscale": [
             [
              0,
              "#0d0887"
             ],
             [
              0.1111111111111111,
              "#46039f"
             ],
             [
              0.2222222222222222,
              "#7201a8"
             ],
             [
              0.3333333333333333,
              "#9c179e"
             ],
             [
              0.4444444444444444,
              "#bd3786"
             ],
             [
              0.5555555555555556,
              "#d8576b"
             ],
             [
              0.6666666666666666,
              "#ed7953"
             ],
             [
              0.7777777777777778,
              "#fb9f3a"
             ],
             [
              0.8888888888888888,
              "#fdca26"
             ],
             [
              1,
              "#f0f921"
             ]
            ],
            "type": "contour"
           }
          ],
          "contourcarpet": [
           {
            "colorbar": {
             "outlinewidth": 0,
             "ticks": ""
            },
            "type": "contourcarpet"
           }
          ],
          "heatmap": [
           {
            "colorbar": {
             "outlinewidth": 0,
             "ticks": ""
            },
            "colorscale": [
             [
              0,
              "#0d0887"
             ],
             [
              0.1111111111111111,
              "#46039f"
             ],
             [
              0.2222222222222222,
              "#7201a8"
             ],
             [
              0.3333333333333333,
              "#9c179e"
             ],
             [
              0.4444444444444444,
              "#bd3786"
             ],
             [
              0.5555555555555556,
              "#d8576b"
             ],
             [
              0.6666666666666666,
              "#ed7953"
             ],
             [
              0.7777777777777778,
              "#fb9f3a"
             ],
             [
              0.8888888888888888,
              "#fdca26"
             ],
             [
              1,
              "#f0f921"
             ]
            ],
            "type": "heatmap"
           }
          ],
          "histogram": [
           {
            "marker": {
             "pattern": {
              "fillmode": "overlay",
              "size": 10,
              "solidity": 0.2
             }
            },
            "type": "histogram"
           }
          ],
          "histogram2d": [
           {
            "colorbar": {
             "outlinewidth": 0,
             "ticks": ""
            },
            "colorscale": [
             [
              0,
              "#0d0887"
             ],
             [
              0.1111111111111111,
              "#46039f"
             ],
             [
              0.2222222222222222,
              "#7201a8"
             ],
             [
              0.3333333333333333,
              "#9c179e"
             ],
             [
              0.4444444444444444,
              "#bd3786"
             ],
             [
              0.5555555555555556,
              "#d8576b"
             ],
             [
              0.6666666666666666,
              "#ed7953"
             ],
             [
              0.7777777777777778,
              "#fb9f3a"
             ],
             [
              0.8888888888888888,
              "#fdca26"
             ],
             [
              1,
              "#f0f921"
             ]
            ],
            "type": "histogram2d"
           }
          ],
          "histogram2dcontour": [
           {
            "colorbar": {
             "outlinewidth": 0,
             "ticks": ""
            },
            "colorscale": [
             [
              0,
              "#0d0887"
             ],
             [
              0.1111111111111111,
              "#46039f"
             ],
             [
              0.2222222222222222,
              "#7201a8"
             ],
             [
              0.3333333333333333,
              "#9c179e"
             ],
             [
              0.4444444444444444,
              "#bd3786"
             ],
             [
              0.5555555555555556,
              "#d8576b"
             ],
             [
              0.6666666666666666,
              "#ed7953"
             ],
             [
              0.7777777777777778,
              "#fb9f3a"
             ],
             [
              0.8888888888888888,
              "#fdca26"
             ],
             [
              1,
              "#f0f921"
             ]
            ],
            "type": "histogram2dcontour"
           }
          ],
          "mesh3d": [
           {
            "colorbar": {
             "outlinewidth": 0,
             "ticks": ""
            },
            "type": "mesh3d"
           }
          ],
          "parcoords": [
           {
            "line": {
             "colorbar": {
              "outlinewidth": 0,
              "ticks": ""
             }
            },
            "type": "parcoords"
           }
          ],
          "pie": [
           {
            "automargin": true,
            "type": "pie"
           }
          ],
          "scatter": [
           {
            "fillpattern": {
             "fillmode": "overlay",
             "size": 10,
             "solidity": 0.2
            },
            "type": "scatter"
           }
          ],
          "scatter3d": [
           {
            "line": {
             "colorbar": {
              "outlinewidth": 0,
              "ticks": ""
             }
            },
            "marker": {
             "colorbar": {
              "outlinewidth": 0,
              "ticks": ""
             }
            },
            "type": "scatter3d"
           }
          ],
          "scattercarpet": [
           {
            "marker": {
             "colorbar": {
              "outlinewidth": 0,
              "ticks": ""
             }
            },
            "type": "scattercarpet"
           }
          ],
          "scattergeo": [
           {
            "marker": {
             "colorbar": {
              "outlinewidth": 0,
              "ticks": ""
             }
            },
            "type": "scattergeo"
           }
          ],
          "scattergl": [
           {
            "marker": {
             "colorbar": {
              "outlinewidth": 0,
              "ticks": ""
             }
            },
            "type": "scattergl"
           }
          ],
          "scattermap": [
           {
            "marker": {
             "colorbar": {
              "outlinewidth": 0,
              "ticks": ""
             }
            },
            "type": "scattermap"
           }
          ],
          "scattermapbox": [
           {
            "marker": {
             "colorbar": {
              "outlinewidth": 0,
              "ticks": ""
             }
            },
            "type": "scattermapbox"
           }
          ],
          "scatterpolar": [
           {
            "marker": {
             "colorbar": {
              "outlinewidth": 0,
              "ticks": ""
             }
            },
            "type": "scatterpolar"
           }
          ],
          "scatterpolargl": [
           {
            "marker": {
             "colorbar": {
              "outlinewidth": 0,
              "ticks": ""
             }
            },
            "type": "scatterpolargl"
           }
          ],
          "scatterternary": [
           {
            "marker": {
             "colorbar": {
              "outlinewidth": 0,
              "ticks": ""
             }
            },
            "type": "scatterternary"
           }
          ],
          "surface": [
           {
            "colorbar": {
             "outlinewidth": 0,
             "ticks": ""
            },
            "colorscale": [
             [
              0,
              "#0d0887"
             ],
             [
              0.1111111111111111,
              "#46039f"
             ],
             [
              0.2222222222222222,
              "#7201a8"
             ],
             [
              0.3333333333333333,
              "#9c179e"
             ],
             [
              0.4444444444444444,
              "#bd3786"
             ],
             [
              0.5555555555555556,
              "#d8576b"
             ],
             [
              0.6666666666666666,
              "#ed7953"
             ],
             [
              0.7777777777777778,
              "#fb9f3a"
             ],
             [
              0.8888888888888888,
              "#fdca26"
             ],
             [
              1,
              "#f0f921"
             ]
            ],
            "type": "surface"
           }
          ],
          "table": [
           {
            "cells": {
             "fill": {
              "color": "#EBF0F8"
             },
             "line": {
              "color": "white"
             }
            },
            "header": {
             "fill": {
              "color": "#C8D4E3"
             },
             "line": {
              "color": "white"
             }
            },
            "type": "table"
           }
          ]
         },
         "layout": {
          "annotationdefaults": {
           "arrowcolor": "#2a3f5f",
           "arrowhead": 0,
           "arrowwidth": 1
          },
          "autotypenumbers": "strict",
          "coloraxis": {
           "colorbar": {
            "outlinewidth": 0,
            "ticks": ""
           }
          },
          "colorscale": {
           "diverging": [
            [
             0,
             "#8e0152"
            ],
            [
             0.1,
             "#c51b7d"
            ],
            [
             0.2,
             "#de77ae"
            ],
            [
             0.3,
             "#f1b6da"
            ],
            [
             0.4,
             "#fde0ef"
            ],
            [
             0.5,
             "#f7f7f7"
            ],
            [
             0.6,
             "#e6f5d0"
            ],
            [
             0.7,
             "#b8e186"
            ],
            [
             0.8,
             "#7fbc41"
            ],
            [
             0.9,
             "#4d9221"
            ],
            [
             1,
             "#276419"
            ]
           ],
           "sequential": [
            [
             0,
             "#0d0887"
            ],
            [
             0.1111111111111111,
             "#46039f"
            ],
            [
             0.2222222222222222,
             "#7201a8"
            ],
            [
             0.3333333333333333,
             "#9c179e"
            ],
            [
             0.4444444444444444,
             "#bd3786"
            ],
            [
             0.5555555555555556,
             "#d8576b"
            ],
            [
             0.6666666666666666,
             "#ed7953"
            ],
            [
             0.7777777777777778,
             "#fb9f3a"
            ],
            [
             0.8888888888888888,
             "#fdca26"
            ],
            [
             1,
             "#f0f921"
            ]
           ],
           "sequentialminus": [
            [
             0,
             "#0d0887"
            ],
            [
             0.1111111111111111,
             "#46039f"
            ],
            [
             0.2222222222222222,
             "#7201a8"
            ],
            [
             0.3333333333333333,
             "#9c179e"
            ],
            [
             0.4444444444444444,
             "#bd3786"
            ],
            [
             0.5555555555555556,
             "#d8576b"
            ],
            [
             0.6666666666666666,
             "#ed7953"
            ],
            [
             0.7777777777777778,
             "#fb9f3a"
            ],
            [
             0.8888888888888888,
             "#fdca26"
            ],
            [
             1,
             "#f0f921"
            ]
           ]
          },
          "colorway": [
           "#636efa",
           "#EF553B",
           "#00cc96",
           "#ab63fa",
           "#FFA15A",
           "#19d3f3",
           "#FF6692",
           "#B6E880",
           "#FF97FF",
           "#FECB52"
          ],
          "font": {
           "color": "#2a3f5f"
          },
          "geo": {
           "bgcolor": "white",
           "lakecolor": "white",
           "landcolor": "#E5ECF6",
           "showlakes": true,
           "showland": true,
           "subunitcolor": "white"
          },
          "hoverlabel": {
           "align": "left"
          },
          "hovermode": "closest",
          "mapbox": {
           "style": "light"
          },
          "paper_bgcolor": "white",
          "plot_bgcolor": "#E5ECF6",
          "polar": {
           "angularaxis": {
            "gridcolor": "white",
            "linecolor": "white",
            "ticks": ""
           },
           "bgcolor": "#E5ECF6",
           "radialaxis": {
            "gridcolor": "white",
            "linecolor": "white",
            "ticks": ""
           }
          },
          "scene": {
           "xaxis": {
            "backgroundcolor": "#E5ECF6",
            "gridcolor": "white",
            "gridwidth": 2,
            "linecolor": "white",
            "showbackground": true,
            "ticks": "",
            "zerolinecolor": "white"
           },
           "yaxis": {
            "backgroundcolor": "#E5ECF6",
            "gridcolor": "white",
            "gridwidth": 2,
            "linecolor": "white",
            "showbackground": true,
            "ticks": "",
            "zerolinecolor": "white"
           },
           "zaxis": {
            "backgroundcolor": "#E5ECF6",
            "gridcolor": "white",
            "gridwidth": 2,
            "linecolor": "white",
            "showbackground": true,
            "ticks": "",
            "zerolinecolor": "white"
           }
          },
          "shapedefaults": {
           "line": {
            "color": "#2a3f5f"
           }
          },
          "ternary": {
           "aaxis": {
            "gridcolor": "white",
            "linecolor": "white",
            "ticks": ""
           },
           "baxis": {
            "gridcolor": "white",
            "linecolor": "white",
            "ticks": ""
           },
           "bgcolor": "#E5ECF6",
           "caxis": {
            "gridcolor": "white",
            "linecolor": "white",
            "ticks": ""
           }
          },
          "title": {
           "x": 0.05
          },
          "xaxis": {
           "automargin": true,
           "gridcolor": "white",
           "linecolor": "white",
           "ticks": "",
           "title": {
            "standoff": 15
           },
           "zerolinecolor": "white",
           "zerolinewidth": 2
          },
          "yaxis": {
           "automargin": true,
           "gridcolor": "white",
           "linecolor": "white",
           "ticks": "",
           "title": {
            "standoff": 15
           },
           "zerolinecolor": "white",
           "zerolinewidth": 2
          }
         }
        },
        "title": {
         "text": "Actor1CountryCode - AvgTone (mean)"
        }
       }
      }
     },
     "metadata": {},
     "output_type": "display_data"
    },
    {
     "name": "stdout",
     "output_type": "stream",
     "text": [
      "Visualization processes completed.\n"
     ]
    }
   ],
   "source": [
    "import pandas as pd\n",
    "import numpy as np\n",
    "import matplotlib.pyplot as plt\n",
    "import matplotlib.font_manager as fm\n",
    "import seaborn as sns\n",
    "import plotly.express as px\n",
    "import dask.dataframe as dd\n",
    "from dask.diagnostics import ProgressBar\n",
    "from wordcloud import WordCloud\n",
    "import re\n",
    "from collections import Counter\n",
    "from pathlib import Path\n",
    "from datetime import datetime\n",
    "\n",
    "try:\n",
    "    import japanize_matplotlib\n",
    "except ImportError:\n",
    "    pass\n",
    "\n",
    "plt.rcParams['axes.unicode_minus'] = False\n",
    "\n",
    "wordcloud_font_path = None\n",
    "try:\n",
    "    font_name_for_wc = 'IPAexGothic'\n",
    "    font_prop_wc = fm.FontProperties(family=font_name_for_wc)\n",
    "    found_path = fm.findfont(font_prop_wc, fallback_to_default=False)\n",
    "    if found_path and Path(found_path).exists():\n",
    "        wordcloud_font_path = found_path\n",
    "except Exception:\n",
    "    pass\n",
    "\n",
    "\n",
    "def load_gdelt_data_dask(gdelt_path_str, target_start_date=None, target_end_date=None, columns_to_load=None):\n",
    "    ddf_gdelt = None\n",
    "    gdelt_path = Path(gdelt_path_str)\n",
    "\n",
    "    if not (gdelt_path.is_dir() or (gdelt_path.is_file() and gdelt_path.suffix.lower() == '.parquet')):\n",
    "        return None\n",
    "\n",
    "    try:\n",
    "        filters = []\n",
    "        if target_start_date:\n",
    "            filters.append(('SQLDATE', '>=', pd.Timestamp(target_start_date)))\n",
    "        if target_end_date:\n",
    "            filters.append(('SQLDATE', '<=', pd.Timestamp(target_end_date)))\n",
    "        \n",
    "        ddf_gdelt = dd.read_parquet(\n",
    "            gdelt_path, \n",
    "            columns=columns_to_load,\n",
    "            filters=filters if filters else None,\n",
    "            engine='pyarrow' \n",
    "        )\n",
    "\n",
    "        with ProgressBar():\n",
    "            is_empty = ddf_gdelt.map_partitions(len).compute().sum() == 0\n",
    "        \n",
    "        if is_empty:\n",
    "            return None\n",
    "\n",
    "        if 'SQLDATE' in ddf_gdelt.columns:\n",
    "            if not pd.api.types.is_datetime64_any_dtype(ddf_gdelt['SQLDATE'].dtype):\n",
    "                ddf_gdelt['SQLDATE'] = dd.to_datetime(ddf_gdelt['SQLDATE'], errors='coerce')\n",
    "\n",
    "        numeric_cols_meta = {\n",
    "            'NumMentions': 'Int32', 'AvgTone': 'float32', 'GoldsteinScale': 'float32',\n",
    "            'ActionGeo_Lat': 'float32', 'ActionGeo_Long': 'float32', 'QuadClass': 'Int8'\n",
    "        }\n",
    "        for col, dtype in numeric_cols_meta.items():\n",
    "            if col in ddf_gdelt.columns:\n",
    "                if ddf_gdelt[col].dtype == 'object': \n",
    "                    ddf_gdelt[col] = dd.to_numeric(ddf_gdelt[col], errors='coerce')\n",
    "                \n",
    "                if dtype in ['Int32', 'Int8'] and col == 'NumMentions': \n",
    "                     ddf_gdelt[col] = ddf_gdelt[col].fillna(0) \n",
    "                \n",
    "                if ddf_gdelt[col].dtype.name.lower() != dtype.lower():\n",
    "                    try:\n",
    "                        ddf_gdelt[col] = ddf_gdelt[col].astype(dtype)\n",
    "                    except Exception: \n",
    "                        pass\n",
    "        \n",
    "        categorical_cols = [\n",
    "            'Actor1CountryCode', 'Actor2CountryCode', 'EventRootCode', 'EventCodeFull', \n",
    "            'Actor1Type1Code', 'Actor2Type1Code', 'ActionGeo_CountryCode', 'ActionGeo_ADM1Code',\n",
    "            'Actor1Name', 'Actor2Name', 'ActionGeo_Fullname', 'SOURCEURL', 'GLOBALEVENTID'\n",
    "        ]\n",
    "        for col in categorical_cols:\n",
    "            if col in ddf_gdelt.columns:\n",
    "                ddf_gdelt[col] = ddf_gdelt[col].astype(str).fillna('')\n",
    "\n",
    "    except Exception:\n",
    "        return None\n",
    "    return ddf_gdelt\n",
    "\n",
    "\n",
    "def plot_gdelt_choropleth_plotly_dask(ddf_gdelt, column='NumMentions', agg_func='sum', actor_country_col='Actor1CountryCode'):\n",
    "    if ddf_gdelt is None or ddf_gdelt.npartitions == 0 or actor_country_col not in ddf_gdelt.columns or column not in ddf_gdelt.columns:\n",
    "        return\n",
    "    ddf_gdelt_filtered = ddf_gdelt[ddf_gdelt[actor_country_col].astype(str).str.len() == 3].copy() \n",
    "    with ProgressBar(): \n",
    "        num_filtered_rows = ddf_gdelt_filtered.map_partitions(len).compute().sum()\n",
    "    \n",
    "    if num_filtered_rows == 0: return\n",
    "\n",
    "    if agg_func == 'sum':\n",
    "        country_data_dask = ddf_gdelt_filtered.groupby(actor_country_col)[column].sum()\n",
    "    elif agg_func == 'mean':\n",
    "        country_data_dask = ddf_gdelt_filtered.groupby(actor_country_col)[column].mean()\n",
    "    elif agg_func == 'max':\n",
    "        country_data_dask = ddf_gdelt_filtered.groupby(actor_country_col)[column].max()\n",
    "    else: \n",
    "        return\n",
    "\n",
    "    with ProgressBar(): \n",
    "        country_data_pd = country_data_dask.compute().reset_index()\n",
    "\n",
    "    if country_data_pd.empty: return\n",
    "    fig = px.choropleth(country_data_pd, locations=actor_country_col, color=column, hover_name=actor_country_col,\n",
    "                        color_continuous_scale=px.colors.sequential.Plasma, title=f'{actor_country_col} - {column} ({agg_func})')\n",
    "    fig.show()\n",
    "\n",
    "\n",
    "def plot_gdelt_timeseries_matplotlib_dask(ddf_gdelt, date_col='SQLDATE', value_col='NumMentions', agg_func='sum'):\n",
    "    if ddf_gdelt is None or ddf_gdelt.npartitions == 0 or date_col not in ddf_gdelt.columns or value_col not in ddf_gdelt.columns:\n",
    "        return\n",
    "    ddf_temp = ddf_gdelt[[date_col, value_col]].copy()\n",
    "    ddf_temp = ddf_temp.dropna(subset=[date_col]) \n",
    "\n",
    "    if not pd.api.types.is_datetime64_any_dtype(ddf_temp[date_col].dtype):\n",
    "        ddf_temp[date_col] = dd.to_datetime(ddf_temp[date_col], errors='coerce')\n",
    "        ddf_temp = ddf_temp.dropna(subset=[date_col])\n",
    "\n",
    "    ddf_indexed = ddf_temp.set_index(date_col, sorted=True)\n",
    "    try:\n",
    "        if agg_func == 'sum': \n",
    "            time_data_dask = ddf_indexed[value_col].resample('M').sum()\n",
    "        elif agg_func == 'mean': \n",
    "            time_data_dask = ddf_indexed[value_col].resample('M').mean()\n",
    "        elif agg_func == 'count': \n",
    "            time_data_dask = ddf_indexed[value_col].resample('M').count()\n",
    "        else: return\n",
    "        with ProgressBar(): \n",
    "            time_data_pd = time_data_dask.compute()\n",
    "    except Exception: \n",
    "        return\n",
    "\n",
    "    if time_data_pd.empty: return\n",
    "    plt.figure(figsize=(12, 6))\n",
    "    time_data_pd.plot(kind='line')\n",
    "    plt.title(f'{value_col} Time Series ({agg_func})')\n",
    "    plt.xlabel('Date')\n",
    "    plt.ylabel(value_col)\n",
    "    plt.grid(True)\n",
    "    plt.tight_layout()\n",
    "    plt.show()\n",
    "\n",
    "\n",
    "def plot_gdelt_type_heatmap_seaborn_dask(ddf_gdelt, date_col='SQLDATE', type_col='EventRootCode', value_col='NumMentions'):\n",
    "    if ddf_gdelt is None or ddf_gdelt.npartitions == 0 or date_col not in ddf_gdelt.columns or type_col not in ddf_gdelt.columns or value_col not in ddf_gdelt.columns:\n",
    "        return\n",
    "    ddf_temp = ddf_gdelt[[date_col, type_col, value_col]].copy()\n",
    "    ddf_temp = ddf_temp.dropna(subset=[date_col])\n",
    "\n",
    "    if not pd.api.types.is_datetime64_any_dtype(ddf_temp[date_col].dtype):\n",
    "        ddf_temp[date_col] = dd.to_datetime(ddf_temp[date_col], errors='coerce')\n",
    "        ddf_temp = ddf_temp.dropna(subset=[date_col])\n",
    "\n",
    "    ddf_temp = ddf_temp.assign(year_month=ddf_temp[date_col].dt.to_period('M'))\n",
    "    \n",
    "    heatmap_data_dask = ddf_temp.groupby(['year_month', type_col])[value_col].sum()\n",
    "    with ProgressBar(): \n",
    "        heatmap_data_pd = heatmap_data_dask.compute()\n",
    "\n",
    "    if heatmap_data_pd.empty: return\n",
    "    try:\n",
    "        heatmap_data_unstacked = heatmap_data_pd.unstack(level=type_col, fill_value=0).astype(float)\n",
    "    except Exception: \n",
    "        return\n",
    "    if heatmap_data_unstacked.empty: return\n",
    "    plt.figure(figsize=(15, 5))\n",
    "    sns.heatmap(heatmap_data_unstacked.T, cmap=\"YlGnBu\", annot=False)\n",
    "    plt.title(f'{value_col} Heatmap by Event Type and Month')\n",
    "    plt.xlabel('Month')\n",
    "    plt.ylabel('Event Type')\n",
    "    plt.tight_layout()\n",
    "    plt.show()\n",
    "\n",
    "\n",
    "if __name__ == '__main__':\n",
    "    gdelt_collection_start_date = datetime(2022, 4, 1)\n",
    "    gdelt_collection_end_date   = datetime(2025, 5, 30)\n",
    "\n",
    "    gdelt_output_dir_name = f\"gdelt_events_{gdelt_collection_start_date.strftime('%Y%m%d')}_{gdelt_collection_end_date.strftime('%Y%m%d')}.parquet\"\n",
    "    base_output_dir = Path(\"data\")\n",
    "    GDELT_PARQUET_PATH_DASK = base_output_dir / gdelt_output_dir_name\n",
    "    \n",
    "    NETFLOW_PARQUET_PATH = 'netflow_hourly.parquet' \n",
    "    TOKENS_PARQUET_PATH = 'event_tokens_hourly.parquet'   \n",
    "\n",
    "    gdelt_columns_to_load = [\n",
    "        \"SQLDATE\", \"NumMentions\", \"GoldsteinScale\", \"EventRootCode\", \n",
    "        \"AvgTone\", \"QuadClass\", \"Actor1CountryCode\", \"ActionGeo_CountryCode\",\n",
    "    ]\n",
    "\n",
    "    ddf_gdelt_loaded = load_gdelt_data_dask(\n",
    "        str(GDELT_PARQUET_PATH_DASK), \n",
    "        target_start_date=gdelt_collection_start_date, \n",
    "        target_end_date=gdelt_collection_end_date,\n",
    "        columns_to_load=gdelt_columns_to_load\n",
    "    )\n",
    "\n",
    "    ddf_gdelt_for_plotting = ddf_gdelt_loaded \n",
    "\n",
    "    if ddf_gdelt_for_plotting is not None and ddf_gdelt_for_plotting.npartitions > 0:\n",
    "        with ProgressBar():\n",
    "            is_ddf_empty = ddf_gdelt_for_plotting.map_partitions(len).compute().sum() == 0\n",
    "        \n",
    "        if not is_ddf_empty:\n",
    "            plot_gdelt_timeseries_matplotlib_dask(ddf_gdelt_for_plotting, date_col='SQLDATE', value_col='NumMentions', agg_func='sum')\n",
    "            plot_gdelt_timeseries_matplotlib_dask(ddf_gdelt_for_plotting, date_col='SQLDATE', value_col='GoldsteinScale', agg_func='mean')\n",
    "            plot_gdelt_type_heatmap_seaborn_dask(ddf_gdelt_for_plotting, date_col='SQLDATE', type_col='EventRootCode', value_col='NumMentions')\n",
    "            plot_gdelt_choropleth_plotly_dask(ddf_gdelt_for_plotting, column='NumMentions', agg_func='sum', actor_country_col='Actor1CountryCode')\n",
    "            plot_gdelt_choropleth_plotly_dask(ddf_gdelt_for_plotting, column='AvgTone', agg_func='mean', actor_country_col='Actor1CountryCode')\n",
    "\n",
    "    print(\"Visualization processes completed.\")\n"
   ]
  },
  {
   "cell_type": "code",
   "execution_count": null,
   "id": "799ce700",
   "metadata": {},
   "outputs": [
    {
     "name": "stdout",
     "output_type": "stream",
     "text": [
      "[########################################] | 100% Completed | 121.63 s\n",
      "[########################################] | 100% Completed | 111.32 ms\n",
      "[########################################] | 100% Completed | 650.29 ms\n"
     ]
    },
    {
     "data": {
      "image/png": "[encoded data removed]",
      "text/plain": [
       "<Figure size 1500x1200 with 2 Axes>"
      ]
     },
     "metadata": {},
     "output_type": "display_data"
    },
    {
     "name": "stdout",
     "output_type": "stream",
     "text": [
      "[########################################] | 100% Completed | 1.80 sms\n"
     ]
    },
    {
     "data": {
      "image/png": "[encoded data removed]",
      "text/plain": [
       "<Figure size 1200x800 with 1 Axes>"
      ]
     },
     "metadata": {},
     "output_type": "display_data"
    },
    {
     "name": "stdout",
     "output_type": "stream",
     "text": [
      "For CAMEO event code details, see https://www.gdeltproject.org/data/lookups/CAMEO.eventcodes.txt\n",
      "[########################################] | 100% Completed | 211.99 ms\n",
      "\n",
      "--- Top 5 Most Conflictual Events ---\n",
      "Date: 2022-04-01\n",
      "  Actors: JAPAN and CHINA\n",
      "  GoldsteinScale: -10.00, AvgTone: -5.47\n",
      "  Event Code: 1\n",
      "  Source URL: https://allafrica.com/stories/202204010362.html\n",
      "--------------------\n",
      "Date: 2022-04-01\n",
      "  Actors: CHINA and JAPAN\n",
      "  GoldsteinScale: -10.00, AvgTone: 0.67\n",
      "  Event Code: 0\n",
      "  Source URL: https://eurasiantimes.com/boosted-by-anglo-american-power-australia-looks-to-challenge-china-with-a-new-port-in-darwin-reports/\n",
      "--------------------\n",
      "Date: 2022-04-01\n",
      "  Actors: CHINA and JAPAN\n",
      "  GoldsteinScale: -10.00, AvgTone: 0.67\n",
      "  Event Code: 0\n",
      "  Source URL: https://eurasiantimes.com/boosted-by-anglo-american-power-australia-looks-to-challenge-china-with-a-new-port-in-darwin-reports/\n",
      "--------------------\n",
      "Date: 2022-04-02\n",
      "  Actors: JAPANESE and CHINA\n",
      "  GoldsteinScale: -10.00, AvgTone: -4.12\n",
      "  Event Code: 0\n",
      "  Source URL: https://www.chinafile.com/viewpoint/why-does-japans-wartime-ghost-keep-reemerging\n",
      "--------------------\n",
      "Date: 2022-04-02\n",
      "  Actors: JAPANESE and CHINA\n",
      "  GoldsteinScale: -10.00, AvgTone: -4.12\n",
      "  Event Code: 0\n",
      "  Source URL: https://www.chinafile.com/viewpoint/why-does-japans-wartime-ghost-keep-reemerging\n",
      "--------------------\n",
      "[########################################] | 100% Completed | 1.51 sms\n",
      "[########################################] | 100% Completed | 1.59 sms\n"
     ]
    },
    {
     "data": {
      "image/png": "[encoded data removed]",
      "text/plain": [
       "<Figure size 2000x800 with 2 Axes>"
      ]
     },
     "metadata": {},
     "output_type": "display_data"
    },
    {
     "name": "stdout",
     "output_type": "stream",
     "text": [
      "[########################################] | 100% Completed | 111.71 ms\n",
      "[########################################] | 100% Completed | 210.23 ms\n"
     ]
    },
    {
     "name": "stderr",
     "output_type": "stream",
     "text": [
      "/var/folders/hb/cmxv2jrx4_jfkh655ftk5x3r0000gn/T/ipykernel_38173/813262726.py:169: DeprecationWarning:\n",
      "\n",
      "*scatter_mapbox* is deprecated! Use *scatter_map* instead. Learn more at: https://plotly.com/python/mapbox-to-maplibre/\n",
      "\n"
     ]
    },
    {
     "data": {
      "application/vnd.plotly.v1+json": {
       "config": {
        "plotlyServerURL": "https://plot.ly"
       },
       "data": [
        {
         "customdata": [
          [
           "CHINA",
           "JAPAN",
           6,
           -10
          ],
          [
           "JAPANESE",
           "CHINA",
           5,
           -9
          ],
          [
           "JAPANESE",
           "NANJING",
           2,
           -9
          ],
          [
           "JAPAN",
           "CHINA",
           2,
           4
          ],
          [
           "JAPANESE",
           "CHINA",
           2,
           -10
          ],
          [
           "CHINA",
           "JAPAN",
           3,
           -4.400000095367432
          ],
          [
           "JAPAN",
           "CHINA",
           2,
           -10
          ],
          [
           "JAPAN",
           "CHINESE",
           5,
           -10
          ],
          [
           "CHINA",
           "JAPAN",
           2,
           -7
          ],
          [
           "JAPAN",
           "CHINESE",
           20,
           3
          ],
          [
           "CHINA",
           "JAPAN",
           1,
           -10
          ],
          [
           "CHINA",
           "JAPAN",
           6,
           -4
          ],
          [
           "TOKYO",
           "CHINA",
           10,
           3
          ],
          [
           "JAPAN",
           "CHINA",
           6,
           -5
          ],
          [
           "CHINA",
           "JAPAN",
           6,
           7
          ],
          [
           "TOKYO",
           "BEIJING",
           25,
           4
          ],
          [
           "CHINA",
           "JAPAN",
           4,
           -5
          ],
          [
           "JAPAN",
           "CHINA",
           6,
           4
          ],
          [
           "BEIJING",
           "JAPAN",
           2,
           3.5
          ],
          [
           "TOKYO",
           "CHINA",
           8,
           7
          ],
          [
           "CHINA",
           "JAPANESE",
           7,
           -10
          ],
          [
           "JAPANESE",
           "CHINESE",
           2,
           7
          ],
          [
           "JAPAN",
           "CHINA",
           14,
           -10
          ],
          [
           "TOKYO",
           "CHINA",
           1,
           -7.199999809265137
          ],
          [
           "JAPAN",
           "CHINESE",
           10,
           7.400000095367432
          ],
          [
           "CHINESE",
           "TOKYO",
           6,
           -4
          ],
          [
           "JAPAN",
           "CHINA",
           1,
           7.400000095367432
          ],
          [
           "JAPAN",
           "CHINA",
           2,
           7
          ],
          [
           "BEIJING",
           "TOKYO",
           4,
           4
          ],
          [
           "CHINA",
           "JAPAN",
           6,
           -4
          ],
          [
           "CHINA",
           "JAPAN",
           26,
           7
          ],
          [
           "TOKYO",
           "CHINA",
           32,
           7
          ],
          [
           "CHINESE",
           "TOKYO",
           48,
           -4
          ],
          [
           "CHINA",
           "TOKYO",
           6,
           4
          ],
          [
           "CHINESE",
           "JAPANESE",
           1,
           4
          ],
          [
           "CHINA",
           "JAPAN",
           4,
           7
          ],
          [
           "BEIJING",
           "JAPAN",
           4,
           -4.400000095367432
          ],
          [
           "CHINA",
           "JAPAN",
           2,
           7
          ],
          [
           "CHINA",
           "JAPAN",
           10,
           7
          ],
          [
           "TOKYO",
           "BEIJING",
           4,
           3.5
          ],
          [
           "JAPANESE",
           "CHINESE",
           4,
           7
          ],
          [
           "JAPAN",
           "CHINA",
           2,
           4
          ],
          [
           "CHINA",
           "JAPAN",
           6,
           -4.400000095367432
          ],
          [
           "JAPAN",
           "CHINA",
           1,
           -4
          ],
          [
           "JAPANESE",
           "CHINESE",
           3,
           4
          ],
          [
           "CHINESE",
           "TOKYO",
           8,
           -4
          ],
          [
           "JAPAN",
           "CHINA",
           1,
           4
          ],
          [
           "JAPAN",
           "CHINA",
           8,
           3.5
          ],
          [
           "CHINA",
           "JAPAN",
           4,
           7
          ],
          [
           "JAPAN",
           "CHINA",
           2,
           -4
          ],
          [
           "CHINA",
           "JAPAN",
           2,
           7
          ],
          [
           "CHINA",
           "JAPAN",
           10,
           -6.5
          ],
          [
           "CHINA",
           "TOKYO",
           6,
           7
          ],
          [
           "CHINESE",
           "JAPAN",
           2,
           3.4000000953674316
          ],
          [
           "CHINA",
           "JAPANESE",
           1,
           3
          ],
          [
           "TOKYO",
           "CHINA",
           20,
           -9.199999809265137
          ],
          [
           "CHINA",
           "JAPAN",
           2,
           -4
          ],
          [
           "BEIJING",
           "JAPAN",
           2,
           6.400000095367432
          ],
          [
           "JAPANESE",
           "CHINESE",
           1,
           3.4000000953674316
          ],
          [
           "JAPAN",
           "CHINA",
           10,
           7.400000095367432
          ],
          [
           "CHINA",
           "JAPANESE",
           10,
           6.400000095367432
          ],
          [
           "CHINA",
           "JAPANESE",
           2,
           3.4000000953674316
          ],
          [
           "JAPAN",
           "CHINA",
           16,
           -4.400000095367432
          ],
          [
           "CHINA",
           "JAPAN",
           2,
           8
          ],
          [
           "BEIJING",
           "JAPANESE",
           2,
           3.4000000953674316
          ],
          [
           "CHINA",
           "JAPAN",
           1,
           3.5
          ],
          [
           "JAPAN",
           "CHINA",
           4,
           -7.199999809265137
          ],
          [
           "CHINA",
           "JAPAN",
           3,
           6.400000095367432
          ],
          [
           "JAPAN",
           "BEIJING",
           10,
           -6.5
          ],
          [
           "CHINA",
           "NARA",
           2,
           -10
          ],
          [
           "CHINA",
           "SONY",
           4,
           3.4000000953674316
          ],
          [
           "JAPAN",
           "CHINA",
           4,
           -10
          ],
          [
           "CHINA",
           "JAPAN",
           1,
           6.400000095367432
          ],
          [
           "CHINA",
           "JAPAN",
           7,
           7
          ],
          [
           "JAPAN",
           "CHINA",
           4,
           -10
          ],
          [
           "BEIJING",
           "JAPAN",
           10,
           -10
          ],
          [
           "CHINA",
           "JAPAN",
           8,
           3
          ],
          [
           "CHINA",
           "JAPANESE",
           7,
           6.400000095367432
          ],
          [
           "JAPAN",
           "CHINESE",
           1,
           7
          ],
          [
           "BEIJING",
           "TOKYO",
           6,
           7
          ],
          [
           "TOKYO",
           "CHINA",
           8,
           -5
          ],
          [
           "JAPANESE",
           "CHINESE",
           4,
           -7.199999809265137
          ],
          [
           "CHINA",
           "JAPAN",
           4,
           3.4000000953674316
          ],
          [
           "JAPAN",
           "CHINA",
           2,
           5
          ],
          [
           "JAPAN",
           "CHINA",
           44,
           7
          ],
          [
           "JAPAN",
           "CHINA",
           4,
           7
          ],
          [
           "JAPAN",
           "CHINA",
           8,
           5
          ],
          [
           "JAPAN",
           "CHINA",
           10,
           -6.5
          ],
          [
           "CHINA",
           "JAPANESE",
           1,
           6.400000095367432
          ],
          [
           "JAPAN",
           "CHINA",
           2,
           7
          ],
          [
           "CHINA",
           "JAPAN",
           1,
           7
          ],
          [
           "JAPAN",
           "CHINA",
           64,
           -10
          ],
          [
           "JAPAN",
           "CHINESE",
           6,
           -10
          ],
          [
           "JAPAN",
           "CHINA",
           2,
           -4.400000095367432
          ],
          [
           "JAPAN",
           "CHINA",
           6,
           7
          ],
          [
           "CHINESE",
           "JAPANESE",
           14,
           -7
          ],
          [
           "CHINA",
           "SHINZO ABE",
           2,
           3.4000000953674316
          ],
          [
           "JAPAN",
           "CHINA",
           10,
           4
          ],
          [
           "JAPAN",
           "CHINA",
           6,
           3
          ],
          [
           "CHINESE",
           "JAPANESE",
           6,
           -6.5
          ],
          [
           "JAPANESE",
           "CHINA",
           1,
           -10
          ],
          [
           "CHINA",
           "JAPAN",
           2,
           -10
          ],
          [
           "CHINA",
           "JAPAN",
           4,
           -4
          ],
          [
           "CHINA",
           "JAPAN",
           1,
           3.4000000953674316
          ],
          [
           "CHINA",
           "JAPANESE",
           8,
           -10
          ],
          [
           "TOKYO",
           "CHINA",
           1,
           -4
          ],
          [
           "JAPANESE",
           "CHINESE",
           10,
           3.5
          ],
          [
           "CHINESE",
           "JAPANESE",
           2,
           7
          ],
          [
           "JAPANESE",
           "CHINESE",
           4,
           7
          ],
          [
           "CHINA",
           "JAPAN",
           2,
           -10
          ],
          [
           "CHINA",
           "JAPAN",
           2,
           8
          ],
          [
           "JAPAN",
           "CHINESE",
           20,
           -10
          ],
          [
           "CHINA",
           "JAPAN",
           966,
           -10
          ],
          [
           "CHINESE",
           "JAPAN",
           16,
           -10
          ],
          [
           "CHINA",
           "JAPANESE",
           1,
           -7
          ],
          [
           "CHINESE",
           "JAPAN",
           60,
           -8
          ],
          [
           "CHINA",
           "OKINAWA",
           5,
           -10
          ],
          [
           "JAPAN",
           "CHINA",
           1,
           7.400000095367432
          ],
          [
           "CHINA",
           "JAPANESE",
           10,
           -4.400000095367432
          ],
          [
           "JAPAN",
           "CHINA",
           5,
           -5
          ],
          [
           "JAPAN",
           "CHINA",
           2,
           -10
          ],
          [
           "BEIJING",
           "JAPAN",
           8,
           -10
          ],
          [
           "CHINA",
           "JAPAN",
           12,
           -7
          ],
          [
           "JAPAN",
           "CHINA",
           1,
           7
          ],
          [
           "CHINA",
           "JAPAN",
           66,
           -10
          ],
          [
           "JAPANESE",
           "CHINA",
           1,
           -10
          ],
          [
           "CHINESE",
           "JAPAN",
           6,
           -10
          ],
          [
           "JAPAN",
           "CHINA",
           10,
           -4.400000095367432
          ],
          [
           "TOKYO",
           "CHINA",
           2,
           7
          ],
          [
           "CHINA",
           "JAPAN",
           4,
           3
          ],
          [
           "CHINA",
           "JAPANESE",
           215,
           -7
          ],
          [
           "CHINA",
           "JAPAN",
           1,
           10
          ],
          [
           "JAPANESE",
           "CHINA",
           7,
           4
          ],
          [
           "CHINA",
           "JAPAN",
           10,
           -4.400000095367432
          ],
          [
           "CHINA",
           "JAPAN",
           4,
           7
          ],
          [
           "CHINA",
           "JAPAN",
           2,
           7.400000095367432
          ],
          [
           "CHINA",
           "JAPAN",
           10,
           3
          ],
          [
           "CHINA",
           "JAPAN",
           6,
           -5
          ],
          [
           "JAPAN",
           "CHINA",
           1,
           -10
          ],
          [
           "CHINA",
           "JAPAN",
           2,
           7
          ],
          [
           "JAPAN",
           "BEIJING",
           1,
           -6.5
          ],
          [
           "BEIJING",
           "JAPAN",
           2,
           7.400000095367432
          ],
          [
           "CHINA",
           "JAPAN",
           2,
           -10
          ],
          [
           "CHINA",
           "JAPANESE",
           42,
           -4.400000095367432
          ],
          [
           "JAPAN",
           "CHINA",
           2,
           3
          ],
          [
           "BEIJING",
           "JAPAN",
           6,
           7.400000095367432
          ],
          [
           "JAPAN",
           "CHINA",
           12,
           3.4000000953674316
          ],
          [
           "CHINA",
           "OKINAWA",
           3,
           -10
          ],
          [
           "CHINA",
           "JAPANESE",
           12,
           7.400000095367432
          ],
          [
           "JAPAN",
           "CHINA",
           24,
           3
          ],
          [
           "CHINA",
           "JAPAN",
           3,
           -5
          ],
          [
           "CHINA",
           "JAPAN",
           1,
           -10
          ],
          [
           "CHINESE",
           "JAPAN",
           2,
           -4.400000095367432
          ],
          [
           "JAPAN",
           "BEIJING",
           10,
           -4
          ],
          [
           "CHINA",
           "JAPANESE",
           7,
           -10
          ],
          [
           "JAPAN",
           "CHINA",
           14,
           3.4000000953674316
          ],
          [
           "TOKYO",
           "CHINA",
           3,
           7
          ],
          [
           "JAPAN",
           "CHINA",
           6,
           3.4000000953674316
          ],
          [
           "JAPAN",
           "CHINA",
           8,
           3.4000000953674316
          ],
          [
           "CHINESE",
           "JAPAN",
           114,
           -10
          ],
          [
           "JAPANESE",
           "CHINA",
           2,
           -10
          ],
          [
           "JAPANESE",
           "CHINESE",
           2,
           3.5
          ],
          [
           "JAPANESE",
           "CHINESE",
           6,
           -10
          ],
          [
           "JAPAN",
           "CHINA",
           4,
           3.5
          ],
          [
           "CHINESE",
           "JAPAN",
           4,
           -10
          ],
          [
           "BEIJING",
           "TOKYO",
           8,
           3.5
          ],
          [
           "BEIJING",
           "JAPAN",
           2,
           3.4000000953674316
          ],
          [
           "CHINESE",
           "JAPANESE",
           4,
           3.5
          ],
          [
           "CHINA",
           "JAPAN",
           1,
           3.5
          ],
          [
           "JAPAN",
           "CHINA",
           2,
           7
          ],
          [
           "TOKYO",
           "BEIJING",
           4,
           3.5
          ],
          [
           "JAPAN",
           "BEIJING",
           10,
           3
          ],
          [
           "CHINA EASTERN AIRLINES",
           "JAPAN",
           2,
           6
          ],
          [
           "CHINA",
           "JAPAN",
           2,
           -4
          ],
          [
           "JAPANESE",
           "CHINA",
           4,
           3
          ],
          [
           "JAPAN",
           "CHINA",
           2,
           -7
          ],
          [
           "JAPAN",
           "CHINA",
           4,
           3.4000000953674316
          ],
          [
           "JAPANESE",
           "CHINESE",
           4,
           3
          ],
          [
           "JAPANESE",
           "CHINA",
           6,
           7.400000095367432
          ],
          [
           "CHINESE",
           "JAPAN",
           2,
           -10
          ],
          [
           "CHINA",
           "JAPANESE",
           1,
           7
          ],
          [
           "CHINA",
           "JAPAN",
           2,
           4
          ],
          [
           "JAPAN",
           "CHINA",
           4,
           3
          ],
          [
           "CHINA",
           "JAPAN",
           3,
           6
          ],
          [
           "JAPAN",
           "CHINA",
           2,
           7
          ],
          [
           "JAPAN",
           "BEIJING",
           4,
           -4.400000095367432
          ],
          [
           "JAPAN",
           "CHINA",
           20,
           -10
          ],
          [
           "CHINA",
           "JAPAN",
           2,
           8
          ],
          [
           "CHINESE",
           "TOKYO",
           88,
           7
          ],
          [
           "CHINESE",
           "JAPAN",
           8,
           3.5
          ],
          [
           "JAPAN",
           "CHINA",
           2,
           7
          ],
          [
           "JAPAN",
           "CHINA",
           6,
           3.5
          ],
          [
           "CHINA",
           "JAPAN",
           1,
           6
          ],
          [
           "JAPANESE",
           "CHINA",
           2,
           -10
          ],
          [
           "CHINA",
           "JAPAN",
           2,
           -7.199999809265137
          ],
          [
           "JAPAN",
           "CHINA",
           1,
           4
          ],
          [
           "JAPANESE",
           "CHINA",
           2,
           3.5
          ],
          [
           "CHINA",
           "JAPAN",
           1,
           -4.400000095367432
          ],
          [
           "LIAONING",
           "JAPAN",
           1,
           -10
          ],
          [
           "CHINA",
           "TOKYO",
           3,
           -4.400000095367432
          ],
          [
           "JAPAN",
           "CHINA",
           2,
           3
          ],
          [
           "JAPAN",
           "LIAONING",
           3,
           -10
          ],
          [
           "CHINESE",
           "JAPAN",
           13,
           -7.199999809265137
          ],
          [
           "JUNICHIRO KOIZUMI",
           "CHINA",
           4,
           5
          ],
          [
           "JAPAN",
           "CHINA",
           1,
           7
          ],
          [
           "CHINESE",
           "JAPAN",
           1,
           -6.5
          ],
          [
           "CHINA",
           "JAPAN",
           6,
           3.4000000953674316
          ],
          [
           "JAPAN",
           "CHINA",
           32,
           3.5
          ],
          [
           "JAPAN",
           "CHINA",
           1,
           -4.400000095367432
          ],
          [
           "JAPAN",
           "CHINA",
           5,
           -7.199999809265137
          ],
          [
           "CHINESE",
           "JAPAN",
           14,
           -7.199999809265137
          ],
          [
           "JAPAN",
           "CHINA",
           2,
           3
          ],
          [
           "CHINA",
           "JAPANESE",
           46,
           -10
          ],
          [
           "TOKYO",
           "CHINA",
           9,
           4
          ],
          [
           "JAPAN",
           "XINJIANG",
           16,
           8
          ],
          [
           "JAPAN",
           "CHINA",
           23,
           3
          ],
          [
           "CHINA",
           "JAPAN",
           4,
           -5
          ],
          [
           "JAPANESE",
           "BEIJING",
           1,
           -7
          ],
          [
           "JAPAN",
           "CHINA",
           1,
           6.400000095367432
          ],
          [
           "CHINA",
           "JAPAN",
           1,
           7
          ],
          [
           "JAPAN",
           "CHINA",
           80,
           3
          ],
          [
           "PANASONIC",
           "CHINA",
           10,
           3
          ],
          [
           "JAPAN",
           "CHINA",
           2,
           4
          ],
          [
           "JAPAN",
           "CHINESE",
           4,
           3
          ],
          [
           "CHINA",
           "JAPAN",
           16,
           3
          ],
          [
           "CHINA",
           "JAPAN",
           2,
           7.400000095367432
          ],
          [
           "CHINESE",
           "JAPAN",
           8,
           -10
          ],
          [
           "CHINA",
           "JAPAN",
           2,
           -5
          ],
          [
           "CHINESE",
           "JAPAN",
           4,
           -7.199999809265137
          ],
          [
           "CHINA",
           "JAPAN",
           6,
           -5
          ],
          [
           "CHINA",
           "JAPAN",
           10,
           6
          ],
          [
           "CHINA",
           "JAPAN",
           2,
           -4.400000095367432
          ],
          [
           "CHINA",
           "JAPAN",
           184,
           -5
          ],
          [
           "CHINA",
           "JAPANESE",
           1,
           -5
          ],
          [
           "JAPAN",
           "CHINA",
           2,
           7.400000095367432
          ],
          [
           "TOKYO",
           "CHINESE",
           10,
           3.4000000953674316
          ],
          [
           "CHINA",
           "JAPAN",
           50,
           6
          ],
          [
           "CHINA",
           "JAPAN",
           2,
           -4
          ],
          [
           "JAPAN",
           "CHINA",
           4,
           -7.199999809265137
          ],
          [
           "CHINESE",
           "JAPANESE",
           64,
           -4
          ],
          [
           "JAPAN",
           "CHINA",
           40,
           6
          ],
          [
           "CHINA",
           "JAPAN",
           1,
           7
          ],
          [
           "JAPAN",
           "CHINA",
           4,
           7
          ],
          [
           "CHINA",
           "OKINAWA",
           2,
           3.4000000953674316
          ],
          [
           "JAPAN",
           "CHINA",
           5,
           7.400000095367432
          ],
          [
           "TOKYO",
           "CHINA",
           47,
           -6.5
          ],
          [
           "CHINA",
           "JAPAN",
           6,
           -6.5
          ],
          [
           "CHINA",
           "SHINZO ABE",
           1,
           -10
          ],
          [
           "JAPAN",
           "CHINA",
           2,
           3
          ],
          [
           "JAPAN",
           "CHINA",
           2,
           4
          ],
          [
           "JAPAN",
           "CHINA",
           18,
           4
          ],
          [
           "JAPAN",
           "TIBET",
           8,
           8
          ],
          [
           "CHINESE",
           "JAPAN",
           1,
           -5
          ],
          [
           "JAPANESE",
           "CHINA",
           13,
           -7
          ],
          [
           "JAPANESE",
           "CHINA",
           3,
           -10
          ],
          [
           "CHINESE",
           "JAPAN",
           18,
           -7.199999809265137
          ],
          [
           "JAPAN",
           "CHINA",
           2,
           7.400000095367432
          ],
          [
           "JAPAN",
           "CHINESE",
           1,
           -5
          ],
          [
           "PANASONIC",
           "CHINA",
           10,
           3
          ],
          [
           "JAPAN",
           "CHINA",
           1,
           3.5
          ],
          [
           "JAPANESE",
           "CHINA",
           2,
           3.4000000953674316
          ],
          [
           "CHINA",
           "JAPAN",
           10,
           -10
          ],
          [
           "CHINA",
           "JAPAN",
           4,
           -10
          ],
          [
           "CHINESE",
           "JAPAN",
           3,
           3.4000000953674316
          ],
          [
           "CHINA",
           "JAPANESE",
           100,
           4
          ],
          [
           "JAPAN",
           "JIANGSU",
           4,
           8
          ],
          [
           "HITACHI",
           "CHINESE",
           10,
           6
          ],
          [
           "CHINESE",
           "JAPAN",
           8,
           3.4000000953674316
          ],
          [
           "JAPAN",
           "CHINA",
           1,
           4
          ],
          [
           "JAPAN",
           "CHINA",
           8,
           3
          ],
          [
           "TOKYO",
           "CHINA",
           2,
           6.400000095367432
          ],
          [
           "JAPAN",
           "CHINA",
           4,
           -4
          ],
          [
           "JAPAN",
           "CHINA",
           2,
           -7.199999809265137
          ],
          [
           "CHINESE",
           "JAPAN",
           4,
           4
          ],
          [
           "CHINESE",
           "TOKYO",
           3,
           7
          ],
          [
           "JAPAN",
           "CHINA",
           72,
           4
          ],
          [
           "CHINESE",
           "JAPAN",
           3,
           5
          ],
          [
           "CHINA",
           "JAPAN",
           2,
           7
          ],
          [
           "CHINA",
           "JAPAN",
           1,
           4
          ],
          [
           "CHINESE",
           "JAPAN",
           4,
           3.5
          ],
          [
           "JAPAN",
           "XI JINPING",
           6,
           4
          ],
          [
           "JAPANESE",
           "CHINA",
           2,
           6.400000095367432
          ],
          [
           "CHINA",
           "JAPAN",
           8,
           6.400000095367432
          ],
          [
           "JAPAN",
           "CHINA",
           1,
           5.199999809265137
          ],
          [
           "BEIJING",
           "FUKUSHIMA",
           52,
           7
          ],
          [
           "JAPAN",
           "CHINA",
           26,
           5.199999809265137
          ],
          [
           "CHINA",
           "JAPAN",
           8,
           7
          ],
          [
           "JAPAN",
           "BEIJING",
           8,
           3
          ],
          [
           "JAPAN",
           "CHINA",
           1,
           4
          ],
          [
           "JAPAN",
           "BEIJING",
           1,
           3.5
          ],
          [
           "JAPAN",
           "CHINA",
           1,
           6.400000095367432
          ],
          [
           "CHINA",
           "JAPAN",
           2,
           3.5
          ],
          [
           "CHINA",
           "JAPAN",
           1,
           -5
          ],
          [
           "JAPAN",
           "CHINA",
           2,
           4
          ],
          [
           "JAPAN",
           "CHINA",
           2,
           3
          ],
          [
           "CHINA",
           "JAPAN",
           7,
           -5
          ],
          [
           "TOKYO",
           "CHINA",
           8,
           3
          ],
          [
           "JAPANESE",
           "CHINA",
           8,
           7
          ],
          [
           "CHINA",
           "JAPAN",
           8,
           4
          ],
          [
           "JAPANESE",
           "CHINA",
           4,
           -10
          ],
          [
           "JAPAN",
           "CHINESE",
           1,
           8
          ],
          [
           "JAPAN",
           "CHINA",
           13,
           7
          ],
          [
           "CHINA",
           "JAPANESE",
           2,
           7
          ],
          [
           "JAPAN",
           "CHINA",
           41,
           6.400000095367432
          ],
          [
           "JAPAN",
           "CHINA",
           1,
           -5
          ],
          [
           "JAPAN",
           "CHINA",
           2,
           -5
          ],
          [
           "JAPAN",
           "CHINA",
           2,
           7
          ],
          [
           "CHINA",
           "JAPAN",
           6,
           7
          ],
          [
           "JAPANESE",
           "NANJING",
           4,
           -4
          ],
          [
           "JAPAN",
           "CHINA",
           1,
           7
          ],
          [
           "JAPAN",
           "CHINA",
           10,
           -5
          ],
          [
           "CHINA",
           "JAPAN",
           1,
           6.400000095367432
          ],
          [
           "BEIJING",
           "JAPANESE",
           24,
           -5
          ],
          [
           "CHINA",
           "JAPAN",
           4,
           -10
          ],
          [
           "JAPAN",
           "CHINA",
           2,
           -10
          ],
          [
           "CHINA",
           "JAPAN",
           8,
           3.4000000953674316
          ],
          [
           "TOKYO",
           "BEIJING",
           127,
           4
          ],
          [
           "CHINA",
           "OKINAWA",
           24,
           -10
          ],
          [
           "SHANDONG",
           "JAPANESE",
           1,
           7
          ],
          [
           "CHINESE",
           "JAPAN",
           6,
           3
          ],
          [
           "JAPAN",
           "BEIJING",
           9,
           3.4000000953674316
          ],
          [
           "CHINA",
           "FUKUSHIMA",
           40,
           -9.5
          ],
          [
           "CHINA",
           "JAPANESE",
           2,
           3
          ],
          [
           "JAPAN",
           "CHINA",
           2,
           7
          ],
          [
           "CHINA",
           "JAPAN",
           4,
           7
          ],
          [
           "CHINA",
           "JAPAN",
           4,
           6.400000095367432
          ],
          [
           "CHINA",
           "JAPAN",
           6,
           7
          ],
          [
           "CHINA",
           "JAPAN",
           81,
           -5
          ],
          [
           "JAPAN",
           "CHINA",
           8,
           6.400000095367432
          ],
          [
           "CHINESE",
           "JAPANESE",
           1,
           4
          ],
          [
           "CHINA",
           "JAPAN",
           2,
           -4.400000095367432
          ],
          [
           "JAPAN",
           "CHINA",
           1,
           -4.400000095367432
          ],
          [
           "JAPANESE",
           "CHINA",
           8,
           4
          ],
          [
           "JAPAN",
           "CHINA",
           20,
           7
          ],
          [
           "SHANGHAI",
           "TOKYO",
           10,
           5.199999809265137
          ],
          [
           "JAPANESE",
           "CHINESE",
           21,
           7
          ],
          [
           "JAPANESE",
           "CHINA",
           9,
           4
          ],
          [
           "TOKYO",
           "CHINESE",
           3,
           -4
          ],
          [
           "CHINA",
           "JAPAN",
           2,
           7
          ],
          [
           "JAPAN",
           "CHINA",
           4,
           -5
          ],
          [
           "JAPAN",
           "CHINA",
           4,
           6.400000095367432
          ],
          [
           "TOKYO",
           "BEIJING",
           6,
           -7.199999809265137
          ],
          [
           "CHINESE",
           "JAPAN",
           14,
           -10
          ],
          [
           "CHINESE",
           "JAPAN",
           58,
           -4.400000095367432
          ],
          [
           "CHINA",
           "JAPANESE",
           6,
           -5
          ],
          [
           "JAPAN",
           "CHINA",
           1,
           -5
          ],
          [
           "CHINA",
           "JAPAN",
           2,
           3.4000000953674316
          ],
          [
           "CHINA",
           "TOKYO",
           1,
           4
          ],
          [
           "JAPAN",
           "CHINA",
           1,
           7
          ],
          [
           "CHINA",
           "JAPANESE",
           9,
           4
          ],
          [
           "BEIJING",
           "TOKYO",
           5,
           -4
          ],
          [
           "JAPANESE",
           "CHINESE",
           3,
           -10
          ],
          [
           "TOKYO",
           "CHINA",
           4,
           -4.400000095367432
          ],
          [
           "CHINA",
           "JAPAN",
           4,
           4
          ],
          [
           "BEIJING",
           "JAPANESE",
           6,
           -5
          ],
          [
           "CHINA",
           "JAPAN",
           10,
           -10
          ],
          [
           "JAPAN",
           "CHINA",
           1,
           -4
          ],
          [
           "CHINA",
           "JAPAN",
           2,
           -5
          ],
          [
           "JAPAN",
           "CHINA",
           5,
           3
          ],
          [
           "CHINESE",
           "JAPANESE",
           3,
           4
          ],
          [
           "CHINESE",
           "JAPANESE",
           2,
           8
          ],
          [
           "TOKYO",
           "BEIJING",
           6,
           4
          ],
          [
           "CHINA",
           "JAPANESE",
           2,
           3.799999952316284
          ],
          [
           "JAPAN",
           "BEIJING",
           2,
           -10
          ],
          [
           "CHINESE",
           "JAPAN",
           2,
           -10
          ],
          [
           "JAPANESE",
           "CHINESE",
           3,
           7
          ],
          [
           "CHINA",
           "JAPAN",
           2,
           4
          ],
          [
           "TOKYO",
           "CHINESE",
           7,
           -5
          ],
          [
           "CHINA",
           "JAPAN",
           2,
           6.400000095367432
          ],
          [
           "JAPAN",
           "CHINA",
           2,
           4
          ],
          [
           "JAPANESE",
           "CHINA",
           2,
           3
          ],
          [
           "JAPAN",
           "CHINA",
           1,
           5.199999809265137
          ],
          [
           "JAPAN",
           "CHINA",
           15,
           -4.400000095367432
          ],
          [
           "JAPANESE",
           "BEIJING",
           96,
           -6.5
          ],
          [
           "JAPAN",
           "CHINA",
           6,
           7
          ],
          [
           "JAPAN",
           "CHINA",
           2,
           3
          ],
          [
           "JAPANESE",
           "CHINA",
           4,
           -10
          ],
          [
           "JAPAN",
           "CHINA",
           2,
           8
          ],
          [
           "JAPAN",
           "CHINA",
           2,
           3.4000000953674316
          ],
          [
           "TOKYO",
           "CHINESE",
           4,
           -4
          ],
          [
           "JAPANESE",
           "CHINESE",
           2,
           3.4000000953674316
          ],
          [
           "CHINA",
           "JAPAN",
           2,
           5
          ],
          [
           "BEIJING",
           "JAPANESE",
           72,
           -5
          ],
          [
           "HIROSHIMA",
           "CHINA",
           2,
           -4.400000095367432
          ],
          [
           "CHINA",
           "JAPAN",
           3,
           5
          ],
          [
           "CHINESE",
           "JAPAN",
           1,
           -8
          ],
          [
           "JAPANESE",
           "CHINA",
           5,
           3.5
          ],
          [
           "CHINA",
           "JAPANESE",
           37,
           -5
          ],
          [
           "JAPAN",
           "CHINA",
           2,
           4
          ],
          [
           "JAPAN",
           "CHINESE",
           2,
           -4
          ],
          [
           "CHINA",
           "JAPAN",
           2,
           7
          ],
          [
           "HIROSHIMA",
           "CHINA",
           10,
           -4.400000095367432
          ],
          [
           "CHINA",
           "JAPAN",
           8,
           -4.400000095367432
          ],
          [
           "JAPAN",
           "CHINA",
           6,
           8
          ],
          [
           "SHANGHAI",
           "JAPAN",
           2,
           -10
          ],
          [
           "BEIJING",
           "HIROSHIMA",
           30,
           7
          ],
          [
           "JAPAN",
           "CHINA",
           2,
           -4
          ],
          [
           "JAPANESE",
           "BEIJING",
           1,
           -5
          ],
          [
           "JAPANESE",
           "CHINESE",
           6,
           3.5
          ],
          [
           "BEIJING",
           "TOKYO",
           8,
           3.5
          ],
          [
           "JAPAN",
           "CHINA",
           2,
           -5
          ],
          [
           "MITSUBISHI",
           "CHINA",
           8,
           7
          ],
          [
           "JAPAN",
           "CHINA",
           8,
           -5
          ],
          [
           "JAPAN",
           "CHINESE",
           10,
           -4
          ],
          [
           "CHINA",
           "JAPAN",
           1,
           -5
          ],
          [
           "JAPAN",
           "CHINA",
           8,
           6.400000095367432
          ],
          [
           "CHINA",
           "JAPAN",
           4,
           -7.199999809265137
          ],
          [
           "CHINA",
           "JAPAN",
           2,
           -5
          ],
          [
           "CHINA",
           "JAPAN",
           2,
           6.400000095367432
          ],
          [
           "SHANGHAI",
           "TOKYO",
           2,
           8
          ],
          [
           "CHINA",
           "TOKYO",
           2,
           7
          ],
          [
           "HIROSHIMA",
           "CHINA",
           2,
           -5
          ],
          [
           "CHINA",
           "JAPAN",
           4,
           3
          ],
          [
           "JAPAN",
           "CHINA",
           10,
           3
          ],
          [
           "JAPAN",
           "CHINA",
           2,
           7
          ],
          [
           "JAPANESE",
           "MANCHURIA",
           2,
           8.300000190734863
          ],
          [
           "SHANGHAI",
           "KANSAI",
           10,
           6
          ],
          [
           "CHINA",
           "JAPAN",
           1,
           -5
          ],
          [
           "JAPAN",
           "CHINA",
           6,
           -5
          ],
          [
           "JAPAN",
           "CHINA",
           2,
           4
          ],
          [
           "JAPAN",
           "CHINESE",
           6,
           3.5
          ],
          [
           "CHINA",
           "JAPAN",
           1,
           -4
          ],
          [
           "CHINA",
           "JAPAN",
           1,
           7
          ],
          [
           "CHINESE",
           "CHUGOKU",
           1,
           3.4000000953674316
          ],
          [
           "CHINA",
           "JAPAN",
           40,
           3.4000000953674316
          ],
          [
           "JAPAN",
           "CHINA",
           1,
           -5
          ],
          [
           "JAPAN",
           "CHINA",
           2,
           7
          ],
          [
           "JAPAN",
           "CHINESE",
           1,
           4
          ],
          [
           "CHINA",
           "JAPAN",
           6,
           6.400000095367432
          ],
          [
           "HIROSHIMA",
           "CHINA",
           2,
           7
          ],
          [
           "JAPANESE",
           "BEIJING",
           10,
           3.5
          ],
          [
           "TOYOTA",
           "CHINA",
           30,
           3
          ],
          [
           "CHINA",
           "FUKUSHIMA",
           4,
           7
          ],
          [
           "JAPAN",
           "CHINA",
           10,
           7
          ],
          [
           "CHINA",
           "JAPAN",
           3,
           4
          ],
          [
           "CHINA",
           "JAPAN",
           4,
           8
          ],
          [
           "JAPAN",
           "CHINESE",
           4,
           5.199999809265137
          ],
          [
           "JAPANESE",
           "CHINA",
           1,
           -10
          ],
          [
           "JAPANESE",
           "CHINA",
           2,
           6
          ],
          [
           "CHINA",
           "JAPANESE",
           2,
           -10
          ],
          [
           "CHINESE",
           "JAPAN",
           4,
           6.400000095367432
          ],
          [
           "JAPAN",
           "CHINA",
           2,
           4
          ],
          [
           "CHINA",
           "JAPAN",
           2,
           -4.400000095367432
          ],
          [
           "BEIJING",
           "TOKYO",
           4,
           -4.400000095367432
          ],
          [
           "CHINESE",
           "JAPAN",
           6,
           4
          ],
          [
           "CHINA",
           "JAPAN",
           96,
           -8
          ],
          [
           "CHINESE",
           "TOKYO",
           12,
           3
          ],
          [
           "OKINAWA",
           "CHINA",
           1,
           8
          ],
          [
           "OKINAWA",
           "CHINA",
           3,
           4
          ],
          [
           "CHINA",
           "JAPAN",
           10,
           -7.199999809265137
          ],
          [
           "CHINESE",
           "JAPAN",
           6,
           6.400000095367432
          ],
          [
           "CHINA",
           "JAPANESE",
           2,
           8.300000190734863
          ],
          [
           "JAPAN",
           "CHINESE",
           2,
           3
          ],
          [
           "CHINA",
           "JAPAN",
           11,
           6.400000095367432
          ],
          [
           "CHINA",
           "JAPAN",
           16,
           3.5
          ],
          [
           "CHINA",
           "JAPAN",
           9,
           8
          ],
          [
           "TOKYO",
           "CHINESE",
           5,
           4
          ],
          [
           "CHINA",
           "JAPAN",
           1,
           -9.5
          ],
          [
           "JAPAN",
           "CHINA",
           8,
           3
          ],
          [
           "CHINA",
           "JAPAN",
           5,
           6.400000095367432
          ],
          [
           "CHINA",
           "JAPANESE",
           14,
           -8
          ],
          [
           "CHINA",
           "FUKUSHIMA",
           6,
           -8
          ],
          [
           "CHINA",
           "JAPAN",
           1,
           6
          ],
          [
           "CHINA",
           "JAPANESE",
           6,
           -5
          ],
          [
           "JAPAN",
           "CHINA",
           4,
           -5
          ],
          [
           "JAPAN",
           "CHINA",
           1,
           -4.400000095367432
          ],
          [
           "CHINA",
           "JAPAN",
           1,
           6.400000095367432
          ],
          [
           "BEIJING",
           "TOKYO",
           10,
           -4.400000095367432
          ],
          [
           "CHINA",
           "FUKUSHIMA",
           2,
           7
          ],
          [
           "JAPANESE",
           "CHINESE",
           6,
           7
          ],
          [
           "SAGA",
           "CHINESE",
           24,
           3
          ],
          [
           "CHINA",
           "JAPAN",
           2,
           -8
          ],
          [
           "JAPAN",
           "CHINA",
           2,
           4
          ],
          [
           "JAPAN",
           "CHINA",
           2,
           7.400000095367432
          ],
          [
           "TOKYO",
           "CHINA",
           3,
           7
          ],
          [
           "CHINA",
           "JAPAN",
           6,
           -5
          ],
          [
           "CHINA",
           "JAPAN",
           2,
           6.400000095367432
          ],
          [
           "JAPAN",
           "CHINA",
           2,
           6.400000095367432
          ],
          [
           "CHINA",
           "JAPANESE",
           8,
           3.4000000953674316
          ],
          [
           "JAPANESE",
           "CHINA",
           4,
           3
          ],
          [
           "CHINA",
           "JAPAN",
           2,
           6.400000095367432
          ],
          [
           "CHINESE",
           "JAPANESE",
           1,
           7
          ],
          [
           "CHINA",
           "JAPAN",
           30,
           6.400000095367432
          ],
          [
           "CHINA",
           "JAPAN",
           2,
           -5
          ],
          [
           "JAPAN",
           "CHINA",
           2,
           -7
          ],
          [
           "JAPAN",
           "BEIJING",
           1,
           3.5
          ],
          [
           "CHINA",
           "JAPAN",
           1,
           4.5
          ],
          [
           "CHINA",
           "JAPAN",
           2,
           -4
          ],
          [
           "JAPAN",
           "BEIJING",
           1,
           3.4000000953674316
          ],
          [
           "CHINA",
           "JAPAN",
           3,
           7
          ],
          [
           "CHINA",
           "JAPAN",
           2,
           6.400000095367432
          ],
          [
           "JAPAN",
           "CHINA",
           8,
           3
          ],
          [
           "CHINA",
           "JAPAN",
           6,
           -5
          ],
          [
           "JAPAN",
           "BEIJING",
           12,
           7
          ],
          [
           "CHINA",
           "JAPAN",
           1,
           7
          ],
          [
           "CHINA",
           "JAPAN",
           6,
           5
          ],
          [
           "CHINA",
           "JAPAN",
           16,
           6.400000095367432
          ],
          [
           "JAPAN",
           "BEIJING",
           144,
           3
          ],
          [
           "CHINA",
           "JAPAN",
           16,
           6.400000095367432
          ],
          [
           "CHINA",
           "JAPAN",
           4,
           6
          ],
          [
           "JAPAN",
           "CHINA",
           1,
           4
          ],
          [
           "CHINA",
           "JAPANESE",
           1,
           7.400000095367432
          ],
          [
           "CHINA",
           "JAPAN",
           2,
           -4.400000095367432
          ],
          [
           "BEIJING",
           "FUKUSHIMA",
           2,
           7
          ],
          [
           "CHINA",
           "JAPANESE",
           4,
           -4.400000095367432
          ],
          [
           "JAPAN",
           "BEIJING",
           4,
           3.4000000953674316
          ],
          [
           "CHINESE",
           "JAPAN",
           8,
           -5
          ],
          [
           "BEIJING",
           "JAPAN",
           1,
           7
          ],
          [
           "YAMAGUCHI",
           "BEIJING",
           8,
           4
          ],
          [
           "JAPAN",
           "BEIJING",
           11,
           -7.199999809265137
          ],
          [
           "CHINA",
           "JAPAN",
           30,
           6.400000095367432
          ],
          [
           "JAPAN",
           "CHINA",
           4,
           7.400000095367432
          ],
          [
           "CHINA",
           "JAPAN",
           8,
           5
          ],
          [
           "JAPAN",
           "CHINA",
           8,
           4
          ],
          [
           "CHINA",
           "JAPAN",
           4,
           4
          ],
          [
           "CHINA",
           "JAPANESE",
           6,
           7
          ],
          [
           "BEIJING",
           "JAPAN",
           1,
           6.400000095367432
          ],
          [
           "TOKYO",
           "CHINA",
           8,
           -5
          ],
          [
           "BEIJING",
           "JAPANESE",
           5,
           6.400000095367432
          ],
          [
           "BEIJING",
           "JAPAN",
           14,
           6.400000095367432
          ],
          [
           "JAPAN",
           "CHINA",
           2,
           -4
          ],
          [
           "CHINA",
           "JAPANESE",
           4,
           6.400000095367432
          ],
          [
           "JAPANESE",
           "CHINESE",
           24,
           -10
          ],
          [
           "CHINA",
           "JAPAN",
           4,
           -5
          ],
          [
           "CHINA",
           "JAPANESE",
           1,
           -7
          ],
          [
           "JAPAN",
           "CHINA",
           10,
           -4.400000095367432
          ],
          [
           "CHINA",
           "KYOTO",
           1,
           3.4000000953674316
          ],
          [
           "CHINA",
           "JAPAN",
           3,
           4
          ],
          [
           "CHINA",
           "JAPAN",
           88,
           -5
          ],
          [
           "CHINA",
           "JAPAN",
           4,
           6.400000095367432
          ],
          [
           "CHINA",
           "JAPAN",
           6,
           -10
          ],
          [
           "JAPAN",
           "CHINA",
           4,
           -4
          ],
          [
           "BEIJING",
           "JAPAN",
           15,
           4
          ],
          [
           "CHINA",
           "JAPAN",
           2,
           -5
          ],
          [
           "CHINA",
           "JAPAN",
           2,
           -7.199999809265137
          ],
          [
           "CHINA",
           "JAPAN",
           1,
           4
          ],
          [
           "CHINA",
           "JAPANESE",
           14,
           -4
          ],
          [
           "CHINESE",
           "JAPANESE",
           24,
           -10
          ],
          [
           "CHINA",
           "JAPAN",
           5,
           -5
          ],
          [
           "CHINA",
           "JAPANESE",
           5,
           -7
          ],
          [
           "CHINA",
           "JAPAN",
           4,
           7
          ],
          [
           "CHINA",
           "JAPAN",
           8,
           -8
          ],
          [
           "TOKYO",
           "CHINA",
           2,
           3.4000000953674316
          ],
          [
           "JAPAN",
           "CHINESE",
           4,
           3
          ],
          [
           "CHINA",
           "PANASONIC",
           6,
           7
          ],
          [
           "FUKUSHIMA",
           "CHINA",
           1,
           7
          ],
          [
           "CHINESE",
           "JAPAN",
           1,
           7
          ],
          [
           "CHINA",
           "JAPANESE",
           4,
           4
          ],
          [
           "JAPANESE",
           "CHINESE",
           112,
           -10
          ],
          [
           "BEIJING",
           "TOKYO",
           8,
           7
          ],
          [
           "JAPAN",
           "CHINA",
           2,
           7
          ],
          [
           "CHINA",
           "JAPANESE",
           4,
           6.400000095367432
          ],
          [
           "CHINA",
           "JAPANESE",
           2,
           -8
          ],
          [
           "JAPAN",
           "CHINA",
           4,
           3.5
          ],
          [
           "CHINA",
           "JAPAN",
           6,
           3.5
          ],
          [
           "CHINA",
           "JAPAN",
           18,
           6.400000095367432
          ],
          [
           "CHINA",
           "JAPAN",
           15,
           7
          ],
          [
           "TOKYO",
           "CHINA",
           2,
           -8
          ],
          [
           "CHINA",
           "JAPAN",
           3,
           7
          ],
          [
           "CHINA",
           "JAPANESE",
           2,
           -5
          ],
          [
           "CHINA",
           "JAPAN",
           2,
           3.5
          ],
          [
           "JAPANESE",
           "CHINA",
           4,
           -4
          ],
          [
           "JAPAN",
           "CHINA",
           21,
           6.400000095367432
          ],
          [
           "CHINESE",
           "JAPAN",
           31,
           6.400000095367432
          ],
          [
           "JAPAN",
           "CHINA",
           3,
           7
          ],
          [
           "SHANGHAI",
           "JAPANESE",
           4,
           -5
          ],
          [
           "JAPAN",
           "CHINA",
           4,
           3.4000000953674316
          ],
          [
           "JAPAN",
           "CHINA",
           8,
           -4.400000095367432
          ],
          [
           "JAPAN",
           "CHINA",
           2,
           -5
          ],
          [
           "JAPAN",
           "CHINA",
           2,
           3.4000000953674316
          ],
          [
           "JAPAN",
           "CHINA",
           8,
           7
          ],
          [
           "FUKUSHIMA",
           "CHINA",
           7,
           -5
          ],
          [
           "TOKYO",
           "CHINA",
           1,
           -5
          ],
          [
           "CHINESE",
           "JAPANESE",
           4,
           6.400000095367432
          ],
          [
           "JAPAN",
           "CHINA",
           6,
           3.5
          ],
          [
           "BEIJING",
           "OKINAWA",
           1,
           -10
          ],
          [
           "CHINA",
           "JAPANESE",
           44,
           -7
          ],
          [
           "JAPANESE",
           "CHINESE",
           3,
           -9
          ],
          [
           "CHINA",
           "JAPAN",
           2,
           3.5
          ],
          [
           "CHINA",
           "JAPAN",
           1,
           3
          ],
          [
           "TOKYO",
           "CHINA",
           16,
           10
          ],
          [
           "CHINA",
           "JAPAN",
           19,
           -4
          ],
          [
           "JAPAN",
           "CHINA",
           8,
           -4.400000095367432
          ],
          [
           "CHINA",
           "JAPAN",
           4,
           6.400000095367432
          ],
          [
           "YAMAGUCHI",
           "CHINA",
           16,
           -4
          ],
          [
           "CHINA",
           "JAPAN",
           1,
           -6.5
          ],
          [
           "JAPANESE",
           "CHINA",
           2,
           4
          ],
          [
           "CHINA",
           "JAPAN",
           10,
           7
          ],
          [
           "JAPANESE",
           "CHINESE",
           12,
           7
          ],
          [
           "CHINA",
           "JAPANESE",
           1,
           -5
          ],
          [
           "JAPAN",
           "CHINA",
           2,
           3.5
          ],
          [
           "CHINA",
           "JAPAN",
           2,
           7
          ],
          [
           "CHINA",
           "JAPAN",
           2,
           7
          ],
          [
           "CHINA",
           "JAPANESE",
           2,
           -7
          ],
          [
           "JAPAN",
           "CHINA",
           1,
           -5
          ],
          [
           "CHINESE",
           "JAPAN",
           26,
           -5
          ],
          [
           "JAPAN",
           "CHINESE",
           2,
           7.400000095367432
          ],
          [
           "JAPAN",
           "BEIJING",
           10,
           6
          ],
          [
           "JAPAN",
           "BEIJING",
           3,
           7
          ],
          [
           "JAPAN",
           "CHINA",
           4,
           7
          ],
          [
           "CHINESE",
           "JAPAN",
           2,
           -10
          ],
          [
           "JAPAN",
           "CHINA",
           4,
           4
          ],
          [
           "CHINESE",
           "JAPANESE",
           12,
           -10
          ],
          [
           "TOKYO",
           "CHINA",
           3,
           -4
          ],
          [
           "JAPAN",
           "CHINA",
           4,
           3.4000000953674316
          ],
          [
           "CHINA",
           "JAPAN",
           2,
           5
          ],
          [
           "CHINA",
           "JAPAN",
           6,
           3
          ],
          [
           "JAPAN",
           "CHINESE",
           3,
           7
          ],
          [
           "JAPAN",
           "CHINA",
           8,
           -10
          ],
          [
           "TOKYO",
           "BEIJING",
           7,
           3
          ],
          [
           "JAPAN",
           "CHINA",
           1,
           -4.400000095367432
          ],
          [
           "CHINA",
           "JAPANESE",
           9,
           -5
          ],
          [
           "JUNICHIRO KOIZUMI",
           "CHINA",
           4,
           5
          ],
          [
           "CHINESE",
           "JAPAN",
           10,
           -4.400000095367432
          ],
          [
           "JAPAN",
           "BEIJING",
           8,
           -5
          ],
          [
           "JAPAN",
           "CHINESE",
           30,
           7.400000095367432
          ],
          [
           "JAPAN",
           "CHINA",
           4,
           7
          ],
          [
           "BEIJING",
           "TOKYO",
           3,
           3.5
          ],
          [
           "BEIJING",
           "JAPANESE",
           6,
           -4
          ],
          [
           "JAPAN",
           "CHINA",
           2,
           10
          ],
          [
           "CHINA",
           "JAPAN",
           10,
           -4
          ],
          [
           "CHINA",
           "JAPAN",
           2,
           6.400000095367432
          ],
          [
           "CHINESE",
           "JAPAN",
           4,
           3
          ],
          [
           "CHINA",
           "JAPAN",
           10,
           6.400000095367432
          ],
          [
           "JAPAN",
           "CHINA",
           2,
           -5
          ],
          [
           "JAPAN",
           "CHINA",
           34,
           3
          ],
          [
           "JAPANESE",
           "WENZHOU",
           1,
           5
          ],
          [
           "CHINA",
           "JAPAN",
           6,
           -4
          ],
          [
           "CHINA",
           "JAPANESE",
           1,
           -7
          ],
          [
           "BEIJING",
           "JAPANESE",
           17,
           -8
          ],
          [
           "CHINA",
           "JAPAN",
           3,
           7
          ],
          [
           "JAPAN",
           "CHINA",
           2,
           4
          ],
          [
           "JAPANESE",
           "CHINA",
           2,
           4
          ],
          [
           "JAPAN",
           "BEIJING",
           21,
           -6.5
          ],
          [
           "JAPANESE",
           "CHINA",
           6,
           3
          ],
          [
           "CHINA",
           "FUKUSHIMA",
           2,
           7
          ],
          [
           "CHINA",
           "JAPAN",
           2,
           7
          ],
          [
           "JAPANESE",
           "CHINA",
           8,
           -4
          ],
          [
           "BEIJING",
           "TOKYO",
           1,
           7
          ],
          [
           "CHINESE",
           "JAPAN",
           3,
           -10
          ],
          [
           "CHINA",
           "JAPAN",
           1,
           3.4000000953674316
          ],
          [
           "CHINESE",
           "JAPANESE",
           3,
           -5
          ],
          [
           "JAPANESE",
           "NANJING",
           20,
           -7.5
          ],
          [
           "TOKYO",
           "CHINA",
           1,
           7
          ],
          [
           "JAPANESE",
           "CHINA",
           54,
           -5
          ],
          [
           "CHINA",
           "JAPAN",
           13,
           6.400000095367432
          ],
          [
           "BEIJING",
           "TOKYO",
           2,
           7
          ],
          [
           "TOYOTA",
           "CHINESE",
           3,
           -4.400000095367432
          ],
          [
           "JAPAN",
           "CHINA",
           2,
           7
          ],
          [
           "JAPANESE",
           "CHINA",
           12,
           -10
          ],
          [
           "CHINESE",
           "JAPAN",
           1,
           3.4000000953674316
          ],
          [
           "JAPANESE",
           "CHINA",
           28,
           -5
          ],
          [
           "CHINA",
           "JAPAN",
           1,
           7
          ],
          [
           "JAPANESE",
           "CHINESE",
           3,
           7
          ],
          [
           "JAPAN",
           "CHINA",
           4,
           7
          ],
          [
           "CHINA",
           "JAPAN",
           2,
           6
          ],
          [
           "JAPAN",
           "SHANGHAI",
           2,
           3.4000000953674316
          ],
          [
           "CHINA",
           "FUKUSHIMA",
           2,
           7
          ],
          [
           "CHINESE",
           "JAPANESE",
           3,
           -10
          ],
          [
           "JAPAN",
           "CHINA",
           2,
           -5
          ],
          [
           "CHINA",
           "JAPAN",
           1,
           4
          ],
          [
           "CHINA",
           "JAPANESE",
           8,
           7
          ],
          [
           "TOKYO",
           "BEIJING",
           3,
           5.199999809265137
          ],
          [
           "BEIJING",
           "JAPAN",
           9,
           7
          ],
          [
           "CHINA",
           "JAPANESE",
           40,
           3
          ],
          [
           "CHINESE",
           "JAPAN",
           2,
           -4.400000095367432
          ],
          [
           "CHINA",
           "JAPAN",
           8,
           3
          ],
          [
           "CHINA",
           "TOKYO",
           2,
           4
          ],
          [
           "HIROSHIMA",
           "CHINA",
           10,
           -4
          ],
          [
           "JAPAN",
           "CHINA",
           2,
           3
          ],
          [
           "JAPANESE",
           "CHINA",
           8,
           3
          ],
          [
           "JAPANESE",
           "CHINA",
           24,
           6.400000095367432
          ],
          [
           "JAPANESE",
           "CHINA",
           6,
           7
          ],
          [
           "JAPANESE",
           "XI JINPING",
           18,
           7
          ],
          [
           "CHINA",
           "JAPAN",
           2,
           3
          ],
          [
           "CHINA",
           "JAPAN",
           2,
           -5
          ],
          [
           "CHINESE",
           "JAPANESE",
           2,
           7.400000095367432
          ],
          [
           "JAPAN",
           "CHINA",
           2,
           -5
          ],
          [
           "CHINESE",
           "TOKYO",
           1,
           6.400000095367432
          ],
          [
           "CHINA",
           "JAPAN",
           2,
           3.5
          ],
          [
           "JAPAN",
           "CHINA",
           2,
           3.5
          ],
          [
           "CHINA",
           "JAPAN",
           2,
           6.400000095367432
          ],
          [
           "JAPAN",
           "CHINA",
           2,
           3.5
          ],
          [
           "CHINA",
           "JAPAN",
           8,
           3.5
          ],
          [
           "JAPAN",
           "CHINA",
           2,
           7
          ],
          [
           "JAPAN",
           "CHINA",
           2,
           -9
          ],
          [
           "JAPAN",
           "CHINA",
           2,
           4
          ],
          [
           "CHINA",
           "JAPAN",
           5,
           8
          ],
          [
           "JAPAN",
           "CHINA",
           4,
           3
          ],
          [
           "JAPAN",
           "CHINA",
           2,
           3.5
          ],
          [
           "QINGDAO",
           "JAPAN",
           1,
           3
          ],
          [
           "JAPAN",
           "CHINA",
           12,
           4
          ],
          [
           "CHINA",
           "JAPAN",
           1,
           7
          ],
          [
           "JAPAN",
           "CHINA",
           6,
           -7
          ],
          [
           "CHINESE",
           "JAPAN",
           7,
           -8
          ],
          [
           "CHINA",
           "JAPANESE",
           5,
           3.4000000953674316
          ],
          [
           "CHINESE",
           "FUKUSHIMA",
           12,
           -5
          ],
          [
           "CHINA",
           "JAPAN",
           2,
           4
          ],
          [
           "CHINA",
           "JAPAN",
           1,
           -5
          ],
          [
           "BEIJING",
           "FUKUSHIMA",
           8,
           7
          ],
          [
           "JAPANESE",
           "CHINESE",
           4,
           7
          ],
          [
           "CHINA",
           "JAPAN",
           1,
           6.400000095367432
          ],
          [
           "CHINESE",
           "JAPANESE",
           2,
           7
          ],
          [
           "JAPAN",
           "CHINA",
           8,
           4
          ],
          [
           "CHINESE",
           "JAPAN",
           5,
           7
          ],
          [
           "CHINA",
           "JAPAN",
           8,
           4
          ],
          [
           "JAPANESE",
           "CHINA",
           96,
           -4
          ],
          [
           "HITACHI",
           "CHINA",
           2,
           8
          ],
          [
           "CHINA",
           "JAPAN",
           2,
           6
          ],
          [
           "BEIJING",
           "JAPAN",
           10,
           6.400000095367432
          ],
          [
           "JAPAN",
           "CHINA",
           5,
           -7.199999809265137
          ],
          [
           "CHINESE",
           "JAPANESE",
           3,
           -10
          ],
          [
           "JAPAN",
           "CHINA",
           1,
           -10
          ],
          [
           "XI JINPING",
           "JAPANESE",
           6,
           7
          ],
          [
           "CHINA",
           "JAPAN",
           2,
           3.5
          ],
          [
           "CHINA",
           "JAPAN",
           6,
           6.400000095367432
          ],
          [
           "CHINA",
           "JAPAN",
           2,
           4
          ],
          [
           "JAPANESE",
           "CHINESE",
           2,
           7
          ],
          [
           "JAPAN",
           "CHINESE",
           1,
           7
          ],
          [
           "CHINA",
           "JAPAN",
           4,
           7
          ],
          [
           "JAPANESE",
           "CHINA",
           10,
           -5
          ],
          [
           "CHINA",
           "JAPAN",
           3,
           3.5
          ],
          [
           "CHINA",
           "JAPAN",
           10,
           3.5
          ],
          [
           "CHINA",
           "JAPANESE",
           1,
           -5
          ],
          [
           "CHINA",
           "JAPAN",
           1,
           6.400000095367432
          ],
          [
           "CHINA",
           "JAPANESE",
           2,
           3
          ],
          [
           "CHINESE",
           "JAPAN",
           1,
           3.4000000953674316
          ],
          [
           "CHINA",
           "JAPAN",
           1,
           -4
          ],
          [
           "JAPAN",
           "CHINA",
           2,
           3.4000000953674316
          ],
          [
           "JAPAN",
           "BEIJING",
           2,
           -4
          ],
          [
           "JAPAN",
           "CHINA",
           6,
           -10
          ],
          [
           "CHINA",
           "FUKUSHIMA",
           10,
           7
          ],
          [
           "JAPAN",
           "CHINESE",
           6,
           6.400000095367432
          ],
          [
           "BEIJING",
           "FUKUSHIMA",
           2,
           3.5
          ],
          [
           "CHINA",
           "JAPAN",
           5,
           6.400000095367432
          ],
          [
           "CHINA",
           "JAPAN",
           2,
           -7.199999809265137
          ],
          [
           "BEIJING",
           "JAPANESE",
           8,
           -5
          ],
          [
           "CHINA",
           "JAPAN",
           10,
           4
          ],
          [
           "JAPAN",
           "CHINA",
           1,
           6.400000095367432
          ],
          [
           "CHINA",
           "JAPANESE",
           1,
           3.4000000953674316
          ],
          [
           "CHINA",
           "JAPAN",
           44,
           6
          ],
          [
           "CHINA",
           "SAGA",
           8,
           3
          ],
          [
           "BEIJING",
           "JAPANESE",
           12,
           3.5
          ],
          [
           "OKINAWA",
           "CHINA",
           2,
           6.400000095367432
          ],
          [
           "CHINA",
           "JAPAN",
           1,
           7
          ],
          [
           "CHINA",
           "JAPAN",
           2,
           7
          ],
          [
           "JAPAN",
           "CHINESE",
           4,
           -5
          ],
          [
           "JAPANESE",
           "CHINESE",
           6,
           -7.199999809265137
          ],
          [
           "CHINA",
           "JAPAN",
           1,
           3.4000000953674316
          ],
          [
           "JAPANESE",
           "CHINA",
           6,
           6.400000095367432
          ],
          [
           "CHINESE",
           "JAPANESE",
           2,
           3.4000000953674316
          ],
          [
           "CHINA",
           "JAPANESE",
           1,
           -4
          ],
          [
           "JAPANESE",
           "CHINESE",
           6,
           4
          ],
          [
           "JAPAN",
           "CHINA",
           4,
           6
          ],
          [
           "JAPANESE",
           "CHINA",
           10,
           6.400000095367432
          ],
          [
           "JAPANESE",
           "CHINESE",
           3,
           4
          ],
          [
           "JAPAN",
           "CHINA",
           8,
           3.5
          ],
          [
           "CHINA",
           "JAPAN",
           2,
           -5
          ],
          [
           "CHINA",
           "JAPAN",
           4,
           3.5
          ],
          [
           "JAPAN",
           "CHINA",
           5,
           6.400000095367432
          ],
          [
           "JAPAN",
           "CHINA",
           170,
           -4.400000095367432
          ],
          [
           "CHINA",
           "JAPAN",
           2,
           -5
          ],
          [
           "CHINA",
           "JAPANESE",
           32,
           -5
          ],
          [
           "TOKYO",
           "CHINA",
           10,
           -7.199999809265137
          ],
          [
           "JAPANESE",
           "CHINESE",
           6,
           -5
          ],
          [
           "JAPAN",
           "CHINA",
           2,
           3.4000000953674316
          ],
          [
           "CHINA",
           "JAPAN",
           1,
           -10
          ],
          [
           "JAPANESE",
           "CHINESE",
           6,
           -4.400000095367432
          ],
          [
           "JAPAN",
           "CHINA",
           2,
           6.400000095367432
          ],
          [
           "CHINESE",
           "JAPAN",
           2,
           -4
          ],
          [
           "JAPAN",
           "CHINA",
           1,
           3.4000000953674316
          ],
          [
           "JAPAN",
           "CHINA",
           8,
           7
          ],
          [
           "JAPANESE",
           "CHINA",
           1,
           6.400000095367432
          ],
          [
           "JAPANESE",
           "CHINA",
           2,
           7
          ],
          [
           "TOKYO",
           "CHINA",
           1,
           3.4000000953674316
          ],
          [
           "JAPAN",
           "CHINA",
           1,
           8
          ],
          [
           "CHINA",
           "JAPAN",
           16,
           7.400000095367432
          ],
          [
           "CHINA",
           "JAPANESE",
           1,
           -5
          ],
          [
           "CHINA",
           "JAPAN",
           10,
           6.400000095367432
          ],
          [
           "JAPAN",
           "CHINA",
           1,
           -7.199999809265137
          ],
          [
           "JAPAN",
           "CHINA",
           22,
           3
          ],
          [
           "TOKYO",
           "SHANGHAI",
           1,
           4
          ],
          [
           "JAPAN",
           "CHINA",
           2,
           3.4000000953674316
          ],
          [
           "CHINA",
           "JAPAN",
           10,
           7
          ],
          [
           "CHINA",
           "JAPAN",
           8,
           3.5
          ],
          [
           "CHINA",
           "JAPAN",
           2,
           6.400000095367432
          ],
          [
           "JAPAN",
           "CHINA",
           2,
           3
          ],
          [
           "JAPAN",
           "CHINA",
           12,
           6.400000095367432
          ],
          [
           "CHINESE",
           "JAPANESE",
           40,
           4
          ],
          [
           "JAPAN",
           "CHINA",
           1,
           -4
          ],
          [
           "JAPAN",
           "CHINA",
           40,
           6.400000095367432
          ],
          [
           "CHINA",
           "HOKKAIDO",
           2,
           -5
          ],
          [
           "JAPAN",
           "CHINA",
           2,
           5.199999809265137
          ],
          [
           "JAPAN",
           "CHINA",
           15,
           7
          ],
          [
           "CHINA",
           "JAPANESE",
           6,
           -7
          ],
          [
           "CHINA",
           "JAPAN",
           8,
           -10
          ],
          [
           "JAPAN",
           "CHINA",
           10,
           6
          ],
          [
           "CHINA",
           "JAPAN",
           8,
           -4.400000095367432
          ],
          [
           "BEIJING",
           "JAPANESE",
           1,
           8
          ],
          [
           "CHINA",
           "JAPAN",
           6,
           4
          ],
          [
           "CHINA",
           "JAPAN",
           3,
           5.199999809265137
          ],
          [
           "BEIJING",
           "JAPANESE",
           6,
           -5
          ],
          [
           "JAPAN",
           "CHINA",
           6,
           -9.5
          ],
          [
           "JAPAN",
           "CHINA",
           4,
           7
          ],
          [
           "JAPANESE",
           "CHINESE",
           40,
           4
          ],
          [
           "CHINA",
           "JAPANESE",
           1,
           8
          ],
          [
           "JAPAN",
           "CHINESE",
           7,
           7
          ],
          [
           "CHINA",
           "JAPAN",
           16,
           7
          ],
          [
           "JAPANESE",
           "CHINA",
           7,
           -7
          ],
          [
           "CHINESE",
           "JAPAN",
           6,
           3.5
          ],
          [
           "JAPAN",
           "CHINESE",
           6,
           -4
          ],
          [
           "CHINA",
           "JAPAN",
           8,
           -4
          ],
          [
           "CHINA",
           "JAPANESE",
           4,
           7
          ],
          [
           "CHINA",
           "JAPAN",
           10,
           -5
          ],
          [
           "CHINA",
           "JAPAN",
           8,
           3.5
          ],
          [
           "BEIJING",
           "JAPAN",
           5,
           -5
          ],
          [
           "JAPAN",
           "CHINA",
           8,
           -7.199999809265137
          ],
          [
           "JAPAN",
           "CHINA",
           2,
           7
          ],
          [
           "JAPAN",
           "CHINA",
           4,
           -4
          ],
          [
           "CHINA",
           "JAPAN",
           2,
           7
          ],
          [
           "JAPAN",
           "BEIJING",
           4,
           -10
          ],
          [
           "JAPAN",
           "CHINA",
           1,
           -4
          ],
          [
           "CHINA",
           "JAPAN",
           8,
           3
          ],
          [
           "TOKYO",
           "BEIJING",
           7,
           -7.199999809265137
          ],
          [
           "JAPAN",
           "CHINA",
           2,
           -10
          ],
          [
           "JAPAN",
           "CHINA",
           4,
           7.400000095367432
          ],
          [
           "TIBET",
           "JAPAN",
           4,
           3.4000000953674316
          ],
          [
           "JAPAN",
           "CHINA",
           6,
           7.400000095367432
          ],
          [
           "TOYOTA",
           "CHINESE",
           2,
           3
          ],
          [
           "CHINESE",
           "JAPAN",
           6,
           3
          ],
          [
           "CHINA",
           "JAPAN",
           2,
           3.5
          ],
          [
           "JAPAN",
           "BEIJING",
           10,
           3.5
          ],
          [
           "CHINA",
           "JAPAN",
           1,
           -4.400000095367432
          ],
          [
           "NANCHANG",
           "JAPANESE",
           3,
           -5
          ],
          [
           "CHINESE",
           "JAPAN",
           2,
           3.5
          ],
          [
           "CHINESE",
           "JAPAN",
           4,
           -7.199999809265137
          ],
          [
           "JAPANESE",
           "CHINA",
           4,
           4
          ],
          [
           "CHINA",
           "JAPAN",
           5,
           6.400000095367432
          ],
          [
           "JAPAN",
           "BEIJING",
           2,
           3
          ],
          [
           "CHINA",
           "JAPAN",
           2,
           -10
          ],
          [
           "JAPAN",
           "CHINESE",
           28,
           7
          ],
          [
           "CHINESE",
           "JAPAN",
           2,
           3.200000047683716
          ],
          [
           "JAPANESE",
           "CHINA",
           5,
           3
          ],
          [
           "CHINESE",
           "JAPAN",
           4,
           3.200000047683716
          ],
          [
           "HONDA",
           "CHINA",
           2,
           3
          ],
          [
           "CHINA",
           "JAPAN",
           18,
           5
          ],
          [
           "JAPANESE",
           "CHINESE",
           3,
           7
          ],
          [
           "CHINA",
           "JAPANESE",
           1,
           -8
          ],
          [
           "JAPAN",
           "CHINA",
           2,
           7
          ],
          [
           "CHINA",
           "JAPAN",
           20,
           4
          ],
          [
           "CHINESE",
           "JAPANESE",
           1,
           3.5
          ],
          [
           "JAPANESE",
           "CHINESE",
           13,
           7
          ],
          [
           "CHINA",
           "JAPAN",
           6,
           4
          ],
          [
           "CHINA",
           "JAPAN",
           6,
           7.400000095367432
          ],
          [
           "CHINA",
           "JAPAN",
           1,
           4
          ],
          [
           "CHINA",
           "TOKYO",
           6,
           -7
          ],
          [
           "CHINA",
           "JAPAN",
           3,
           3
          ],
          [
           "JAPAN",
           "CHINESE",
           8,
           7
          ],
          [
           "JAPAN",
           "CHINA",
           4,
           7
          ],
          [
           "JAPAN",
           "CHINA",
           5,
           7
          ],
          [
           "CHINA",
           "JAPAN",
           5,
           3.5
          ],
          [
           "CHINA",
           "FUKUSHIMA",
           10,
           3
          ],
          [
           "CHINA",
           "JAPAN",
           4,
           3
          ],
          [
           "JAPAN",
           "CHINA",
           4,
           3.4000000953674316
          ],
          [
           "CHINA",
           "JAPAN",
           2,
           -5
          ],
          [
           "JAPANESE",
           "CHINA",
           1,
           7
          ],
          [
           "JAPANESE",
           "CHINESE",
           3,
           5.199999809265137
          ],
          [
           "TOKYO",
           "CHINA",
           1,
           3
          ],
          [
           "JAPAN",
           "CHINA",
           1,
           -10
          ],
          [
           "CHINA",
           "JAPANESE",
           4,
           -5
          ],
          [
           "CHINA",
           "FUKUSHIMA",
           2,
           7
          ],
          [
           "CHINA",
           "JAPANESE",
           1,
           -5
          ],
          [
           "CHINA",
           "JAPAN",
           2,
           4
          ],
          [
           "JAPANESE",
           "CHINA",
           9,
           3
          ],
          [
           "JAPAN",
           "CHINA",
           3,
           7.400000095367432
          ],
          [
           "CHINESE",
           "JAPAN",
           18,
           3.5
          ],
          [
           "JAPANESE",
           "CHINA",
           1,
           7
          ],
          [
           "CHINA",
           "JAPAN",
           3,
           7
          ],
          [
           "TOKYO",
           "BEIJING",
           11,
           3
          ],
          [
           "CHINA",
           "JAPAN",
           1,
           4
          ],
          [
           "JAPANESE",
           "CHINA",
           1,
           5.199999809265137
          ],
          [
           "JAPAN",
           "CHINA",
           2,
           4
          ],
          [
           "JAPAN",
           "CHINA",
           4,
           4
          ],
          [
           "JAPAN",
           "CHINA",
           20,
           3.5
          ],
          [
           "CHINA",
           "JAPAN",
           12,
           3
          ],
          [
           "JAPAN",
           "CHINESE",
           2,
           4
          ],
          [
           "TOKYO",
           "BEIJING",
           2,
           3.5
          ],
          [
           "JAPANESE",
           "CHINA",
           1,
           -7
          ],
          [
           "CHINA",
           "JAPAN",
           6,
           3.5
          ],
          [
           "CHINA",
           "JAPAN",
           24,
           3
          ],
          [
           "CHINA",
           "JAPAN",
           2,
           -10
          ],
          [
           "JAPAN",
           "CHINA",
           2,
           8
          ],
          [
           "JAPANESE",
           "MANCHURIA",
           1,
           3.4000000953674316
          ],
          [
           "JAPAN",
           "CHINESE",
           10,
           -7
          ],
          [
           "CHINA",
           "JAPAN",
           2,
           -4.400000095367432
          ],
          [
           "CHINA",
           "JAPAN",
           2,
           4
          ],
          [
           "JAPAN",
           "CHINA",
           5,
           7
          ],
          [
           "CHINA",
           "JAPAN",
           29,
           8
          ],
          [
           "JAPAN",
           "CHINA",
           2,
           7
          ],
          [
           "JAPAN",
           "CHINA",
           3,
           -10
          ],
          [
           "JAPANESE",
           "BEIJING",
           4,
           7
          ],
          [
           "CHINESE",
           "JAPAN",
           1,
           -7
          ],
          [
           "JAPAN",
           "CHINA",
           4,
           3.5
          ],
          [
           "CHINESE",
           "JAPANESE",
           1,
           -10
          ],
          [
           "CHINESE",
           "JAPANESE",
           8,
           9
          ],
          [
           "JAPAN",
           "CHINA",
           9,
           5.199999809265137
          ],
          [
           "JAPAN",
           "CHINA",
           4,
           8
          ],
          [
           "BEIJING",
           "TOKYO",
           8,
           -5
          ],
          [
           "CHINA",
           "JAPAN",
           1,
           3.200000047683716
          ],
          [
           "JAPAN",
           "CHINA",
           8,
           -5
          ],
          [
           "CHINA",
           "JAPAN",
           2,
           7.400000095367432
          ],
          [
           "CHINA",
           "JAPAN",
           2,
           8
          ],
          [
           "JAPANESE",
           "CHINA",
           2,
           3.4000000953674316
          ],
          [
           "CHINA",
           "JAPAN",
           2,
           7.400000095367432
          ],
          [
           "JAPANESE",
           "CHINA",
           24,
           4
          ],
          [
           "JAPANESE",
           "CHINA",
           4,
           7
          ],
          [
           "JAPANESE",
           "SHANGHAI",
           5,
           -5
          ],
          [
           "CHINESE",
           "JAPANESE",
           2,
           5
          ],
          [
           "CHINESE",
           "JAPAN",
           20,
           -9.199999809265137
          ],
          [
           "TOKYO",
           "CHINESE",
           10,
           -5
          ],
          [
           "TOKYO",
           "CHINA",
           4,
           -4.400000095367432
          ],
          [
           "CHINA",
           "JAPAN",
           10,
           -4.400000095367432
          ],
          [
           "JAPANESE",
           "CHINA",
           8,
           10
          ],
          [
           "CHINESE",
           "JAPAN",
           1,
           7
          ],
          [
           "CHINESE",
           "JAPAN",
           122,
           7.400000095367432
          ],
          [
           "CHINA",
           "JAPAN",
           2,
           7
          ],
          [
           "TOKYO",
           "CHINA",
           2,
           7
          ],
          [
           "CHINA",
           "JAPAN",
           4,
           9
          ],
          [
           "JAPAN",
           "CHINA",
           8,
           -7.199999809265137
          ],
          [
           "JAPANESE",
           "CHINA",
           10,
           7.400000095367432
          ],
          [
           "CHINA",
           "JAPAN",
           2,
           8
          ],
          [
           "CHINA",
           "JAPAN",
           2,
           7
          ],
          [
           "JAPAN",
           "CHINA",
           1,
           8
          ],
          [
           "JAPANESE",
           "SUZHOU",
           6,
           -10
          ],
          [
           "BEIJING",
           "JAPAN",
           2,
           -5
          ],
          [
           "TOKYO",
           "CHINA",
           1,
           -7.5
          ],
          [
           "CHINA",
           "JAPAN",
           6,
           4
          ],
          [
           "JAPAN",
           "CHINA",
           8,
           8
          ],
          [
           "PANASONIC",
           "CHINA",
           3,
           -10
          ],
          [
           "CHINA",
           "JAPANESE",
           1,
           -4.400000095367432
          ],
          [
           "CHINESE",
           "JAPANESE",
           2,
           -5
          ],
          [
           "JAPANESE",
           "CHINA",
           2,
           6.400000095367432
          ],
          [
           "CHINESE",
           "JAPAN",
           3,
           -5
          ],
          [
           "CHINA",
           "JAPAN",
           4,
           3
          ],
          [
           "JAPAN",
           "CHINA",
           6,
           -4
          ],
          [
           "JAPAN",
           "BEIJING",
           2,
           3.5
          ],
          [
           "NANJING",
           "JAPANESE",
           2,
           7
          ],
          [
           "JAPAN",
           "CHINA",
           4,
           -4
          ],
          [
           "CHINA",
           "JAPAN",
           10,
           -4
          ],
          [
           "JAPANESE",
           "NANJING",
           1,
           -5
          ],
          [
           "CHINA",
           "JAPAN",
           8,
           -4.400000095367432
          ],
          [
           "CHINA",
           "JAPAN",
           2,
           -9
          ],
          [
           "CHINA",
           "JAPANESE",
           20,
           -5
          ],
          [
           "JAPAN",
           "CHINA",
           1,
           3.5
          ],
          [
           "CHINA",
           "JAPAN",
           2,
           4
          ],
          [
           "JAPAN",
           "CHINA",
           4,
           -5
          ],
          [
           "TOKYO",
           "BEIJING",
           6,
           7
          ],
          [
           "JAPAN",
           "CHINA",
           2,
           -5
          ],
          [
           "JAPANESE",
           "CHINA",
           2,
           4
          ],
          [
           "JAPAN",
           "CHINA",
           8,
           -5
          ],
          [
           "JAPANESE",
           "CHINESE",
           4,
           3
          ],
          [
           "CHINA",
           "JAPAN",
           20,
           -5
          ],
          [
           "CHINA",
           "JAPAN",
           18,
           -5
          ],
          [
           "CHINESE",
           "JAPANESE",
           1,
           -5
          ],
          [
           "JAPAN",
           "CHINA",
           45,
           4
          ],
          [
           "CHINA",
           "JAPAN",
           10,
           3.5
          ],
          [
           "JAPAN",
           "CHINESE",
           24,
           -5
          ],
          [
           "TOKYO",
           "CHINESE",
           12,
           7
          ],
          [
           "JAPAN",
           "CHINA",
           2,
           -7.199999809265137
          ],
          [
           "TOKYO",
           "CHINESE",
           2,
           -6.5
          ],
          [
           "JAPAN",
           "CHINA",
           3,
           7
          ],
          [
           "CHINESE",
           "JAPAN",
           2,
           -7.199999809265137
          ],
          [
           "CHINA",
           "JAPAN",
           22,
           -4.400000095367432
          ],
          [
           "JAPAN",
           "CHINA",
           2,
           3
          ],
          [
           "JAPAN",
           "CHINA",
           10,
           -6.5
          ],
          [
           "CHINA",
           "JAPAN",
           5,
           6.400000095367432
          ],
          [
           "CHINA",
           "JAPANESE",
           12,
           8.300000190734863
          ],
          [
           "JAPAN",
           "CHINA",
           4,
           -5
          ],
          [
           "JAPAN",
           "CHINA",
           4,
           10
          ],
          [
           "BEIJING",
           "JAPAN",
           8,
           4
          ],
          [
           "CHINESE",
           "JAPAN",
           2,
           -5
          ],
          [
           "TOKYO",
           "BEIJING",
           62,
           7
          ],
          [
           "JAPANESE",
           "CHINA",
           1,
           7.400000095367432
          ],
          [
           "CHINESE",
           "JAPANESE",
           2,
           -5
          ],
          [
           "JAPAN",
           "CHINA",
           2,
           10
          ],
          [
           "JAPAN",
           "CHINA",
           2,
           -4
          ],
          [
           "CHINA",
           "JAPANESE",
           8,
           -10
          ],
          [
           "CHINA",
           "JAPAN",
           2,
           -7.199999809265137
          ],
          [
           "JAPANESE",
           "CHINESE",
           4,
           3
          ],
          [
           "CHINA",
           "JAPAN",
           2,
           -5
          ],
          [
           "CHINA",
           "JAPAN",
           3,
           3.5
          ],
          [
           "JAPAN",
           "CHINESE",
           4,
           -4.400000095367432
          ],
          [
           "CHINA",
           "JAPAN",
           9,
           6.400000095367432
          ],
          [
           "CHINESE",
           "JAPANESE",
           9,
           3
          ],
          [
           "BEIJING",
           "JAPANESE",
           24,
           -7.199999809265137
          ],
          [
           "BEIJING",
           "JAPAN",
           8,
           3
          ],
          [
           "CHINESE",
           "JAPAN",
           8,
           5
          ],
          [
           "JAPANESE",
           "CHINA",
           2,
           4
          ],
          [
           "JAPANESE",
           "SHENZHEN",
           38,
           3
          ],
          [
           "CHINA",
           "JAPANESE",
           6,
           3
          ],
          [
           "JAPAN",
           "CHINA",
           5,
           -5
          ],
          [
           "CHINA",
           "JAPAN",
           1,
           3
          ],
          [
           "CHINESE",
           "JAPAN",
           2,
           -5
          ],
          [
           "JAPANESE",
           "SHENZHEN",
           8,
           -10
          ],
          [
           "JAPANESE",
           "CHINESE",
           4,
           3
          ],
          [
           "BEIJING",
           "JAPAN",
           2,
           7
          ],
          [
           "JAPAN",
           "CHINA",
           2,
           4
          ],
          [
           "JAPAN",
           "CHINESE",
           12,
           7
          ],
          [
           "JAPAN",
           "BEIJING",
           1,
           7
          ],
          [
           "JAPAN",
           "BEIJING",
           2,
           -10
          ],
          [
           "JAPAN",
           "CHINA",
           115,
           3.4000000953674316
          ],
          [
           "CHINA",
           "JAPANESE",
           6,
           5
          ],
          [
           "CHINESE",
           "JAPAN",
           2,
           4
          ],
          [
           "JAPANESE",
           "GUANGZHOU",
           24,
           3
          ],
          [
           "JAPAN",
           "CHINA",
           4,
           4
          ],
          [
           "BEIJING",
           "JAPAN",
           10,
           3
          ],
          [
           "CHINESE",
           "JAPAN",
           1,
           6
          ],
          [
           "CHINA",
           "JAPAN",
           4,
           7
          ],
          [
           "JAPAN",
           "CHINA",
           1,
           7.400000095367432
          ],
          [
           "CHINA",
           "JAPANESE",
           1,
           3
          ],
          [
           "JAPAN",
           "CHINESE",
           1,
           3
          ],
          [
           "JAPAN",
           "CHINA",
           8,
           4
          ],
          [
           "JAPAN",
           "CHINA",
           2,
           3
          ],
          [
           "JAPAN",
           "CHINA",
           5,
           -10
          ],
          [
           "CHINA",
           "JAPANESE",
           8,
           -5
          ],
          [
           "TOKYO",
           "BEIJING",
           20,
           7
          ],
          [
           "JAPANESE",
           "CHINA",
           2,
           -5
          ],
          [
           "CHINA",
           "PANASONIC",
           4,
           -4
          ],
          [
           "CHINA",
           "JAPAN",
           10,
           3.5
          ],
          [
           "JAPAN",
           "CHINA",
           8,
           -5
          ],
          [
           "JAPANESE",
           "CHINA",
           1,
           3
          ],
          [
           "SHENZHEN",
           "JAPANESE",
           2,
           3
          ],
          [
           "JAPAN",
           "BEIJING",
           1,
           -6.5
          ],
          [
           "CHINA",
           "JAPANESE",
           8,
           5
          ],
          [
           "XI JINPING",
           "JAPANESE",
           6,
           4
          ],
          [
           "CHINA",
           "JAPAN",
           10,
           7.400000095367432
          ],
          [
           "CHINESE",
           "JAPANESE",
           4,
           -9.5
          ],
          [
           "JAPANESE",
           "CHINA",
           6,
           7
          ],
          [
           "JAPAN",
           "CHINA",
           16,
           7
          ],
          [
           "CHINA",
           "JAPAN",
           2,
           7.400000095367432
          ],
          [
           "JAPAN",
           "BEIJING",
           10,
           -7.199999809265137
          ],
          [
           "CHINA",
           "JAPAN",
           4,
           3
          ],
          [
           "CHINA",
           "JAPAN",
           8,
           -5
          ],
          [
           "JAPANESE",
           "CHINA",
           4,
           -7.199999809265137
          ],
          [
           "CHINA",
           "JAPAN",
           6,
           3.4000000953674316
          ],
          [
           "CHINESE",
           "JAPAN",
           1,
           -5
          ],
          [
           "JAPANESE",
           "XI JINPING",
           6,
           4
          ],
          [
           "CHINESE",
           "JAPANESE",
           16,
           7
          ],
          [
           "JAPAN",
           "CHINA",
           10,
           7
          ],
          [
           "JAPANESE",
           "CHINA",
           4,
           3
          ],
          [
           "CHINA",
           "JAPAN",
           6,
           8
          ],
          [
           "JAPAN",
           "CHINA",
           4,
           4
          ],
          [
           "JAPAN",
           "CHINA",
           4,
           3
          ],
          [
           "CHINA",
           "JAPANESE",
           4,
           -7.199999809265137
          ],
          [
           "JAPAN",
           "CHINA",
           9,
           4.5
          ],
          [
           "JAPAN",
           "CHINA",
           10,
           6.400000095367432
          ],
          [
           "JAPAN",
           "BEIJING",
           5,
           4
          ],
          [
           "CHINA",
           "YEZO",
           10,
           3
          ],
          [
           "CHINA",
           "TOKYO",
           2,
           6
          ],
          [
           "JAPAN",
           "CHINA",
           8,
           3
          ],
          [
           "XI JINPING",
           "JAPANESE",
           6,
           7
          ],
          [
           "CHINA",
           "JAPAN",
           8,
           5
          ],
          [
           "JAPAN",
           "CHINA",
           6,
           -10
          ],
          [
           "CHINA",
           "JAPAN",
           2,
           5
          ],
          [
           "CHINA",
           "JAPANESE",
           2,
           -4
          ],
          [
           "CHINESE",
           "OKINAWA",
           1,
           3
          ],
          [
           "TOKYO",
           "CHINA",
           2,
           -5
          ],
          [
           "CHINA",
           "JAPAN",
           8,
           -4
          ],
          [
           "JAPAN",
           "CHINA",
           10,
           3
          ],
          [
           "JAPANESE",
           "CHINESE",
           4,
           4
          ],
          [
           "CHINA",
           "JAPAN",
           6,
           3.5
          ],
          [
           "JAPANESE",
           "CHINA",
           12,
           4
          ],
          [
           "JAPANESE",
           "CHINESE",
           2,
           7
          ],
          [
           "CHINA",
           "JAPANESE",
           4,
           -7
          ],
          [
           "CHINA",
           "JAPAN",
           4,
           3.4000000953674316
          ],
          [
           "CHINESE",
           "JAPAN",
           5,
           6.400000095367432
          ],
          [
           "GUANGZHOU",
           "NAHA",
           10,
           4
          ],
          [
           "JAPAN",
           "CHINESE",
           7,
           3.4000000953674316
          ],
          [
           "JAPANESE",
           "CHINA",
           7,
           -10
          ],
          [
           "CHINESE",
           "JAPANESE",
           1,
           -7.199999809265137
          ],
          [
           "JAPAN",
           "CHINA",
           118,
           3
          ],
          [
           "JAPAN",
           "CHINA",
           2,
           3.4000000953674316
          ],
          [
           "TOKYO",
           "CHINA",
           1,
           -5
          ],
          [
           "JAPAN",
           "CHINA",
           4,
           7
          ],
          [
           "JAPANESE",
           "CHINA",
           14,
           3.4000000953674316
          ],
          [
           "CHINA",
           "JAPAN",
           6,
           -10
          ],
          [
           "TIANJIN",
           "JAPAN",
           18,
           6
          ],
          [
           "JAPANESE",
           "CHINA",
           1,
           4
          ],
          [
           "JAPAN",
           "CHINESE",
           4,
           4
          ],
          [
           "JAPAN",
           "BEIJING",
           10,
           -4
          ],
          [
           "CHINA",
           "JAPAN",
           1,
           4
          ],
          [
           "BEIJING",
           "TOKYO",
           8,
           8
          ],
          [
           "CHINA",
           "PANASONIC",
           30,
           7
          ],
          [
           "JAPAN",
           "CHINESE",
           8,
           -5
          ],
          [
           "CHINESE",
           "JAPAN",
           57,
           4
          ],
          [
           "CHINA",
           "JAPAN",
           2,
           3.5
          ],
          [
           "JAPAN",
           "CHINESE",
           6,
           3
          ],
          [
           "CHINA",
           "JAPANESE",
           1,
           -5
          ],
          [
           "CHINESE",
           "JAPAN",
           4,
           7
          ],
          [
           "BEIJING",
           "JAPAN",
           1,
           3
          ],
          [
           "CHINA",
           "TOKYO",
           12,
           7
          ],
          [
           "JAPAN",
           "CHINA",
           16,
           3
          ],
          [
           "BEIJING",
           "JAPANESE",
           4,
           7
          ],
          [
           "JAPANESE",
           "CHINA",
           1,
           -10
          ],
          [
           "CHINESE",
           "JAPANESE",
           2,
           7
          ],
          [
           "CHINESE",
           "JAPANESE",
           10,
           3.5
          ],
          [
           "TOKYO",
           "CHINESE",
           8,
           -4
          ],
          [
           "JAPANESE",
           "CHINA",
           1,
           7.400000095367432
          ],
          [
           "CHINA",
           "SAGA",
           1,
           -10
          ],
          [
           "SHANGHAI",
           "CHIBA",
           8,
           -5
          ],
          [
           "JAPAN",
           "CHINA",
           4,
           3
          ],
          [
           "CHINA",
           "JAPAN",
           16,
           3
          ],
          [
           "JAPANESE",
           "CHINA",
           3,
           4
          ],
          [
           "JAPAN",
           "CHINA",
           1,
           6
          ],
          [
           "JAPAN",
           "CHINESE",
           8,
           4
          ],
          [
           "TOYOTA",
           "SHANGHAI",
           2,
           5.199999809265137
          ],
          [
           "CHINA",
           "JAPAN",
           4,
           3.4000000953674316
          ],
          [
           "CHINA",
           "JAPAN",
           1,
           7
          ],
          [
           "CHINESE",
           "JAPAN",
           4,
           5
          ],
          [
           "CHINA",
           "TOKYO",
           2,
           5.199999809265137
          ],
          [
           "CHINA",
           "JAPANESE",
           1,
           3.5
          ],
          [
           "JAPAN",
           "CHINA",
           2,
           7
          ],
          [
           "CHINESE",
           "JAPAN",
           2,
           3.4000000953674316
          ],
          [
           "TOKYO",
           "BEIJING",
           4,
           4
          ],
          [
           "JAPAN",
           "CHINESE",
           2,
           -5
          ],
          [
           "JAPAN",
           "CHINA",
           2,
           4
          ],
          [
           "JAPAN",
           "CHINA",
           3,
           3.4000000953674316
          ],
          [
           "CHINESE",
           "JAPAN",
           2,
           -5
          ],
          [
           "CHINESE",
           "RYUKYU",
           3,
           3.4000000953674316
          ],
          [
           "CHINA",
           "JAPAN",
           2,
           7
          ],
          [
           "CHINA",
           "JAPAN",
           1,
           3.5
          ],
          [
           "CHINA",
           "JAPAN",
           140,
           6.400000095367432
          ],
          [
           "JAPAN",
           "CHINESE",
           2,
           -7
          ],
          [
           "JAPAN",
           "CHINA",
           2,
           4
          ],
          [
           "CHINA",
           "JAPAN",
           4,
           7
          ],
          [
           "JAPAN",
           "CHINA",
           4,
           7
          ],
          [
           "JAPAN",
           "CHINA",
           1,
           8
          ],
          [
           "CHINA",
           "JAPAN",
           8,
           3.5
          ],
          [
           "CHINA",
           "JAPAN",
           5,
           6.400000095367432
          ],
          [
           "CHINA",
           "JAPAN",
           2,
           -7
          ],
          [
           "TOKYO",
           "BEIJING",
           1,
           5
          ],
          [
           "CHINA",
           "JAPAN",
           10,
           4
          ],
          [
           "JAPAN",
           "CHINA",
           8,
           4
          ],
          [
           "JAPANESE",
           "CHINESE",
           8,
           -10
          ],
          [
           "JAPAN",
           "CHINESE",
           1,
           -9
          ],
          [
           "JAPAN",
           "CHINA",
           2,
           4
          ],
          [
           "JAPANESE",
           "CHINA",
           1,
           7
          ],
          [
           "JAPAN",
           "CHINESE",
           1,
           7.400000095367432
          ],
          [
           "CHINA",
           "JAPANESE",
           1,
           8
          ],
          [
           "CHINA",
           "JAPAN",
           4,
           6.400000095367432
          ],
          [
           "JAPAN",
           "CHINESE",
           8,
           4
          ],
          [
           "CHINA",
           "JAPAN",
           2,
           6.400000095367432
          ],
          [
           "CHINA",
           "JAPAN",
           6,
           3
          ],
          [
           "TOKYO",
           "CHINA",
           20,
           7
          ],
          [
           "CHINA",
           "JAPAN",
           12,
           4
          ],
          [
           "CHINA",
           "JAPAN",
           2,
           -5
          ],
          [
           "CHINESE",
           "JAPAN",
           1,
           -9.5
          ],
          [
           "CHINA",
           "JAPAN",
           10,
           6
          ],
          [
           "JAPAN",
           "CHINA",
           2,
           7
          ],
          [
           "JAPAN",
           "CHINESE",
           5,
           -9.5
          ],
          [
           "JAPAN",
           "CHINA",
           5,
           3
          ],
          [
           "CHINA",
           "JAPAN",
           8,
           4
          ],
          [
           "JAPAN",
           "CHINA",
           2,
           7
          ],
          [
           "CHINA",
           "JAPAN",
           2,
           7
          ],
          [
           "CHINA",
           "JAPAN",
           2,
           6.400000095367432
          ],
          [
           "JAPAN",
           "CHINA",
           2,
           4
          ],
          [
           "CHINA",
           "JAPAN",
           183,
           3.5
          ],
          [
           "BEIJING",
           "JAPAN",
           2,
           -4.400000095367432
          ],
          [
           "CHINA",
           "JAPAN",
           2,
           3.4000000953674316
          ],
          [
           "CHINA",
           "JAPAN",
           39,
           4
          ],
          [
           "JAPANESE",
           "CHINESE",
           12,
           3.4000000953674316
          ],
          [
           "TOKYO",
           "CHINA",
           6,
           4
          ],
          [
           "JAPAN",
           "CHINA",
           3,
           3.5
          ],
          [
           "JAPAN",
           "CHINA",
           1,
           -4.400000095367432
          ],
          [
           "CHINA",
           "JAPANESE",
           2,
           3.4000000953674316
          ],
          [
           "JAPAN",
           "CHINA",
           2,
           4
          ],
          [
           "CHINA",
           "FUKUSHIMA",
           2,
           6.400000095367432
          ],
          [
           "TOKYO",
           "CHINESE",
           4,
           7
          ],
          [
           "JAPAN",
           "CHINESE",
           1,
           4
          ],
          [
           "CHINA",
           "JAPANESE",
           10,
           7
          ],
          [
           "CHINA",
           "JAPAN",
           2,
           -7.199999809265137
          ],
          [
           "CHINA",
           "JAPAN",
           4,
           4
          ],
          [
           "CHINA",
           "JAPANESE",
           4,
           7.400000095367432
          ],
          [
           "CHINA",
           "TOKYO",
           4,
           -4.400000095367432
          ],
          [
           "BEIJING",
           "TOKYO",
           4,
           3.4000000953674316
          ],
          [
           "CHINA",
           "JAPAN",
           6,
           -7
          ],
          [
           "CHINA",
           "JAPAN",
           14,
           7
          ],
          [
           "CHINA",
           "JAPAN",
           8,
           3.5
          ],
          [
           "JAPAN",
           "CHINA",
           8,
           7
          ],
          [
           "CHINA",
           "JAPAN",
           2,
           3.4000000953674316
          ],
          [
           "JAPAN",
           "CHINA",
           2,
           4
          ],
          [
           "TOKYO",
           "CHINA",
           2,
           3.4000000953674316
          ],
          [
           "CHINA",
           "JAPAN",
           1,
           3.4000000953674316
          ],
          [
           "CHINA",
           "JAPAN",
           10,
           7
          ],
          [
           "CHINA",
           "JAPAN",
           2,
           -10
          ],
          [
           "CHINA",
           "JAPAN",
           11,
           6.400000095367432
          ],
          [
           "CHINA",
           "JAPAN",
           2,
           3
          ],
          [
           "JAPAN",
           "CHINESE",
           8,
           -5
          ],
          [
           "CHINESE",
           "JAPANESE",
           2,
           3.4000000953674316
          ],
          [
           "CHINA",
           "JAPANESE",
           7,
           7
          ],
          [
           "JAPAN",
           "CHINA",
           1,
           -5
          ],
          [
           "CHINA",
           "JAPAN",
           2,
           3
          ],
          [
           "CHINA",
           "JAPAN",
           2,
           3.4000000953674316
          ],
          [
           "JAPAN",
           "CHINA",
           8,
           6.400000095367432
          ],
          [
           "CHINA",
           "JAPAN",
           2,
           6.400000095367432
          ],
          [
           "CHINA",
           "JAPAN",
           2,
           3.5
          ],
          [
           "CHINA",
           "JAPAN",
           1,
           3.4000000953674316
          ],
          [
           "JAPANESE",
           "CHINESE",
           4,
           3
          ],
          [
           "CHINA",
           "JAPAN",
           2,
           3
          ],
          [
           "CHINA",
           "JAPAN",
           2,
           4
          ],
          [
           "CHINESE",
           "SAITAMA",
           10,
           -5
          ],
          [
           "JAPAN",
           "CHINA",
           1,
           6.400000095367432
          ],
          [
           "CHINA",
           "JAPAN",
           1,
           7
          ],
          [
           "CHINA",
           "JAPAN",
           2,
           -8
          ],
          [
           "JAPAN",
           "CHINESE",
           1,
           7
          ],
          [
           "JAPAN",
           "CHINA",
           8,
           -4.400000095367432
          ],
          [
           "JAPAN",
           "CHINA",
           2,
           4
          ],
          [
           "CHINA",
           "JAPAN",
           2,
           -10
          ],
          [
           "CHINESE",
           "JAPAN",
           10,
           -5
          ],
          [
           "CHINA",
           "JAPAN",
           2,
           -10
          ],
          [
           "JAPAN",
           "CHINA",
           8,
           3.4000000953674316
          ],
          [
           "CHINESE",
           "JAPAN",
           1,
           7
          ],
          [
           "JAPAN",
           "CHINA",
           4,
           4
          ],
          [
           "SHANGHAI",
           "JAPANESE",
           1,
           3.4000000953674316
          ],
          [
           "CHINA",
           "JAPAN",
           2,
           3.4000000953674316
          ],
          [
           "CHINA",
           "JAPAN",
           2,
           7.400000095367432
          ],
          [
           "CHINESE",
           "JAPANESE",
           5,
           -9.5
          ],
          [
           "JAPAN",
           "CHINA",
           14,
           4
          ],
          [
           "CHINA",
           "TOKYO",
           6,
           6
          ],
          [
           "JAPAN",
           "CHINA",
           622,
           -9.5
          ],
          [
           "JAPAN",
           "CHINA",
           2,
           3.5
          ],
          [
           "CHINESE",
           "JAPANESE",
           4,
           -7.199999809265137
          ],
          [
           "CHINA",
           "JAPAN",
           3,
           4
          ],
          [
           "JAPANESE",
           "CHINA",
           1,
           7
          ],
          [
           "CHINA",
           "JAPAN",
           8,
           6.400000095367432
          ],
          [
           "CHINA",
           "JAPAN",
           10,
           3.4000000953674316
          ],
          [
           "JAPAN",
           "CHINA",
           15,
           3
          ],
          [
           "BEIJING",
           "JAPAN",
           1,
           3
          ],
          [
           "CHINA",
           "JAPAN",
           4,
           3.5
          ],
          [
           "JAPAN",
           "CHINA",
           2,
           -4
          ],
          [
           "CHINA",
           "JAPAN",
           4,
           5.199999809265137
          ],
          [
           "SHANGHAI",
           "JAPAN",
           1,
           7
          ],
          [
           "TOKYO",
           "CHINA",
           10,
           -6.5
          ],
          [
           "CHINESE",
           "JAPANESE",
           10,
           7
          ],
          [
           "CHINA",
           "KUMAMOTO",
           2,
           8
          ],
          [
           "HAIKOU",
           "OSAKA",
           8,
           -5
          ],
          [
           "JAPAN",
           "CHINA",
           2,
           7
          ],
          [
           "CHINA",
           "JAPANESE",
           2,
           -5
          ],
          [
           "CHINA",
           "JAPAN",
           8,
           -10
          ],
          [
           "CHINESE",
           "JAPAN",
           4,
           7
          ],
          [
           "JAPANESE",
           "CHINA",
           2,
           6.400000095367432
          ],
          [
           "CHINESE",
           "JAPAN",
           2,
           -9
          ],
          [
           "CHINA",
           "JAPAN",
           30,
           6.400000095367432
          ],
          [
           "JAPAN",
           "CHINA",
           3,
           6
          ]
         ],
         "hovertemplate": "<b>%{hovertext}</b><br><br>NumMentions=%{customdata[2]}<br>ActionGeo_Lat=%{lat}<br>ActionGeo_Long=%{lon}<br>Actor1Name=%{customdata[0]}<br>Actor2Name=%{customdata[1]}<br>GoldsteinScale=%{marker.color}<extra></extra>",
         "hovertext": [
          "CH22",
          "CH07",
          "JA11",
          "JA09",
          "CH04",
          "JA40",
          "JA00",
          "JA00",
          "CH22",
          "USDC",
          "JA00",
          "BP00",
          "CH22",
          "CH20",
          "CH22",
          "CH22",
          "KN12",
          "CH22",
          "USDC",
          "CH22",
          "CH29",
          "CH22",
          "TW03",
          "JA00",
          "CH23",
          "JA40",
          "JA40",
          "JA00",
          "USDC",
          "JA40",
          "JA40",
          "JA40",
          "CH22",
          "JA40",
          "CH22",
          "CH22",
          "CH22",
          "CH22",
          "JA40",
          "JA40",
          "CH22",
          "USCA",
          "JA40",
          "JA40",
          "CH22",
          "JA40",
          "JA40",
          "JA40",
          "JA00",
          "JA12",
          "CH22",
          "CH23",
          "JA40",
          "JA12",
          "JA40",
          "JA40",
          "CH23",
          "CH22",
          "CH22",
          "JA12",
          "CH30",
          "CH22",
          "CH22",
          "JA12",
          "CH22",
          "JA40",
          "JA00",
          "JA32",
          "JA00",
          "CH04",
          "CH07",
          "CH22",
          "JA32",
          "CH07",
          "CH22",
          "JA12",
          "CH22",
          "CH22",
          "JA40",
          "CH22",
          "CH23",
          "JA40",
          "CH12",
          "JA12",
          "CH22",
          "JA47",
          "CH19",
          "CH22",
          "CH22",
          "CH22",
          "CH22",
          "CH08",
          "CH22",
          "CH22",
          "JA40",
          "CH22",
          "CH14",
          "CH22",
          "CH22",
          "CH23",
          "CH02",
          "JA40",
          "CH22",
          "CH22",
          "CH22",
          "USDC",
          "CH22",
          "JA40",
          "CH22",
          "TW03",
          "CH22",
          "CH22",
          "CH30",
          "JA47",
          "CH22",
          "JA40",
          "CH22",
          "CH22",
          "CH22",
          "JA47",
          "TW03",
          "CH22",
          "CH22",
          "CH22",
          "JA47",
          "CH01",
          "CH22",
          "CH22",
          "JA40",
          "CH09",
          "CH22",
          "JA00",
          "CH22",
          "CH22",
          "RS48",
          "CH23",
          "CH04",
          "CH22",
          "TW00",
          "CB11",
          "JA40",
          "CH23",
          "UKH9",
          "CH22",
          "CH22",
          "CH23",
          "CH22",
          "JA47",
          "CH22",
          "JA40",
          "RS48",
          "CH22",
          "RS48",
          "CH22",
          "CH22",
          "CH22",
          "JA40",
          "CH22",
          "CH22",
          "CH22",
          "CH22",
          "CH25",
          "JA47",
          "JA40",
          "JA40",
          "CH22",
          "CH22",
          "JA40",
          "JA40",
          "JA40",
          "JA40",
          "JA19",
          "CH23",
          "TW03",
          "JA40",
          "CH22",
          "CH15",
          "JA22",
          "VM45",
          "JA00",
          "JA01",
          "JA00",
          "UKV3",
          "CH02",
          "CH04",
          "JA40",
          "CH22",
          "UKV2",
          "JA12",
          "JA40",
          "JA32",
          "JA40",
          "CH02",
          "CH04",
          "RS48",
          "JA47",
          "JA40",
          "CH30",
          "CH19",
          "UKH9",
          "CH22",
          "CH19",
          "CH22",
          "JA40",
          "JA40",
          "RS48",
          "CH22",
          "JA40",
          "USDC",
          "JA00",
          "CH22",
          "JA40",
          "JA47",
          "CH04",
          "JA40",
          "CH22",
          "JA40",
          "JA40",
          "CH22",
          "JA00",
          "JA40",
          "CH22",
          "CH22",
          "CH22",
          "CH29",
          "CH19",
          "JA40",
          "CH32",
          "CH22",
          "JA40",
          "JA40",
          "JA00",
          "CH22",
          "CH30",
          "CH19",
          "CH09",
          "JA40",
          "CH22",
          "JA40",
          "JA40",
          "AS05",
          "JA00",
          "NZ00",
          "CH20",
          "JA00",
          "CH22",
          "CH01",
          "JA40",
          "CH03",
          "CH26",
          "JA00",
          "CH22",
          "CH22",
          "JA40",
          "RP10",
          "CH22",
          "JA00",
          "JA40",
          "CH22",
          "AS01",
          "CH22",
          "JA40",
          "CH22",
          "CH23",
          "CH04",
          "BG00",
          "CH19",
          "JA40",
          "CH04",
          "CH22",
          "JA40",
          "KS11",
          "RP10",
          "CH05",
          "JA40",
          "CH15",
          "CH30",
          "CH19",
          "JA12",
          "GM02",
          "JA32",
          "CH22",
          "CH04",
          "JA40",
          "CH22",
          "CH04",
          "JA12",
          "JA40",
          "CH22",
          "JA00",
          "CH22",
          "CH03",
          "JA40",
          "CH22",
          "CH15",
          "CH22",
          "CH22",
          "CH04",
          "JA40",
          "CH22",
          "TW03",
          "JA40",
          "CH31",
          "JA40",
          "JA00",
          "JA40",
          "JA00",
          "JA00",
          "CH04",
          "OS00",
          "CH22",
          "CH22",
          "CH22",
          "CH16",
          "JA40",
          "VM75",
          "CH22",
          "TW00",
          "TW25",
          "JA00",
          "CH22",
          "JA00",
          "CH23",
          "JA40",
          "CH23",
          "BX00",
          "JA40",
          "CH22",
          "CH22",
          "JA40",
          "CH22",
          "CH23",
          "JA40",
          "CH22",
          "JA40",
          "CH22",
          "CH22",
          "JA40",
          "CH22",
          "CH22",
          "JA40",
          "JA40",
          "JA16",
          "JA40",
          "CH22",
          "JA40",
          "CH22",
          "CH01",
          "CH23",
          "CH22",
          "CH22",
          "CH04",
          "CH22",
          "CH22",
          "CH22",
          "TW00",
          "CH26",
          "CH19",
          "BG84",
          "CH22",
          "CH22",
          "CH22",
          "CH19",
          "TW03",
          "CH19",
          "CH22",
          "JA40",
          "JA40",
          "KS11",
          "IN21",
          "JA12",
          "JA11",
          "CH22",
          "JA40",
          "JA40",
          "JA29",
          "CH22",
          "CH05",
          "JA40",
          "CA08",
          "CH22",
          "CH29",
          "CH22",
          "UP12",
          "JA11",
          "CH22",
          "JA40",
          "CH22",
          "AS01",
          "CH22",
          "ID04",
          "USDC",
          "CH22",
          "CH05",
          "CH23",
          "JA11",
          "JA00",
          "JA32",
          "JA40",
          "JA40",
          "CH19",
          "CH30",
          "JA40",
          "JA32",
          "CH31",
          "CH02",
          "CA10",
          "CH22",
          "CH23",
          "CH23",
          "CH22",
          "RP10",
          "CH22",
          "CH22",
          "CH23",
          "JA40",
          "CH23",
          "MY16",
          "JA00",
          "CH19",
          "JA47",
          "JA11",
          "JA11",
          "CH22",
          "CH03",
          "CH30",
          "CH01",
          "JA40",
          "CH22",
          "KS11",
          "CH22",
          "CH30",
          "CH22",
          "JA40",
          "CH25",
          "CH22",
          "JA40",
          "CH04",
          "CH07",
          "CH21",
          "JA12",
          "JA40",
          "CH22",
          "CH22",
          "CH19",
          "KS11",
          "JA40",
          "CH07",
          "KS10",
          "RS84",
          "JA40",
          "CH07",
          "CH22",
          "JA40",
          "CH22",
          "JA13",
          "USDC",
          "CH22",
          "LH65",
          "CH22",
          "JA40",
          "CH30",
          "CH22",
          "JA40",
          "JA40",
          "BX00",
          "CH10",
          "JA40",
          "JA40",
          "CH01",
          "CH16",
          "CH22",
          "JA47",
          "CH25",
          "CH23",
          "CH25",
          "CH30",
          "CH22",
          "CH08",
          "CH28",
          "CH22",
          "CH01",
          "CH22",
          "CH25",
          "KN12",
          "CH22",
          "JA00",
          "IS00",
          "RPD9",
          "JA12",
          "CH01",
          "CH18",
          "JA40",
          "KS11",
          "CH22",
          "CH22",
          "CH23",
          "CH22",
          "CH22",
          "JA40",
          "CH22",
          "CH23",
          "CH22",
          "CH22",
          "CH22",
          "CH22",
          "JA00",
          "CH22",
          "CH22",
          "USDC",
          "CH02",
          "BX00",
          "CH22",
          "CH22",
          "CH22",
          "RPD9",
          "CH22",
          "JA40",
          "CH22",
          "JA40",
          "JA40",
          "CH22",
          "CH33",
          "CH22",
          "JA40",
          "CH30",
          "JA22",
          "CH22",
          "JA40",
          "CH22",
          "CH25",
          "CH22",
          "JA40",
          "CH04",
          "JA40",
          "KS11",
          "CH22",
          "CH26",
          "JA40",
          "CH22",
          "JA08",
          "CH19",
          "CH22",
          "CH22",
          "CH07",
          "CH22",
          "RPL7",
          "JA47",
          "CH22",
          "JA40",
          "CH25",
          "CH22",
          "CH22",
          "JA40",
          "JA40",
          "CH22",
          "USIL",
          "CH22",
          "JA40",
          "JA40",
          "CH22",
          "CH25",
          "JA40",
          "JA00",
          "KS11",
          "CH23",
          "CH02",
          "CH22",
          "OCOC",
          "CH23",
          "USDC",
          "CH22",
          "IN12",
          "JA40",
          "JA40",
          "JA40",
          "JA40",
          "CH04",
          "KS11",
          "CH22",
          "CH30",
          "JA40",
          "CA02",
          "IT09",
          "CH22",
          "KS11",
          "JA40",
          "JA40",
          "JA40",
          "CH22",
          "ID04",
          "JA40",
          "JA40",
          "CH22",
          "CH22",
          "CH22",
          "JA47",
          "JA40",
          "CH22",
          "JA40",
          "JA40",
          "CH29",
          "CH22",
          "JA40",
          "JA40",
          "CH22",
          "CH30",
          "CH22",
          "CH22",
          "CH22",
          "CH22",
          "CH22",
          "JA40",
          "CH23",
          "TU00",
          "JA47",
          "KS11",
          "CH22",
          "JA40",
          "JA40",
          "JA40",
          "VM45",
          "JA12",
          "CH03",
          "CH22",
          "JA40",
          "CH09",
          "CH22",
          "JA40",
          "JA40",
          "KS11",
          "BX00",
          "CH30",
          "CH22",
          "JA40",
          "JA40",
          "UKI6",
          "JA40",
          "JA40",
          "TW00",
          "CH22",
          "JA34",
          "CH04",
          "CH22",
          "CH22",
          "JA40",
          "JA40",
          "TH46",
          "CH22",
          "JA40",
          "JA40",
          "JA12",
          "CH22",
          "CH22",
          "CH22",
          "JA38",
          "USCA",
          "JA40",
          "CH00",
          "JA00",
          "CH22",
          "CH22",
          "CH22",
          "CH22",
          "JA40",
          "CH22",
          "CH22",
          "JA40",
          "CH22",
          "CH32",
          "IS00",
          "JA40",
          "CH22",
          "USCA",
          "CH22",
          "JA40",
          "TW18",
          "JA40",
          "CH30",
          "JA40",
          "JA40",
          "CH19",
          "KS11",
          "KS11",
          "JA40",
          "JA00",
          "CH22",
          "CH03",
          "CH22",
          "KS10",
          "JA40",
          "JA40",
          "CH02",
          "KN12",
          "CH19",
          "CH22",
          "JA40",
          "KS10",
          "CH22",
          "JA40",
          "JA40",
          "JA40",
          "CH22",
          "CH22",
          "CH22",
          "CH22",
          "CH22",
          "CH03",
          "JA40",
          "JA40",
          "JA07",
          "CH04",
          "CH23",
          "USCA",
          "KS11",
          "JA40",
          "JA40",
          "CH22",
          "CH14",
          "CH22",
          "CH22",
          "NP00",
          "CH22",
          "CH22",
          "JA40",
          "CH19",
          "USPA",
          "JA13",
          "JA07",
          "CH22",
          "CH23",
          "JA40",
          "CH22",
          "JA40",
          "CH22",
          "IN07",
          "JA04",
          "CH02",
          "JA29",
          "USHI",
          "CH22",
          "AS01",
          "CH22",
          "JA47",
          "JA13",
          "JA40",
          "CH02",
          "CH19",
          "TW00",
          "CH22",
          "CH22",
          "JA13",
          "JA40",
          "CH29",
          "CH22",
          "CH22",
          "JA04",
          "CH19",
          "JA22",
          "JA40",
          "JA40",
          "CH22",
          "CH09",
          "JA40",
          "JA37",
          "CH24",
          "KN12",
          "JA40",
          "USDC",
          "CH24",
          "JA40",
          "JA40",
          "CH22",
          "CH02",
          "CH22",
          "JA45",
          "JA40",
          "CH22",
          "CH01",
          "JA40",
          "CH22",
          "TW03",
          "JA40",
          "CH15",
          "CH22",
          "CH22",
          "JA40",
          "CH22",
          "CH22",
          "JA29",
          "USDC",
          "CH31",
          "CH07",
          "CH19",
          "JA16",
          "CH22",
          "CH08",
          "JA12",
          "JA40",
          "JA00",
          "JA40",
          "CH22",
          "CH22",
          "CH22",
          "CH22",
          "USTX",
          "JA00",
          "CH19",
          "JA12",
          "USDC",
          "RP10",
          "CH23",
          "USDC",
          "JA40",
          "KS11",
          "CH18",
          "JA40",
          "JA40",
          "CH26",
          "JA40",
          "CH22",
          "JA12",
          "JA40",
          "CH22",
          "CH10",
          "RPD9",
          "JA40",
          "BX00",
          "CH22",
          "JA40",
          "JA40",
          "JA40",
          "JA40",
          "CH03",
          "RP00",
          "JA40",
          "CH02",
          "AS01",
          "CH22",
          "IN28",
          "JA40",
          "KS11",
          "CH22",
          "KS11",
          "CH00",
          "JA40",
          "CH32",
          "CH22",
          "CH22",
          "KS11",
          "KS11",
          "KS11",
          "JA40",
          "CH22",
          "KS11",
          "JA40",
          "JA19",
          "JA40",
          "KS11",
          "CH02",
          "KS11",
          "AU09",
          "CH19",
          "CH22",
          "KS11",
          "CH22",
          "TU00",
          "JA40",
          "CH22",
          "CH22",
          "CH22",
          "CH22",
          "CH30",
          "CH22",
          "JA40",
          "KS11",
          "CH00",
          "CH26",
          "KN12",
          "JA40",
          "CH19",
          "JA40",
          "JA40",
          "KS11",
          "KN12",
          "CH29",
          "CH22",
          "CH03",
          "JA40",
          "JA00",
          "JA40",
          "IN07",
          "CH33",
          "JA40",
          "CH22",
          "JA40",
          "CA01",
          "JA00",
          "CH22",
          "NI00",
          "CH22",
          "KS11",
          "CH19",
          "CH19",
          "JA40",
          "KS11",
          "CH22",
          "JA40",
          "ID07",
          "JA40",
          "BX00",
          "JA00",
          "JA40",
          "CH00",
          "CH22",
          "JA40",
          "CH23",
          "CH22",
          "JA12",
          "JA40",
          "JA40",
          "JA40",
          "CH04",
          "CH02",
          "JA37",
          "CH22",
          "CH22",
          "JA40",
          "CH22",
          "CH22",
          "RPD9",
          "CH22",
          "JA40",
          "CH04",
          "CH22",
          "CH22",
          "JA00",
          "RP10",
          "CH29",
          "JA37",
          "JA00",
          "JA34",
          "CH22",
          "GM01",
          "JA12",
          "CH22",
          "CH04",
          "CH22",
          "CH23",
          "CH18",
          "JA40",
          "CH04",
          "JA40",
          "CH22",
          "CH22",
          "CH12",
          "JA40",
          "CH19",
          "JA12",
          "JA44",
          "CH22",
          "JA00",
          "JA40",
          "USDC",
          "JA40",
          "CH19",
          "JA40",
          "CH11",
          "RP10",
          "CH23",
          "JA40",
          "JA40",
          "CH22",
          "CH22",
          "JA00",
          "CH16",
          "CH04",
          "JA40",
          "JA00",
          "LA11",
          "JA12",
          "CH22",
          "CH23",
          "CH22",
          "JA40",
          "JA22",
          "CH23",
          "TW00",
          "CH05",
          "RS61",
          "CH22",
          "CH30",
          "CH22",
          "CH30",
          "JA00",
          "CH22",
          "CH03",
          "CH22",
          "CH30",
          "JA40",
          "CH22",
          "JA40",
          "JA40",
          "CH30",
          "CH22",
          "CH22",
          "JA40",
          "CH22",
          "JA40",
          "CH22",
          "CH22",
          "JA40",
          "JA00",
          "CH30",
          "CH22",
          "CH22",
          "CH22",
          "CH02",
          "CH22",
          "CH30",
          "CH22",
          "JA40",
          "CH30",
          "CH22",
          "CH30",
          "JA40",
          "CH22",
          "CH07",
          "RP10",
          "CH22",
          "CH30",
          "CH22",
          "CH22",
          "JA12",
          "CH22",
          "CH30",
          "JA37",
          "CH22",
          "CH22",
          "CH22",
          "CH22",
          "JA12",
          "JA40",
          "CH30",
          "USDC",
          "JA12",
          "JA40",
          "JA40",
          "CH22",
          "JA00",
          "JA18",
          "CH19",
          "USCA",
          "JA47",
          "JA40",
          "IN07",
          "CH22",
          "JA12",
          "CH22",
          "CH22",
          "CH22",
          "CH30",
          "UP12",
          "CH23",
          "KS11",
          "JA47",
          "CH02",
          "CH22",
          "CH23",
          "JA40",
          "CH19",
          "CH22",
          "JA40",
          "CH22",
          "JA40",
          "CH07",
          "JA34",
          "JA40",
          "CH04",
          "JA44",
          "JA40",
          "JA32",
          "JA40",
          "CH31",
          "CH22",
          "JA40",
          "CH28",
          "JA40",
          "JA40",
          "CH22",
          "CH22",
          "JA40",
          "CH30",
          "JA34",
          "CH22",
          "CH14",
          "CH22",
          "JA40",
          "CH22",
          "JA40",
          "JA40",
          "CH04",
          "CH22",
          "CH04",
          "JA40",
          "JA40",
          "CH02",
          "CH23",
          "CH22",
          "CH23",
          "CH22",
          "CH22",
          "CH22",
          "CA10",
          "JA40",
          "CH23",
          "CH11",
          "CH22",
          "JA40",
          "CH22",
          "JA40",
          "JA40",
          "CH22",
          "CH22",
          "JA12",
          "JA40",
          "JA40",
          "JA12",
          "JA47",
          "CH30",
          "JA40",
          "JA40",
          "CH30",
          "CH23",
          "CH01",
          "USDC",
          "CH19",
          "JA40",
          "CH23",
          "CH22",
          "IN07",
          "CH22",
          "CH22",
          "JA40",
          "CB00",
          "CH23",
          "CH22",
          "CB11",
          "CH33",
          "CA10",
          "KS11",
          "CH22",
          "CH22",
          "JA40",
          "CH22",
          "CH30",
          "CH22",
          "AS02",
          "KS11",
          "AS03",
          "JA32",
          "JA40",
          "KS11",
          "CH22",
          "RP10",
          "CH22",
          "JA40",
          "CH22",
          "CH22",
          "KS11",
          "CH22",
          "CH22",
          "CH22",
          "CH22",
          "CH26",
          "JA40",
          "CH22",
          "JA40",
          "JA40",
          "JA40",
          "CH02",
          "CH22",
          "CH22",
          "JA40",
          "CH22",
          "CH22",
          "AE03",
          "JA40",
          "CH04",
          "CH22",
          "CH22",
          "CH04",
          "JA32",
          "RPD9",
          "TW03",
          "CH22",
          "CH18",
          "CH15",
          "JA40",
          "JA40",
          "JA40",
          "CH12",
          "JA40",
          "CH22",
          "IN07",
          "KS11",
          "JA40",
          "CH22",
          "CH22",
          "JA32",
          "JA40",
          "CH22",
          "IN07",
          "CH22",
          "JA40",
          "CH22",
          "JA40",
          "JA40",
          "JA40",
          "JA40",
          "CH23",
          "JA40",
          "CH18",
          "CH00",
          "JA40",
          "JA00",
          "JA40",
          "JA32",
          "CH32",
          "JA40",
          "CH22",
          "JA44",
          "CH22",
          "CH22",
          "CH30",
          "JA29",
          "JA40",
          "CH22",
          "CH22",
          "JA12",
          "JA40",
          "CH23",
          "JA40",
          "CH33",
          "CH30",
          "CH31",
          "CH30",
          "JA32",
          "USDC",
          "CH31",
          "USIL",
          "JA00",
          "CH22",
          "CA02"
         ],
         "lat": {
          "bdata": "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",
          "dtype": "f4"
         },
         "legendgroup": "",
         "lon": {
          "bdata": "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",
          "dtype": "f4"
         },
         "marker": {
          "color": {
           "bdata": "AAAgwQAAEMEAABDBAACAQAAAIMHNzIzAAAAgwQAAIMEAAODAAABAQAAAIMEAAIDAAABAQAAAoMAAAOBAAACAQAAAoMAAAIBAAABgQAAA4EAAACDBAADgQAAAIMFmZubAzczsQAAAgMDNzOxAAADgQAAAgEAAAIDAAADgQAAA4EAAAIDAAACAQAAAgEAAAOBAzcyMwAAA4EAAAOBAAABgQAAA4EAAAIBAzcyMwAAAgMAAAIBAAACAwAAAgEAAAGBAAADgQAAAgMAAAOBAAADQwAAA4ECamVlAAABAQDMzE8EAAIDAzczMQJqZWUDNzOxAzczMQJqZWUDNzIzAAAAAQZqZWUAAAGBAZmbmwM3MzEAAANDAAAAgwZqZWUAAACDBzczMQAAA4EAAACDBAAAgwQAAQEDNzMxAAADgQAAA4EAAAKDAZmbmwJqZWUAAAKBAAADgQAAA4EAAAKBAAADQwM3MzEAAAOBAAADgQAAAIMEAACDBzcyMwAAA4EAAAODAmplZQAAAgEAAAEBAAADQwAAAIMEAACDBAACAwJqZWUAAACDBAACAwAAAYEAAAOBAAADgQAAAIMEAAABBAAAgwQAAIMEAACDBAADgwAAAAMEAACDBzczsQM3MjMAAAKDAAAAgwQAAIMEAAODAAADgQAAAIMEAACDBAAAgwc3MjMAAAOBAAABAQAAA4MAAACBBAACAQM3MjMAAAOBAzczsQAAAQEAAAKDAAAAgwQAA4EAAANDAzczsQAAAIMHNzIzAAABAQM3M7ECamVlAAAAgwc3M7EAAAEBAAACgwAAAIMHNzIzAAACAwAAAIMGamVlAAADgQJqZWUCamVlAAAAgwQAAIMEAAGBAAAAgwQAAYEAAACDBAABgQJqZWUAAAGBAAABgQAAA4EAAAGBAAABAQAAAwEAAAIDAAABAQAAA4MCamVlAAABAQM3M7EAAACDBAADgQAAAgEAAAEBAAADAQAAA4EDNzIzAAAAgwQAAAEEAAOBAAABgQAAA4EAAAGBAAADAQAAAIMFmZubAAACAQAAAYEDNzIzAAAAgwc3MjMAAAEBAAAAgwWZm5sAAAKBAAADgQAAA0MCamVlAAABgQM3MjMBmZubAZmbmwAAAQEAAACDBAACAQAAAAEEAAEBAAACgwAAA4MDNzMxAAADgQAAAQEAAAEBAAACAQAAAQEAAAEBAzczsQAAAIMEAAKDAZmbmwAAAoMAAAMBAzcyMwAAAoMAAAKDAzczsQJqZWUAAAMBAAACAwGZm5sAAAIDAAADAQAAA4EAAAOBAmplZQM3M7EAAANDAAADQwAAAIMEAAEBAAACAQAAAgEAAAABBAACgwAAA4MAAACDBZmbmwM3M7EAAAKDAAABAQAAAYECamVlAAAAgwQAAIMGamVlAAACAQAAAAEEAAMBAmplZQAAAgEAAAEBAzczMQAAAgMBmZubAAACAQAAA4EAAAIBAAACgQAAA4EAAAIBAAABgQAAAgEDNzMxAzczMQGZmpkAAAOBAZmamQAAA4EAAAEBAAACAQAAAYEDNzMxAAABgQAAAoMAAAIBAAABAQAAAoMAAAEBAAADgQAAAgEAAACDBAAAAQQAA4EAAAOBAzczMQAAAoMAAAKDAAADgQAAA4EAAAIDAAADgQAAAoMDNzMxAAACgwAAAIMEAACDBmplZQAAAgEAAACDBAADgQAAAQECamVlAAAAYwQAAQEAAAOBAAADgQM3MzEAAAOBAAACgwM3MzEAAAIBAzcyMwM3MjMAAAIBAAADgQGZmpkAAAOBAAACAQAAAgMAAAOBAAACgwM3MzEBmZubAAAAgwc3MjMAAAKDAAACgwJqZWUAAAIBAAADgQAAAgEAAAIDAAAAgwc3MjMAAAIBAAACgwAAAIMEAAIDAAACgwAAAQEAAAIBAAAAAQQAAgEAzM3NAAAAgwQAAIMEAAOBAAACAQAAAoMDNzMxAAACAQAAAQEBmZqZAzcyMwAAA0MAAAOBAAABAQAAAIMEAAABBmplZQAAAgMCamVlAAACgQAAAoMDNzIzAAACgQAAAAMEAAGBAAACgwAAAgEAAAIDAAADgQM3MjMDNzIzAAAAAQQAAIMEAAOBAAACAwAAAoMAAAGBAAABgQAAAoMAAAOBAAACgwAAAgMAAAKDAzczMQGZm5sAAAKDAzczMQAAAAEEAAOBAAACgwAAAQEAAAEBAAADgQM3MBEEAAMBAAACgwAAAoMAAAIBAAABgQAAAgMAAAOBAmplZQJqZWUAAAKDAAADgQAAAgEDNzMxAAADgQAAAYEAAAEBAAADgQAAA4EAAAIBAAAAAQWZmpkAAACDBAADAQAAAIMHNzMxAAACAQM3MjMDNzIzAAACAQAAAAMEAAEBAAAAAQQAAgEBmZubAzczMQM3MBEEAAEBAzczMQAAAYEAAAABBAACAQAAAGMEAAEBAzczMQAAAAMEAAADBAADAQAAAoMAAAKDAzcyMwM3MzEDNzIzAAADgQAAA4EAAAEBAAAAAwQAAgEDNzOxAAADgQAAAoMDNzMxAzczMQJqZWUAAAEBAzczMQAAA4EDNzMxAAACgwAAA4MAAAGBAAACQQAAAgMCamVlAAADgQM3MzEAAAEBAAACgwAAA4EAAAOBAAACgQM3MzEAAAEBAzczMQAAAwEAAAIBAzczsQM3MjMAAAOBAzcyMwJqZWUAAAKDAAADgQAAAgEBmZubAzczMQM3M7EAAAKBAAACAQAAAgEAAAOBAzczMQAAAoMDNzMxAzczMQAAAgMDNzMxAAAAgwQAAoMAAAODAzcyMwJqZWUAAAIBAAACgwM3MzEAAACDBAACAwAAAgEAAAKDAZmbmwAAAgEAAAIDAAAAgwQAAoMAAAODAAADgQAAAAMGamVlAAABAQAAA4EAAAOBAAADgQAAAgEAAACDBAADgQAAA4EDNzMxAAAAAwQAAYEAAAGBAzczMQAAA4EAAAADBAADgQAAAoMAAAGBAAACAwM3MzEDNzMxAAADgQAAAoMCamVlAzcyMwAAAoMCamVlAAADgQAAAoMAAAKDAzczMQAAAYEAAACDBAADgwAAAEMEAAGBAAABAQAAAIEEAAIDAzcyMwM3MzEAAAIDAAADQwAAAgEAAAOBAAADgQAAAoMAAAGBAAADgQAAA4EAAAODAAACgwAAAoMDNzOxAAADAQAAA4EAAAOBAAAAgwQAAgEAAACDBAACAwJqZWUAAAKBAAABAQAAA4EAAACDBAABAQM3MjMAAAKDAAACgQM3MjMAAAKDAzczsQAAA4EAAAGBAAACAwAAAIEEAAIDAzczMQAAAQEDNzMxAAACgwAAAQEAAAKBAAACAwAAA4MAAAADBAADgQAAAgEAAAIBAAADQwAAAQEAAAOBAAADgQAAAgMAAAOBAAAAgwZqZWUAAAKDAAADwwAAA4EAAAKDAzczMQAAA4EDNzIzAAADgQAAAIMGamVlAAACgwAAA4EAAAOBAAADgQAAAwECamVlAAADgQAAAIMEAAKDAAACAQAAA4EBmZqZAAADgQAAAQEDNzIzAAABAQAAAgEAAAIDAAABAQAAAQEDNzMxAAADgQAAA4EAAAEBAAACgwM3M7EAAAKDAzczMQAAAYEAAAGBAzczMQAAAYEAAAGBAAADgQAAAEMEAAIBAAAAAQQAAQEAAAGBAAABAQAAAgEAAAOBAAADgwAAAAMGamVlAAACgwAAAgEAAAKDAAADgQAAA4EDNzMxAAADgQAAAgEAAAOBAAACAQAAAgMAAAABBAADAQM3MzEBmZubAAAAgwQAAIMEAAOBAAABgQM3MzEAAAIBAAADgQAAA4EAAAOBAAACgwAAAYEAAAGBAAACgwM3MzEAAAEBAmplZQAAAgMCamVlAAACAwAAAIMEAAOBAzczMQAAAYEDNzMxAZmbmwAAAoMAAAIBAzczMQJqZWUAAAMBAAABAQAAAYEDNzMxAAADgQAAA4EAAAKDAZmbmwJqZWUDNzMxAmplZQAAAgMAAAIBAAADAQM3MzEAAAIBAAABgQAAAoMAAAGBAzczMQM3MjMAAAKDAAACgwGZm5sAAAKDAmplZQAAAIMHNzIzAzczMQAAAgMCamVlAAADgQM3MzEAAAOBAmplZQAAAAEHNzOxAAACgwM3MzEBmZubAAABAQAAAgECamVlAAADgQAAAYEDNzMxAAABAQM3MzEAAAIBAAACAwM3MzEAAAKDAZmamQAAA4EAAAODAAAAgwQAAwEDNzIzAAAAAQQAAgEBmZqZAAACgwAAAGMEAAOBAAACAQAAAAEEAAOBAAADgQAAA4MAAAGBAAACAwAAAgMAAAOBAAACgwAAAYEAAAKDAZmbmwAAA4EAAAIDAAADgQAAAIMEAAIDAAABAQGZm5sAAACDBzczsQJqZWUDNzOxAAABAQAAAQEAAAGBAAABgQM3MjMAAAKDAAABgQGZm5sAAAIBAzczMQAAAQEAAACDBAADgQM3MTEAAAEBAzcxMQAAAQEAAAKBAAADgQAAAAMEAAOBAAACAQAAAYEAAAOBAAACAQM3M7EAAAIBAAADgwAAAQEAAAOBAAADgQAAA4EAAAGBAAABAQAAAQECamVlAAACgwAAA4EBmZqZAAABAQAAAIMEAAKDAAADgQAAAoMAAAIBAAABAQM3M7EAAAGBAAADgQAAA4EAAAEBAAACAQGZmpkAAAIBAAACAQAAAYEAAAEBAAACAQAAAYEAAAODAAABgQAAAQEAAACDBAAAAQZqZWUAAAODAzcyMwAAAgEAAAOBAAAAAQQAA4EAAACDBAADgQAAA4MAAAGBAAAAgwQAAEEFmZqZAAAAAQQAAoMDNzExAAACgwM3M7EAAAABBmplZQM3M7EAAAIBAAADgQAAAoMAAAKBAMzMTwQAAoMDNzIzAzcyMwAAAIEEAAOBAzczsQAAA4EAAAOBAAAAQQWZm5sDNzOxAAAAAQQAA4EAAAABBAAAgwQAAoMAAAPDAAACAQAAAAEEAACDBzcyMwAAAoMDNzMxAAACgwAAAQEAAAIDAAABgQAAA4EAAAIDAAACAwAAAoMDNzIzAAAAQwQAAoMAAAGBAAACAQAAAoMAAAOBAAACgwAAAgEAAAKDAAABAQAAAoMAAAKDAAACgwAAAgEAAAGBAAACgwAAA4EBmZubAAADQwAAA4EBmZubAzcyMwAAAQEAAANDAzczMQM3MBEEAAKDAAAAgQQAAgEAAAKDAAADgQM3M7EAAAKDAAAAgQQAAgMAAACDBZmbmwAAAQEAAAKDAAABgQM3MjMDNzMxAAABAQGZm5sAAAEBAAACgQAAAgEAAAEBAAABAQAAAoMAAAEBAAACgwAAAIMEAAEBAAADgQAAAgEAAAOBAAADgQAAAIMGamVlAAACgQAAAgEAAAEBAAACAQAAAQEAAAMBAAADgQM3M7EAAAEBAAABAQAAAgEAAAEBAAAAgwQAAoMAAAOBAAACgwAAAgMAAAGBAAACgwAAAQEAAAEBAAADQwAAAoEAAAIBAzczsQAAAGMEAAOBAAADgQM3M7EBmZubAAABAQAAAoMBmZubAmplZQAAAoMAAAIBAAADgQAAA4EAAAEBAAAAAQQAAgEAAAEBAZmbmwAAAkEDNzMxAAACAQAAAQEAAAMBAAABAQAAA4EAAAKBAAAAgwQAAoEAAAIDAAABAQAAAoMAAAIDAAABAQAAAgEAAAGBAAACAQAAA4EAAAODAmplZQM3MzEAAAIBAmplZQAAAIMFmZubAAABAQJqZWUAAAKDAAADgQJqZWUAAACDBAADAQAAAgEAAAIBAAACAwAAAgEAAAABBAADgQAAAoMAAAIBAAABgQAAAQEAAAKDAAADgQAAAQEAAAOBAAABAQAAA4EAAACDBAADgQAAAYEAAAIDAzczsQAAAIMEAAKDAAABAQAAAQEAAAIBAAADAQAAAgEBmZqZAmplZQAAA4EAAAKBAZmamQAAAYEAAAOBAmplZQAAAgEAAAKDAAACAQJqZWUAAAKDAmplZQAAA4EAAAGBAzczMQAAA4MAAAIBAAADgQAAA4EAAAABBAABgQM3MzEAAAODAAACgQAAAgEAAAIBAAAAgwQAAEMEAAIBAAADgQM3M7EAAAABBzczMQAAAgEDNzMxAAABAQAAA4EAAAIBAAACgwAAAGMEAAMBAAADgQAAAGMEAAEBAAACAQAAA4EAAAOBAzczMQAAAgEAAAGBAzcyMwJqZWUAAAIBAmplZQAAAgEAAAGBAzcyMwJqZWUAAAIBAzczMQAAA4EAAAIBAAADgQGZm5sAAAIBAzczsQM3MjMCamVlAAADgwAAA4EAAAGBAAADgQJqZWUAAAIBAmplZQJqZWUAAAOBAAAAgwc3MzEAAAEBAAACgwJqZWUAAAOBAAACgwAAAQECamVlAzczMQM3MzEAAAGBAmplZQAAAQEAAAEBAAACAQAAAoMDNzMxAAADgQAAAAMEAAOBAzcyMwAAAgEAAACDBAACgwAAAIMGamVlAAADgQAAAgECamVlAmplZQM3M7EAAABjBAACAQAAAwEAAABjBAABgQGZm5sAAAIBAAADgQM3MzECamVlAAABAQAAAQEAAAGBAAACAwGZmpkAAAOBAAADQwAAA4EAAAABBAACgwAAA4EAAAKDAAAAgwQAA4EDNzMxAAAAQwc3MzEAAAMBA",
           "dtype": "f4"
          },
          "coloraxis": "coloraxis",
          "size": {
           "bdata": "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",
           "dtype": "i4"
          },
          "sizemode": "area",
          "sizeref": 4.293333333333333
         },
         "mode": "markers",
         "name": "",
         "showlegend": false,
         "subplot": "mapbox",
         "type": "scattermapbox"
        }
       ],
       "layout": {
        "coloraxis": {
         "colorbar": {
          "title": {
           "text": "GoldsteinScale"
          }
         },
         "colorscale": [
          [
           0,
           "rgb(165,0,38)"
          ],
          [
           0.1,
           "rgb(215,48,39)"
          ],
          [
           0.2,
           "rgb(244,109,67)"
          ],
          [
           0.3,
           "rgb(253,174,97)"
          ],
          [
           0.4,
           "rgb(254,224,144)"
          ],
          [
           0.5,
           "rgb(255,255,191)"
          ],
          [
           0.6,
           "rgb(224,243,248)"
          ],
          [
           0.7,
           "rgb(171,217,233)"
          ],
          [
           0.8,
           "rgb(116,173,209)"
          ],
          [
           0.9,
           "rgb(69,117,180)"
          ],
          [
           1,
           "rgb(49,54,149)"
          ]
         ]
        },
        "legend": {
         "itemsizing": "constant",
         "tracegroupgap": 0
        },
        "mapbox": {
         "center": {
          "lat": -443357.4375,
          "lon": 20233990
         },
         "domain": {
          "x": [
           0,
           1
          ],
          "y": [
           0,
           1
          ]
         },
         "style": "carto-positron",
         "zoom": 2
        },
        "margin": {
         "b": 0,
         "l": 0,
         "r": 0,
         "t": 40
        },
        "template": {
         "data": {
          "bar": [
           {
            "error_x": {
             "color": "#2a3f5f"
            },
            "error_y": {
             "color": "#2a3f5f"
            },
            "marker": {
             "line": {
              "color": "#E5ECF6",
              "width": 0.5
             },
             "pattern": {
              "fillmode": "overlay",
              "size": 10,
              "solidity": 0.2
             }
            },
            "type": "bar"
           }
          ],
          "barpolar": [
           {
            "marker": {
             "line": {
              "color": "#E5ECF6",
              "width": 0.5
             },
             "pattern": {
              "fillmode": "overlay",
              "size": 10,
              "solidity": 0.2
             }
            },
            "type": "barpolar"
           }
          ],
          "carpet": [
           {
            "aaxis": {
             "endlinecolor": "#2a3f5f",
             "gridcolor": "white",
             "linecolor": "white",
             "minorgridcolor": "white",
             "startlinecolor": "#2a3f5f"
            },
            "baxis": {
             "endlinecolor": "#2a3f5f",
             "gridcolor": "white",
             "linecolor": "white",
             "minorgridcolor": "white",
             "startlinecolor": "#2a3f5f"
            },
            "type": "carpet"
           }
          ],
          "choropleth": [
           {
            "colorbar": {
             "outlinewidth": 0,
             "ticks": ""
            },
            "type": "choropleth"
           }
          ],
          "contour": [
           {
            "colorbar": {
             "outlinewidth": 0,
             "ticks": ""
            },
            "colorscale": [
             [
              0,
              "#0d0887"
             ],
             [
              0.1111111111111111,
              "#46039f"
             ],
             [
              0.2222222222222222,
              "#7201a8"
             ],
             [
              0.3333333333333333,
              "#9c179e"
             ],
             [
              0.4444444444444444,
              "#bd3786"
             ],
             [
              0.5555555555555556,
              "#d8576b"
             ],
             [
              0.6666666666666666,
              "#ed7953"
             ],
             [
              0.7777777777777778,
              "#fb9f3a"
             ],
             [
              0.8888888888888888,
              "#fdca26"
             ],
             [
              1,
              "#f0f921"
             ]
            ],
            "type": "contour"
           }
          ],
          "contourcarpet": [
           {
            "colorbar": {
             "outlinewidth": 0,
             "ticks": ""
            },
            "type": "contourcarpet"
           }
          ],
          "heatmap": [
           {
            "colorbar": {
             "outlinewidth": 0,
             "ticks": ""
            },
            "colorscale": [
             [
              0,
              "#0d0887"
             ],
             [
              0.1111111111111111,
              "#46039f"
             ],
             [
              0.2222222222222222,
              "#7201a8"
             ],
             [
              0.3333333333333333,
              "#9c179e"
             ],
             [
              0.4444444444444444,
              "#bd3786"
             ],
             [
              0.5555555555555556,
              "#d8576b"
             ],
             [
              0.6666666666666666,
              "#ed7953"
             ],
             [
              0.7777777777777778,
              "#fb9f3a"
             ],
             [
              0.8888888888888888,
              "#fdca26"
             ],
             [
              1,
              "#f0f921"
             ]
            ],
            "type": "heatmap"
           }
          ],
          "histogram": [
           {
            "marker": {
             "pattern": {
              "fillmode": "overlay",
              "size": 10,
              "solidity": 0.2
             }
            },
            "type": "histogram"
           }
          ],
          "histogram2d": [
           {
            "colorbar": {
             "outlinewidth": 0,
             "ticks": ""
            },
            "colorscale": [
             [
              0,
              "#0d0887"
             ],
             [
              0.1111111111111111,
              "#46039f"
             ],
             [
              0.2222222222222222,
              "#7201a8"
             ],
             [
              0.3333333333333333,
              "#9c179e"
             ],
             [
              0.4444444444444444,
              "#bd3786"
             ],
             [
              0.5555555555555556,
              "#d8576b"
             ],
             [
              0.6666666666666666,
              "#ed7953"
             ],
             [
              0.7777777777777778,
              "#fb9f3a"
             ],
             [
              0.8888888888888888,
              "#fdca26"
             ],
             [
              1,
              "#f0f921"
             ]
            ],
            "type": "histogram2d"
           }
          ],
          "histogram2dcontour": [
           {
            "colorbar": {
             "outlinewidth": 0,
             "ticks": ""
            },
            "colorscale": [
             [
              0,
              "#0d0887"
             ],
             [
              0.1111111111111111,
              "#46039f"
             ],
             [
              0.2222222222222222,
              "#7201a8"
             ],
             [
              0.3333333333333333,
              "#9c179e"
             ],
             [
              0.4444444444444444,
              "#bd3786"
             ],
             [
              0.5555555555555556,
              "#d8576b"
             ],
             [
              0.6666666666666666,
              "#ed7953"
             ],
             [
              0.7777777777777778,
              "#fb9f3a"
             ],
             [
              0.8888888888888888,
              "#fdca26"
             ],
             [
              1,
              "#f0f921"
             ]
            ],
            "type": "histogram2dcontour"
           }
          ],
          "mesh3d": [
           {
            "colorbar": {
             "outlinewidth": 0,
             "ticks": ""
            },
            "type": "mesh3d"
           }
          ],
          "parcoords": [
           {
            "line": {
             "colorbar": {
              "outlinewidth": 0,
              "ticks": ""
             }
            },
            "type": "parcoords"
           }
          ],
          "pie": [
           {
            "automargin": true,
            "type": "pie"
           }
          ],
          "scatter": [
           {
            "fillpattern": {
             "fillmode": "overlay",
             "size": 10,
             "solidity": 0.2
            },
            "type": "scatter"
           }
          ],
          "scatter3d": [
           {
            "line": {
             "colorbar": {
              "outlinewidth": 0,
              "ticks": ""
             }
            },
            "marker": {
             "colorbar": {
              "outlinewidth": 0,
              "ticks": ""
             }
            },
            "type": "scatter3d"
           }
          ],
          "scattercarpet": [
           {
            "marker": {
             "colorbar": {
              "outlinewidth": 0,
              "ticks": ""
             }
            },
            "type": "scattercarpet"
           }
          ],
          "scattergeo": [
           {
            "marker": {
             "colorbar": {
              "outlinewidth": 0,
              "ticks": ""
             }
            },
            "type": "scattergeo"
           }
          ],
          "scattergl": [
           {
            "marker": {
             "colorbar": {
              "outlinewidth": 0,
              "ticks": ""
             }
            },
            "type": "scattergl"
           }
          ],
          "scattermap": [
           {
            "marker": {
             "colorbar": {
              "outlinewidth": 0,
              "ticks": ""
             }
            },
            "type": "scattermap"
           }
          ],
          "scattermapbox": [
           {
            "marker": {
             "colorbar": {
              "outlinewidth": 0,
              "ticks": ""
             }
            },
            "type": "scattermapbox"
           }
          ],
          "scatterpolar": [
           {
            "marker": {
             "colorbar": {
              "outlinewidth": 0,
              "ticks": ""
             }
            },
            "type": "scatterpolar"
           }
          ],
          "scatterpolargl": [
           {
            "marker": {
             "colorbar": {
              "outlinewidth": 0,
              "ticks": ""
             }
            },
            "type": "scatterpolargl"
           }
          ],
          "scatterternary": [
           {
            "marker": {
             "colorbar": {
              "outlinewidth": 0,
              "ticks": ""
             }
            },
            "type": "scatterternary"
           }
          ],
          "surface": [
           {
            "colorbar": {
             "outlinewidth": 0,
             "ticks": ""
            },
            "colorscale": [
             [
              0,
              "#0d0887"
             ],
             [
              0.1111111111111111,
              "#46039f"
             ],
             [
              0.2222222222222222,
              "#7201a8"
             ],
             [
              0.3333333333333333,
              "#9c179e"
             ],
             [
              0.4444444444444444,
              "#bd3786"
             ],
             [
              0.5555555555555556,
              "#d8576b"
             ],
             [
              0.6666666666666666,
              "#ed7953"
             ],
             [
              0.7777777777777778,
              "#fb9f3a"
             ],
             [
              0.8888888888888888,
              "#fdca26"
             ],
             [
              1,
              "#f0f921"
             ]
            ],
            "type": "surface"
           }
          ],
          "table": [
           {
            "cells": {
             "fill": {
              "color": "#EBF0F8"
             },
             "line": {
              "color": "white"
             }
            },
            "header": {
             "fill": {
              "color": "#C8D4E3"
             },
             "line": {
              "color": "white"
             }
            },
            "type": "table"
           }
          ]
         },
         "layout": {
          "annotationdefaults": {
           "arrowcolor": "#2a3f5f",
           "arrowhead": 0,
           "arrowwidth": 1
          },
          "autotypenumbers": "strict",
          "coloraxis": {
           "colorbar": {
            "outlinewidth": 0,
            "ticks": ""
           }
          },
          "colorscale": {
           "diverging": [
            [
             0,
             "#8e0152"
            ],
            [
             0.1,
             "#c51b7d"
            ],
            [
             0.2,
             "#de77ae"
            ],
            [
             0.3,
             "#f1b6da"
            ],
            [
             0.4,
             "#fde0ef"
            ],
            [
             0.5,
             "#f7f7f7"
            ],
            [
             0.6,
             "#e6f5d0"
            ],
            [
             0.7,
             "#b8e186"
            ],
            [
             0.8,
             "#7fbc41"
            ],
            [
             0.9,
             "#4d9221"
            ],
            [
             1,
             "#276419"
            ]
           ],
           "sequential": [
            [
             0,
             "#0d0887"
            ],
            [
             0.1111111111111111,
             "#46039f"
            ],
            [
             0.2222222222222222,
             "#7201a8"
            ],
            [
             0.3333333333333333,
             "#9c179e"
            ],
            [
             0.4444444444444444,
             "#bd3786"
            ],
            [
             0.5555555555555556,
             "#d8576b"
            ],
            [
             0.6666666666666666,
             "#ed7953"
            ],
            [
             0.7777777777777778,
             "#fb9f3a"
            ],
            [
             0.8888888888888888,
             "#fdca26"
            ],
            [
             1,
             "#f0f921"
            ]
           ],
           "sequentialminus": [
            [
             0,
             "#0d0887"
            ],
            [
             0.1111111111111111,
             "#46039f"
            ],
            [
             0.2222222222222222,
             "#7201a8"
            ],
            [
             0.3333333333333333,
             "#9c179e"
            ],
            [
             0.4444444444444444,
             "#bd3786"
            ],
            [
             0.5555555555555556,
             "#d8576b"
            ],
            [
             0.6666666666666666,
             "#ed7953"
            ],
            [
             0.7777777777777778,
             "#fb9f3a"
            ],
            [
             0.8888888888888888,
             "#fdca26"
            ],
            [
             1,
             "#f0f921"
            ]
           ]
          },
          "colorway": [
           "#636efa",
           "#EF553B",
           "#00cc96",
           "#ab63fa",
           "#FFA15A",
           "#19d3f3",
           "#FF6692",
           "#B6E880",
           "#FF97FF",
           "#FECB52"
          ],
          "font": {
           "color": "#2a3f5f"
          },
          "geo": {
           "bgcolor": "white",
           "lakecolor": "white",
           "landcolor": "#E5ECF6",
           "showlakes": true,
           "showland": true,
           "subunitcolor": "white"
          },
          "hoverlabel": {
           "align": "left"
          },
          "hovermode": "closest",
          "mapbox": {
           "style": "light"
          },
          "paper_bgcolor": "white",
          "plot_bgcolor": "#E5ECF6",
          "polar": {
           "angularaxis": {
            "gridcolor": "white",
            "linecolor": "white",
            "ticks": ""
           },
           "bgcolor": "#E5ECF6",
           "radialaxis": {
            "gridcolor": "white",
            "linecolor": "white",
            "ticks": ""
           }
          },
          "scene": {
           "xaxis": {
            "backgroundcolor": "#E5ECF6",
            "gridcolor": "white",
            "gridwidth": 2,
            "linecolor": "white",
            "showbackground": true,
            "ticks": "",
            "zerolinecolor": "white"
           },
           "yaxis": {
            "backgroundcolor": "#E5ECF6",
            "gridcolor": "white",
            "gridwidth": 2,
            "linecolor": "white",
            "showbackground": true,
            "ticks": "",
            "zerolinecolor": "white"
           },
           "zaxis": {
            "backgroundcolor": "#E5ECF6",
            "gridcolor": "white",
            "gridwidth": 2,
            "linecolor": "white",
            "showbackground": true,
            "ticks": "",
            "zerolinecolor": "white"
           }
          },
          "shapedefaults": {
           "line": {
            "color": "#2a3f5f"
           }
          },
          "ternary": {
           "aaxis": {
            "gridcolor": "white",
            "linecolor": "white",
            "ticks": ""
           },
           "baxis": {
            "gridcolor": "white",
            "linecolor": "white",
            "ticks": ""
           },
           "bgcolor": "#E5ECF6",
           "caxis": {
            "gridcolor": "white",
            "linecolor": "white",
            "ticks": ""
           }
          },
          "title": {
           "x": 0.05
          },
          "xaxis": {
           "automargin": true,
           "gridcolor": "white",
           "linecolor": "white",
           "ticks": "",
           "title": {
            "standoff": 15
           },
           "zerolinecolor": "white",
           "zerolinewidth": 2
          },
          "yaxis": {
           "automargin": true,
           "gridcolor": "white",
           "linecolor": "white",
           "ticks": "",
           "title": {
            "standoff": 15
           },
           "zerolinecolor": "white",
           "zerolinewidth": 2
          }
         }
        },
        "title": {
         "text": "Map of Japan-China Related Event Locations"
        }
       }
      }
     },
     "metadata": {},
     "output_type": "display_data"
    },
    {
     "name": "stdout",
     "output_type": "stream",
     "text": [
      "[########################################] | 100% Completed | 1.26 sms\n"
     ]
    },
    {
     "data": {
      "image/png": "[encoded data removed]",
      "text/plain": [
       "<Figure size 1200x800 with 1 Axes>"
      ]
     },
     "metadata": {},
     "output_type": "display_data"
    }
   ],
   "source": [
    "import pandas as pd\n",
    "import numpy as np\n",
    "import matplotlib.pyplot as plt\n",
    "import matplotlib.font_manager as fm\n",
    "import seaborn as sns\n",
    "import plotly.express as px\n",
    "from pathlib import Path\n",
    "from datetime import datetime\n",
    "import dask.dataframe as dd\n",
    "from dask.diagnostics import ProgressBar\n",
    "import matplotlib.dates as mdates\n",
    "\n",
    "plt.style.use('seaborn-v0_8-whitegrid')\n",
    "plt.rcParams['axes.unicode_minus'] = False \n",
    "\n",
    "def load_gdelt_data_dask(gdelt_path_str, columns_to_load=None):\n",
    "    ddf_gdelt = None\n",
    "    gdelt_path = Path(gdelt_path_str)\n",
    "\n",
    "    if not (gdelt_path.is_dir() or (gdelt_path.is_file() and gdelt_path.suffix.lower() == '.parquet')):\n",
    "        return None\n",
    "\n",
    "    try:\n",
    "        ddf_gdelt = dd.read_parquet(\n",
    "            gdelt_path, \n",
    "            columns=columns_to_load,\n",
    "            engine='pyarrow'\n",
    "        )\n",
    "        if 'SQLDATE' in ddf_gdelt.columns and not pd.api.types.is_datetime64_any_dtype(ddf_gdelt['SQLDATE'].dtype):\n",
    "            ddf_gdelt['SQLDATE'] = dd.to_datetime(ddf_gdelt['SQLDATE'], errors='coerce')\n",
    "    except Exception:\n",
    "        return None\n",
    "    return ddf_gdelt\n",
    "\n",
    "def filter_jpn_chn_events(ddf):\n",
    "    jpn_chn_filter = ((ddf['Actor1CountryCode'] == 'JPN') & (ddf['Actor2CountryCode'] == 'CHN')) | \\\n",
    "                     ((ddf['Actor1CountryCode'] == 'CHN') & (ddf['Actor2CountryCode'] == 'JPN'))\n",
    "    return ddf[jpn_chn_filter]\n",
    "\n",
    "def plot_jpn_chn_timeseries(df_jpn_chn):\n",
    "    if not pd.api.types.is_datetime64_any_dtype(df_jpn_chn['SQLDATE'].dtype):\n",
    "        df_jpn_chn['SQLDATE'] = dd.to_datetime(df_jpn_chn['SQLDATE'], errors='coerce')\n",
    "        df_jpn_chn = df_jpn_chn.dropna(subset=['SQLDATE'])\n",
    "\n",
    "    df_jpn_chn_ts = df_jpn_chn.set_index('SQLDATE')\n",
    "    \n",
    "    with ProgressBar():\n",
    "        monthly_avg = df_jpn_chn_ts[['GoldsteinScale', 'AvgTone']].resample('M').mean().compute()\n",
    "    \n",
    "    if monthly_avg.empty:\n",
    "        return\n",
    "\n",
    "    fig, (ax1, ax2) = plt.subplots(2, 1, figsize=(15, 12), sharex=True)\n",
    "    \n",
    "    ax1.plot(monthly_avg.index, monthly_avg['GoldsteinScale'], marker='o', linestyle='-', color='b')\n",
    "    ax1.axhline(0, color='grey', linestyle='--', lw=1)\n",
    "    ax1.set_title('Japan-China Relations: Goldstein Scale (Monthly Avg)')\n",
    "    ax1.set_ylabel('Goldstein Scale\\n(Lower value means more conflict)')\n",
    "    ax1.grid(True)\n",
    "\n",
    "    ax2.plot(monthly_avg.index, monthly_avg['AvgTone'], marker='o', linestyle='-', color='g')\n",
    "    ax2.axhline(0, color='grey', linestyle='--', lw=1)\n",
    "    ax2.set_title('Japan-China Relations: Average News Tone (Monthly Avg)')\n",
    "    ax2.set_ylabel('Average Tone\\n(Lower value means more negative)')\n",
    "    ax2.set_xlabel('Date')\n",
    "    ax2.grid(True)\n",
    "    \n",
    "    ax2.xaxis.set_major_formatter(mdates.DateFormatter('%Y-%m'))\n",
    "    plt.xticks(rotation=45)\n",
    "    plt.tight_layout()\n",
    "    plt.show()\n",
    "\n",
    "def plot_jpn_chn_event_types(df_jpn_chn, top_n=20):\n",
    "    with ProgressBar():\n",
    "        event_counts = df_jpn_chn['EventRootCode'].value_counts().compute().nlargest(top_n)\n",
    "    \n",
    "    if event_counts.empty:\n",
    "        return\n",
    "\n",
    "    plt.figure(figsize=(12, 8))\n",
    "    sns.barplot(x=event_counts.values, y=event_counts.index, orient='h', palette='viridis')\n",
    "    plt.title(f'Top {top_n} Event Types between Japan & China (2022/04 - 2025/05)')\n",
    "    plt.xlabel('Number of Events')\n",
    "    plt.ylabel('Event Root Code')\n",
    "    plt.show()\n",
    "    print(\"For CAMEO event code details, see https://www.gdeltproject.org/data/lookups/CAMEO.eventcodes.txt\")\n",
    "\n",
    "def analyze_jpn_chn_conflict_peaks(df_jpn_chn, n_events=5):\n",
    "    cols_to_show = ['SQLDATE', 'Actor1Name', 'Actor2Name', 'GoldsteinScale', 'AvgTone', 'EventCodeFull', 'SOURCEURL']\n",
    "    available_cols = [col for col in cols_to_show if col in df_jpn_chn.columns]\n",
    "    \n",
    "    if 'GoldsteinScale' not in available_cols:\n",
    "        return\n",
    "    \n",
    "    with ProgressBar():\n",
    "        most_conflict = df_jpn_chn[available_cols].nsmallest(n_events, 'GoldsteinScale').compute()\n",
    "    \n",
    "    print(f\"\\n--- Top {n_events} Most Conflictual Events ---\")\n",
    "    if not most_conflict.empty:\n",
    "        for _, row in most_conflict.iterrows():\n",
    "            print(f\"Date: {row['SQLDATE'].strftime('%Y-%m-%d')}\")\n",
    "            if 'Actor1Name' in row and 'Actor2Name' in row:\n",
    "                print(f\"  Actors: {row['Actor1Name']} and {row['Actor2Name']}\")\n",
    "            print(f\"  GoldsteinScale: {row['GoldsteinScale']:.2f}, AvgTone: {row['AvgTone']:.2f}\")\n",
    "            if 'EventCodeFull' in row:\n",
    "                print(f\"  Event Code: {row['EventCodeFull']}\")\n",
    "            if 'SOURCEURL' in row:\n",
    "                print(f\"  Source URL: {row['SOURCEURL']}\")\n",
    "            print(\"-\" * 20)\n",
    "    else:\n",
    "        print(\"No data found.\")\n",
    "\n",
    "def plot_jpn_chn_event_breakdown(ddf_jpn_chn, top_n=15):\n",
    "    coop_events = ddf_jpn_chn[ddf_jpn_chn['GoldsteinScale'] > 0]\n",
    "    conf_events = ddf_jpn_chn[ddf_jpn_chn['GoldsteinScale'] < 0]\n",
    "\n",
    "    with ProgressBar():\n",
    "        coop_counts = coop_events['EventRootCode'].value_counts().nlargest(top_n).compute()\n",
    "        conf_counts = conf_events['EventRootCode'].value_counts().nlargest(top_n).compute()\n",
    "\n",
    "    fig, (ax1, ax2) = plt.subplots(1, 2, figsize=(20, 8))\n",
    "    fig.suptitle('Breakdown of Cooperative vs. Conflictual Event Types between Japan & China', fontsize=16)\n",
    "\n",
    "    if not coop_counts.empty:\n",
    "        sns.barplot(ax=ax1, x=coop_counts.values, y=coop_counts.index, orient='h', palette='summer')\n",
    "        ax1.set_title(f'Top {top_n} Cooperative Events')\n",
    "        ax1.set_xlabel('Number of Events')\n",
    "        ax1.set_ylabel('Event Root Code')\n",
    "    else:\n",
    "        ax1.text(0.5, 0.5, 'No cooperative event data', ha='center', va='center')\n",
    "        ax1.set_title(f'Top {top_n} Cooperative Events')\n",
    "\n",
    "    if not conf_counts.empty:\n",
    "        sns.barplot(ax=ax2, x=conf_counts.values, y=conf_counts.index, orient='h', palette='autumn')\n",
    "        ax2.set_title(f'Top {top_n} Conflictual Events')\n",
    "        ax2.set_xlabel('Number of Events')\n",
    "        ax2.set_ylabel('')\n",
    "    else:\n",
    "        ax2.text(0.5, 0.5, 'No conflictual event data', ha='center', va='center')\n",
    "        ax2.set_title(f'Top {top_n} Conflictual Events')\n",
    "        \n",
    "    plt.tight_layout(rect=[0, 0.03, 1, 0.95])\n",
    "    plt.show()\n",
    "\n",
    "def plot_jpn_chn_event_map(ddf_jpn_chn, sample_size=2000):\n",
    "    map_cols = ['ActionGeo_Lat', 'ActionGeo_Long', 'GoldsteinScale', 'NumMentions', 'Actor1Name', 'Actor2Name', 'ActionGeo_Fullname']\n",
    "    available_map_cols = [col for col in map_cols if col in ddf_jpn_chn.columns]\n",
    "    \n",
    "    if 'ActionGeo_Lat' not in available_map_cols or 'ActionGeo_Long' not in available_map_cols:\n",
    "        return\n",
    "\n",
    "    significant_events = ddf_jpn_chn[abs(ddf_jpn_chn['GoldsteinScale']) >= 3]\n",
    "    \n",
    "    with ProgressBar():\n",
    "        significant_count = len(significant_events)\n",
    "        if significant_count > 0:\n",
    "            frac = min(1.0, sample_size / significant_count if significant_count > 0 else 1.0)\n",
    "            map_data_pd = significant_events[available_map_cols].sample(frac=frac, random_state=42).compute()\n",
    "        else:\n",
    "            map_data_pd = pd.DataFrame(columns=available_map_cols)\n",
    "    \n",
    "    if map_data_pd.empty:\n",
    "        return\n",
    "\n",
    "    map_data_pd.dropna(subset=['ActionGeo_Lat', 'ActionGeo_Long'], inplace=True)\n",
    "    if map_data_pd.empty:\n",
    "        return\n",
    "\n",
    "    fig = px.scatter_mapbox(\n",
    "        map_data_pd,\n",
    "        lat=\"ActionGeo_Lat\",\n",
    "        lon=\"ActionGeo_Long\",\n",
    "        color=\"GoldsteinScale\",\n",
    "        size=\"NumMentions\",\n",
    "        color_continuous_scale=px.colors.diverging.RdYlBu,\n",
    "        size_max=15,\n",
    "        zoom=2,\n",
    "        mapbox_style=\"carto-positron\",\n",
    "        title=\"Map of Japan-China Related Event Locations\",\n",
    "        hover_name=\"ActionGeo_Fullname\",\n",
    "        hover_data={\"Actor1Name\": True, \"Actor2Name\": True, \"NumMentions\": True, \"GoldsteinScale\": True}\n",
    "    )\n",
    "    fig.update_layout(margin={\"r\":0,\"t\":40,\"l\":0,\"b\":0})\n",
    "    fig.show()\n",
    "\n",
    "def plot_jpn_chn_top_actors(ddf_jpn_chn, top_n=15):\n",
    "    if 'Actor1Name' not in ddf_jpn_chn.columns:\n",
    "        return\n",
    "        \n",
    "    generic_names = ['JAPAN', 'CHINA', 'BEIJING', 'TOKYO']\n",
    "    filtered_actors = ddf_jpn_chn[~ddf_jpn_chn['Actor1Name'].isin(generic_names)]\n",
    "    \n",
    "    with ProgressBar():\n",
    "        top_actors = filtered_actors['Actor1Name'].value_counts().nlargest(top_n).compute()\n",
    "\n",
    "    if top_actors.empty:\n",
    "        return\n",
    "\n",
    "    plt.figure(figsize=(12, 8))\n",
    "    sns.barplot(x=top_actors.values, y=top_actors.index, orient='h', palette='crest')\n",
    "    plt.title(f'Top {top_n} Actors Involved in Japan-China Events (Actor1)')\n",
    "    plt.xlabel('Number of Events')\n",
    "    plt.ylabel('Actor Name')\n",
    "    plt.show()\n",
    "\n",
    "if __name__ == '__main__':\n",
    "    analysis_start_date = datetime(2022, 4, 1)\n",
    "    analysis_end_date   = datetime(2025, 5, 30)\n",
    "\n",
    "    gdelt_filename = f\"gdelt_events_20220401_20250530.parquet\"\n",
    "    gdelt_output_dir = Path(\"data\") \n",
    "    GDELT_PARQUET_PATH = gdelt_output_dir / gdelt_filename\n",
    "    \n",
    "    columns_to_load = [\n",
    "        \"SQLDATE\", \"Actor1CountryCode\", \"Actor2CountryCode\", \"EventRootCode\",\n",
    "        \"GoldsteinScale\", \"AvgTone\", \"EventCodeFull\", \n",
    "        \"Actor1Name\", \"Actor2Name\", \"SOURCEURL\",\n",
    "        \"ActionGeo_Lat\", \"ActionGeo_Long\", \"ActionGeo_Fullname\", \"NumMentions\"\n",
    "    ]\n",
    "\n",
    "    ddf_gdelt_raw = load_gdelt_data_dask(\n",
    "        str(GDELT_PARQUET_PATH),\n",
    "        columns_to_load=columns_to_load\n",
    "    )\n",
    "\n",
    "    if ddf_gdelt_raw is not None and ddf_gdelt_raw.npartitions > 0:\n",
    "        \n",
    "        if not pd.api.types.is_datetime64_any_dtype(ddf_gdelt_raw['SQLDATE'].dtype):\n",
    "            ddf_gdelt_raw['SQLDATE'] = dd.to_datetime(ddf_gdelt_raw['SQLDATE'], errors='coerce')\n",
    "        \n",
    "        ddf_gdelt_period_filtered = ddf_gdelt_raw[\n",
    "            (ddf_gdelt_raw['SQLDATE'] >= analysis_start_date) & \n",
    "            (ddf_gdelt_raw['SQLDATE'] <= analysis_end_date)\n",
    "        ]\n",
    "        \n",
    "        ddf_jpn_chn_filtered = filter_jpn_chn_events(ddf_gdelt_period_filtered)\n",
    "        \n",
    "        with ProgressBar():\n",
    "            ddf_jpn_chn_persisted = ddf_jpn_chn_filtered.persist()\n",
    "        \n",
    "        with ProgressBar():\n",
    "            row_count = len(ddf_jpn_chn_persisted)\n",
    "        \n",
    "        if row_count > 0:\n",
    "            plot_jpn_chn_timeseries(ddf_jpn_chn_persisted)\n",
    "            plot_jpn_chn_event_types(ddf_jpn_chn_persisted, top_n=20)\n",
    "            analyze_jpn_chn_conflict_peaks(ddf_jpn_chn_persisted, n_events=5)\n",
    "            plot_jpn_chn_event_breakdown(ddf_jpn_chn_persisted, top_n=15)\n",
    "            plot_jpn_chn_event_map(ddf_jpn_chn_persisted, sample_size=2000)\n",
    "            plot_jpn_chn_top_actors(ddf_jpn_chn_persisted, top_n=15)\n",
    "\n"
   ]
  }
 ],
 "metadata": {
  "kernelspec": {
   "display_name": "base",
   "language": "python",
   "name": "python3"
  },
  "language_info": {
   "codemirror_mode": {
    "name": "ipython",
    "version": 3
   },
   "file_extension": ".py",
   "mimetype": "text/x-python",
   "name": "python",
   "nbconvert_exporter": "python",
   "pygments_lexer": "ipython3",
   "version": "3.12.9"
  }
 },
 "nbformat": 4,
 "nbformat_minor": 5
}
