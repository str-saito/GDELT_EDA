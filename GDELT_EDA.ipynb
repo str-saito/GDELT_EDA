{
 "cells": [
  {
   "cell_type": "code",
   "execution_count": null,
   "id": "f76d01e3",
   "metadata": {},
   "outputs": [],
   "source": [
    "!pip install gdeltdoc pandas tqdm pyarrow statsmodels tigramite tqdm matplotlib seaborn plotly wordcloud japanize-matplotlib nbformat\n",
    "!pip install \"dask[complete]\" "
   ]
  },
  {
   "cell_type": "markdown",
   "id": "6fea542e",
   "metadata": {},
   "source": []
  },
  {
   "cell_type": "markdown",
   "id": "85f21935",
   "metadata": {},
   "source": [
    "## 目的\n",
    "世界中のニュースメディアを監視する大規模データベース**GDELT**のデータを活用し、どのようなデータを含んでいてるか可視化をしながら確認する。\n",
    "\n",
    "## GDELTプロジェクトとは\n",
    "GDELT（Global Database of Events, Language, and Tone）は、世界中のニュース記事をリアルタイムで収集・分析し、「誰が、誰に、何をしたか」というイベント情報を構造化データとして提供している。\n",
    "\n",
    "### EventRootCode\n",
    "これはイベントを大まかに分類する2桁の数字で全部で20のカテゴリがある。 \\\n",
    "大まかに協力的なイベントと対立的なイベントに分ける。 \\\n",
    "3桁以上の数字でより細かい値を出すことができる。 \\\n",
    "https://www.gdeltproject.org/data/lookups/CAMEO.eventcodes.txt \\\n",
    "\n",
    "協力的なイベントの例: \\\n",
    "01: MAKE PUBLIC STATEMENT (公式声明を発表) \\\n",
    "02: APPEAL (要請・アピール) \\\n",
    "03: EXPRESS INTENT TO COOPERATE (協力の意図を表明) \\\n",
    "04: CONSULT (協議する) \\\n",
    "05: ENGAGE IN DIPLOMATIC COOPERATION (外交協力を行う) \\\n",
    "対立的なイベントの例: \\\n",
    "10: DEMAND (要求する) \\\n",
    "11: DISAPPROVE (非難する) \\\n",
    "12: REJECT (拒否する) \\\n",
    "13: THREATEN (脅迫する) \\\n",
    "14: PROTEST (抗議する) \\\n",
    "19: USE CONVENTIONAL MILITARY FORCE (通常戦力を行使する) \\\n",
    "\n",
    "### Goldsteinスケール\n",
    "各イベントコードに割り当てられた、-10（極めて対立的）から+10（極めて協力的）までのスコア。国家間の関係性の安定度を測る指標。\n",
    "\n",
    "### Average Tone\n",
    "ニュース記事全体の感情的なトーンを示す指標。-100（極端にネガティブ）から+100（極端にポジティブ）までの値を取り、メディアの論調を測る指標。\n",
    "\n",
    "\n"
   ]
  },
  {
   "cell_type": "code",
   "execution_count": null,
   "id": "a5288f12",
   "metadata": {},
   "outputs": [],
   "source": [
    "import os\n",
    "import zipfile\n",
    "import requests\n",
    "import pandas as pd\n",
    "import pyarrow as pa\n",
    "import pyarrow.parquet as pq\n",
    "from pathlib import Path\n",
    "from datetime import datetime, timedelta\n",
    "from tqdm import tqdm\n",
    "import logging\n",
    "import gc \n",
    "\n",
    "\n",
    "logging.basicConfig(level=logging.INFO, format='%(asctime)s - %(levelname)s - %(message)s')\n",
    "\n",
    "BASE = \"http://data.gdeltproject.org/events\"\n",
    "OUT  = Path(\"data\") \n",
    "OUT.mkdir(exist_ok=True)\n",
    "\n",
    "\n",
    "start_date = datetime(2022, 4, 1)\n",
    "end_date   = datetime(2025, 6, 9) \n",
    "\n",
    "current_date = start_date\n",
    "downloaded_files = []\n",
    "\n",
    "logging.info(f\"Starting download process for dates: {start_date.strftime('%Y-%m-%d')} to {end_date.strftime('%Y-%m-%d')}\")\n",
    "\n",
    "while current_date <= end_date:\n",
    "    fname = f\"{current_date:%Y%m%d}.export.CSV.zip\"\n",
    "    url   = f\"{BASE}/{fname}\"\n",
    "    local_zip_path = OUT / fname\n",
    "\n",
    "    if not local_zip_path.exists():\n",
    "        logging.info(f\"Downloading {fname} from {url}...\")\n",
    "        try:\n",
    "            r = requests.get(url, stream=True, timeout=60) \n",
    "            r.raise_for_status()\n",
    "            \n",
    "            content_type = r.headers.get('content-type', '').lower()\n",
    "            is_zip_content = 'application/zip' in content_type or \\\n",
    "                             'application/octet-stream' in content_type or \\\n",
    "                             'application/x-zip-compressed' in content_type\n",
    "            \n",
    "\n",
    "            content_length = int(r.headers.get('content-length', 0)) \n",
    "            \n",
    "            if not is_zip_content and content_length < 10000 and 'text/html' in content_type:\n",
    "                logging.warning(f\"Skipping {fname}: Unexpected content-type '{content_type}' and small size ({content_length} bytes). Might be an error page.\")\n",
    "                current_date += timedelta(days=1)\n",
    "                continue\n",
    "            if is_zip_content and content_length > 0 and content_length < 1024: \n",
    "                 logging.warning(f\"Skipping {fname}: ZIP file size ({content_length} bytes) is suspiciously small. May be empty or corrupted.\")\n",
    "                 current_date += timedelta(days=1)\n",
    "                 continue\n",
    "\n",
    "\n",
    "            with open(local_zip_path, \"wb\") as f:\n",
    "                for chunk in r.iter_content(1024*1024):\n",
    "                    f.write(chunk)\n",
    "            \n",
    "            try:\n",
    "                with zipfile.ZipFile(local_zip_path, 'r') as test_zf:\n",
    "                    if not test_zf.namelist():\n",
    "                        logging.warning(f\"Downloaded file {fname} is an empty ZIP. Deleting and skipping.\")\n",
    "                        local_zip_path.unlink() \n",
    "                        current_date += timedelta(days=1)\n",
    "                        continue\n",
    "                logging.info(f\"Successfully downloaded and verified {fname}\")\n",
    "                downloaded_files.append(local_zip_path)\n",
    "            except zipfile.BadZipFile:\n",
    "                logging.error(f\"Downloaded file {fname} is not a valid ZIP. Deleting and skipping.\")\n",
    "                if local_zip_path.exists(): local_zip_path.unlink()\n",
    "                current_date += timedelta(days=1)\n",
    "                continue\n",
    "                \n",
    "        except requests.exceptions.HTTPError as e:\n",
    "            logging.error(f\"HTTP error downloading {fname}: {e}. Server might not have this file yet or other issue.\")\n",
    "        except requests.exceptions.RequestException as e:\n",
    "            logging.error(f\"Error downloading {fname}: {e}\")\n",
    "            if local_zip_path.exists():\n",
    "                try:\n",
    "                    local_zip_path.unlink(missing_ok=True)\n",
    "                except OSError: pass \n",
    "        except Exception as e:\n",
    "            logging.error(f\"An unexpected error occurred during download of {fname}: {e}\")\n",
    "    else:\n",
    "        logging.info(f\"{fname} already exists. Assuming valid and adding to process list.\")\n",
    "        downloaded_files.append(local_zip_path)\n",
    "    \n",
    "    current_date += timedelta(days=1)\n",
    "\n",
    "logging.info(f\"Download process finished. {len(downloaded_files)} files to process.\")\n",
    "if not downloaded_files:\n",
    "    logging.warning(\"No files were downloaded or found. Exiting processing.\")\n",
    "    exit()\n",
    "    \n",
    "logging.info(\"Starting Parquet conversion and writing process...\")\n",
    "\n",
    "usecols_super_enhanced = [\n",
    "    0, 1, 6, 7, 12, 16, 17, 22, 25, 26, 29, 30, 31, 34, 52, 53, 54, 55, 56, 57\n",
    "]\n",
    "colnames_super_enhanced = [\n",
    "    \"GLOBALEVENTID\", \"SQLDATE\",\n",
    "    \"Actor1Name\", \"Actor1CountryCode\", \"Actor1Type1Code\",\n",
    "    \"Actor2Name\", \"Actor2CountryCode\", \"Actor2Type1Code\",\n",
    "    \"EventCodeFull\", \"EventRootCode\", \"QuadClass\", \"GoldsteinScale\",\n",
    "    \"NumMentions\", \"AvgTone\",\n",
    "    \"ActionGeo_Fullname\", \"ActionGeo_CountryCode\", \"ActionGeo_ADM1Code\", \n",
    "    \"ActionGeo_Lat\", \"ActionGeo_Long\",\n",
    "    \"SOURCEURL\"\n",
    "]\n",
    "\n",
    "\n",
    "parquet_schema = pa.schema([\n",
    "    pa.field(\"GLOBALEVENTID\", pa.string()),\n",
    "    pa.field(\"SQLDATE\", pa.timestamp('ms')), \n",
    "    pa.field(\"Actor1Name\", pa.string()),\n",
    "    pa.field(\"Actor1CountryCode\", pa.string()), \n",
    "    pa.field(\"Actor1Type1Code\", pa.string()),\n",
    "    pa.field(\"Actor2Name\", pa.string()),\n",
    "    pa.field(\"Actor2CountryCode\", pa.string()),\n",
    "    pa.field(\"Actor2Type1Code\", pa.string()),\n",
    "    pa.field(\"EventCodeFull\", pa.string()),\n",
    "    pa.field(\"EventRootCode\", pa.string()),\n",
    "    pa.field(\"QuadClass\", pa.int8()),\n",
    "    pa.field(\"GoldsteinScale\", pa.float32()),\n",
    "    pa.field(\"NumMentions\", pa.int32()),\n",
    "    pa.field(\"AvgTone\", pa.float32()),\n",
    "    pa.field(\"ActionGeo_Fullname\", pa.string()),\n",
    "    pa.field(\"ActionGeo_CountryCode\", pa.string()),\n",
    "    pa.field(\"ActionGeo_ADM1Code\", pa.string()),\n",
    "    pa.field(\"ActionGeo_Lat\", pa.float32()),\n",
    "    pa.field(\"ActionGeo_Long\", pa.float32()),\n",
    "    pa.field(\"SOURCEURL\", pa.string())\n",
    "])\n",
    "\n",
    "csv_dtypes = {\n",
    "    1: str,\n",
    "    30: str,\n",
    "    31: str,\n",
    "    34: str,\n",
    "    29: str,\n",
    "    55: str,\n",
    "    56: str,\n",
    "}\n",
    "\n",
    "output_filename = f\"gdelt_events_{start_date.strftime('%Y%m%d')}_{end_date.strftime('%Y%m%d')}.parquet\"\n",
    "output_parquet_path = OUT / output_filename \n",
    "parquet_writer = None\n",
    "total_rows_written = 0\n",
    "\n",
    "try:\n",
    "    for zpath in tqdm(downloaded_files, desc=\"Processing ZIP files to Parquet\"):\n",
    "        if not zpath.exists():\n",
    "            logging.warning(f\"File {zpath} was in list but not found on disk. Skipping.\")\n",
    "            continue\n",
    "        \n",
    "        df = None\n",
    "        table = None \n",
    "\n",
    "        try:\n",
    "            with zipfile.ZipFile(zpath, 'r') as zf:\n",
    "                if not zf.namelist():\n",
    "                    logging.warning(f\"ZIP file {zpath.name} is empty. Skipping.\")\n",
    "                    continue\n",
    "                \n",
    "                csv_filename_in_zip = zf.namelist()[0]\n",
    "                with zf.open(csv_filename_in_zip) as f:\n",
    "                    df = pd.read_csv(\n",
    "                        f,\n",
    "                        sep=\"\\t\",\n",
    "                        header=None,\n",
    "                        names=None, \n",
    "                        usecols=usecols_super_enhanced,\n",
    "                        dtype=str,\n",
    "                        engine=\"c\", \n",
    "                        low_memory=False,\n",
    "                        on_bad_lines=\"skip\"\n",
    "                    )\n",
    "            \n",
    "            if df.empty:\n",
    "                logging.warning(f\"DataFrame from {zpath.name} is empty after read_csv. Skipping.\")\n",
    "                continue\n",
    "\n",
    "            if df.shape[1] == len(colnames_super_enhanced):\n",
    "                df.columns = colnames_super_enhanced\n",
    "\n",
    "                try:\n",
    "                    df[\"SQLDATE\"] = pd.to_datetime(df[\"SQLDATE\"], format='%Y%m%d', errors='coerce')\n",
    "                    df.dropna(subset=[\"SQLDATE\"], inplace=True) \n",
    "                    if df.empty:\n",
    "                        logging.warning(f\"No valid SQLDATE entries in {zpath.name} after coercion. Skipping.\")\n",
    "                        continue\n",
    "\n",
    "                    df[\"NumMentions\"] = pd.to_numeric(df[\"NumMentions\"], errors='coerce').astype('Int32')\n",
    "                    df[\"AvgTone\"] = pd.to_numeric(df[\"AvgTone\"], errors='coerce').astype('float32')\n",
    "                    df[\"GoldsteinScale\"] = pd.to_numeric(df[\"GoldsteinScale\"], errors='coerce').astype('float32')\n",
    "                    df[\"QuadClass\"] = pd.to_numeric(df[\"QuadClass\"], errors='coerce').astype('Int8') # pandas nullable Int8\n",
    "                    df[\"ActionGeo_Lat\"] = pd.to_numeric(df[\"ActionGeo_Lat\"], errors='coerce').astype('float32')\n",
    "                    df[\"ActionGeo_Long\"] = pd.to_numeric(df[\"ActionGeo_Long\"], errors='coerce').astype('float32')\n",
    "                    \n",
    "\n",
    "                    for col_name in colnames_super_enhanced:\n",
    "                        if df[col_name].dtype == 'object':\n",
    "                            df[col_name] = df[col_name].fillna('')\n",
    "\n",
    "                except Exception as e_convert_daily:\n",
    "                    logging.error(f\"Error during type conversion for {zpath.name}: {e_convert_daily}. Skipping this file.\")\n",
    "                    continue\n",
    "                \n",
    "                if df.empty:\n",
    "                    logging.warning(f\"DataFrame from {zpath.name} became empty after type conversion. Skipping.\")\n",
    "                    continue\n",
    "                \n",
    "                try:\n",
    "                    table = pa.Table.from_pandas(df, schema=parquet_schema, preserve_index=False)\n",
    "                except Exception as e_to_arrow:\n",
    "                    logging.error(f\"Error converting DataFrame from {zpath.name} to Arrow Table: {e_to_arrow}. Skipping this file.\")\n",
    "                    logging.error(f\"DataFrame dtypes at point of failure for {zpath.name}:\\n{df.dtypes.to_string()}\")\n",
    "                    continue\n",
    "\n",
    "                if parquet_writer is None:\n",
    "                    parquet_writer = pq.ParquetWriter(output_parquet_path, parquet_schema, compression='snappy')\n",
    "                \n",
    "                parquet_writer.write_table(table)\n",
    "                total_rows_written += len(df)\n",
    "\n",
    "            else:\n",
    "                logging.warning(f\"Skipping data from {zpath.name}: Expected {len(colnames_super_enhanced)} columns but got {df.shape[1]}. `on_bad_lines='skip'` might have affected row structure.\")\n",
    "\n",
    "        except zipfile.BadZipFile:\n",
    "            logging.error(f\"File {zpath.name} is not a valid ZIP file or is corrupted. Skipping.\")\n",
    "        except pd.errors.EmptyDataError:\n",
    "            logging.warning(f\"No data or columns to parse in {zpath.name} (or its CSV). Skipping.\")\n",
    "        except pd.errors.ParserError as e:\n",
    "            logging.error(f\"Error parsing CSV from {zpath.name}: {e}. Skipping.\")\n",
    "        except IndexError: \n",
    "            logging.error(f\"Could not access file list in zip {zpath.name}, it might be empty or malformed. Skipping.\")\n",
    "        except Exception as e:\n",
    "            logging.error(f\"An unexpected error occurred while processing {zpath.name}: {e}. Skipping.\")\n",
    "        finally:\n",
    "            del df\n",
    "            del table\n",
    "            gc.collect()\n",
    "\n",
    "finally:\n",
    "    if parquet_writer:\n",
    "        parquet_writer.close()\n",
    "        logging.info(f\"Parquet writer closed. Total rows written to {output_parquet_path}: {total_rows_written}\")\n",
    "    elif total_rows_written == 0 and downloaded_files:\n",
    "         logging.warning(\"No data was written to Parquet file, though files were processed.\")\n",
    "\n",
    "\n",
    "if total_rows_written > 0:\n",
    "    logging.info(f\"Successfully saved data to {output_parquet_path}. Total rows: {total_rows_written}\")\n",
    "else:\n",
    "    logging.warning(\"No dataframes were processed successfully or no rows were written. Parquet file might be empty or not created if no valid data was found.\")\n",
    "\n",
    "logging.info(\"Script finished.\")\n"
   ]
  },
  {
   "cell_type": "code",
   "execution_count": 6,
   "id": "e64995e5",
   "metadata": {},
   "outputs": [
    {
     "name": "stdout",
     "output_type": "stream",
     "text": [
      "[########################################] | 100% Completed | 24.30 s\n",
      "[######################################  ] | 97% Completed | 344.42 s"
     ]
    },
    {
     "name": "stderr",
     "output_type": "stream",
     "text": [
      "IOStream.flush timed out\n"
     ]
    },
    {
     "name": "stdout",
     "output_type": "stream",
     "text": [
      "[########################################] | 100% Completed | 347.49 s\n",
      "[########################################] | 100% Completed | 17.51 s\n"
     ]
    },
    {
     "data": {
      "image/png": "[encoded data removed]",
      "text/plain": [
       "<Figure size 1200x600 with 1 Axes>"
      ]
     },
     "metadata": {},
     "output_type": "display_data"
    },
    {
     "name": "stdout",
     "output_type": "stream",
     "text": [
      "[########################################] | 100% Completed | 17.91 s\n"
     ]
    },
    {
     "data": {
      "image/png": "[encoded data removed]",
      "text/plain": [
       "<Figure size 1200x600 with 1 Axes>"
      ]
     },
     "metadata": {},
     "output_type": "display_data"
    },
    {
     "name": "stdout",
     "output_type": "stream",
     "text": [
      "[######                                  ] | 15% Completed | 62.83 ss"
     ]
    },
    {
     "name": "stderr",
     "output_type": "stream",
     "text": [
      "IOStream.flush timed out\n",
      "IOStream.flush timed out\n"
     ]
    },
    {
     "name": "stdout",
     "output_type": "stream",
     "text": [
      "[########################################] | 100% Completed | 238.92 s\n"
     ]
    },
    {
     "data": {
      "image/png": "[encoded data removed]",
      "text/plain": [
       "<Figure size 1500x500 with 2 Axes>"
      ]
     },
     "metadata": {},
     "output_type": "display_data"
    },
    {
     "name": "stdout",
     "output_type": "stream",
     "text": [
      "[########################################] | 100% Completed | 499.02 s\n",
      "[############                            ] | 30% Completed | 49.70 ss"
     ]
    },
    {
     "name": "stderr",
     "output_type": "stream",
     "text": [
      "IOStream.flush timed out\n"
     ]
    },
    {
     "name": "stdout",
     "output_type": "stream",
     "text": [
      "[###############                         ] | 39% Completed | 86.83 s"
     ]
    },
    {
     "name": "stderr",
     "output_type": "stream",
     "text": [
      "IOStream.flush timed out\n"
     ]
    },
    {
     "name": "stdout",
     "output_type": "stream",
     "text": [
      "[########################################] | 100% Completed | 196.83 s\n"
     ]
    },
    {
     "data": {
      "application/vnd.plotly.v1+json": {
       "config": {
        "plotlyServerURL": "https://plot.ly"
       },
       "data": [
        {
         "coloraxis": "coloraxis",
         "geo": "geo",
         "hovertemplate": "<b>%{hovertext}</b><br><br>Actor1CountryCode=%{location}<br>NumMentions=%{z}<extra></extra>",
         "hovertext": [
          "ABW",
          "AFG",
          "AFR",
          "AGO",
          "AIA",
          "ALB",
          "AND",
          "ARE",
          "ARG",
          "ARM",
          "ASA",
          "ATG",
          "AUS",
          "AUT",
          "AZE",
          "BDI",
          "BEL",
          "BEN",
          "BFA",
          "BGD",
          "BGR",
          "BHR",
          "BHS",
          "BLR",
          "BLZ",
          "BMU",
          "BOL",
          "BRA",
          "BRB",
          "BRN",
          "BTN",
          "BWA",
          "CAF",
          "CAN",
          "CAS",
          "CHE",
          "CHL",
          "CHN",
          "CIV",
          "CMR",
          "COD",
          "COG",
          "COK",
          "COL",
          "COM",
          "CPV",
          "CRB",
          "CRI",
          "CUB",
          "CYM",
          "CYP",
          "CZE",
          "DEU",
          "DJI",
          "DMA",
          "DNK",
          "DOM",
          "DZA",
          "EAF",
          "ECU",
          "EGY",
          "ERI",
          "ESP",
          "EST",
          "ETH",
          "EUR",
          "FIN",
          "FJI",
          "FRA",
          "FSM",
          "GAB",
          "GBR",
          "GEO",
          "GHA",
          "GIN",
          "GMB",
          "GNB",
          "GNQ",
          "GRC",
          "GRD",
          "GTM",
          "GUY",
          "HKG",
          "HND",
          "HRV",
          "HTI",
          "HUN",
          "IDN",
          "IND",
          "IRL",
          "IRN",
          "IRQ",
          "ISL",
          "ISR",
          "ITA",
          "JAM",
          "JOR",
          "JPN",
          "KAZ",
          "KEN",
          "KGZ",
          "KHM",
          "KIR",
          "KNA",
          "KOR",
          "KWT",
          "LAM",
          "LAO",
          "LBN",
          "LBR",
          "LBY",
          "LCA",
          "LIE",
          "LKA",
          "LSO",
          "LTU",
          "LUX",
          "LVA",
          "MAC",
          "MAR",
          "MCO",
          "MDA",
          "MDG",
          "MDV",
          "MEA",
          "MEX",
          "MHL",
          "MKD",
          "MLI",
          "MLT",
          "MMR",
          "MNG",
          "MOZ",
          "MRT",
          "MUS",
          "MWI",
          "MYS",
          "NAF",
          "NAM",
          "NER",
          "NGA",
          "NIC",
          "NLD",
          "NMR",
          "NOR",
          "NPL",
          "NRU",
          "NZL",
          "OMN",
          "PAK",
          "PAN",
          "PER",
          "PGS",
          "PHL",
          "PLW",
          "PNG",
          "POL",
          "PRI",
          "PRK",
          "PRT",
          "PRY",
          "PSE",
          "QAT",
          "ROM",
          "RUS",
          "RWA",
          "SAF",
          "SAM",
          "SAS",
          "SAU",
          "SCN",
          "SDN",
          "SEA",
          "SEN",
          "SGP",
          "SHN",
          "SLB",
          "SLE",
          "SLV",
          "SMR",
          "SOM",
          "SRB",
          "SSD",
          "STP",
          "SUR",
          "SVK",
          "SWE",
          "SWZ",
          "SYC",
          "SYR",
          "TCD",
          "TGO",
          "THA",
          "TJK",
          "TKM",
          "TMP",
          "TON",
          "TTO",
          "TUN",
          "TUR",
          "TUV",
          "TWN",
          "TZA",
          "UGA",
          "UKR",
          "URY",
          "USA",
          "UZB",
          "VAT",
          "VCT",
          "VEN",
          "VNM",
          "VUT",
          "WAF",
          "WLF",
          "WSM",
          "WST",
          "YEM",
          "ZAF",
          "ZMB",
          "ZWE",
          "CAU"
         ],
         "locations": [
          "ABW",
          "AFG",
          "AFR",
          "AGO",
          "AIA",
          "ALB",
          "AND",
          "ARE",
          "ARG",
          "ARM",
          "ASA",
          "ATG",
          "AUS",
          "AUT",
          "AZE",
          "BDI",
          "BEL",
          "BEN",
          "BFA",
          "BGD",
          "BGR",
          "BHR",
          "BHS",
          "BLR",
          "BLZ",
          "BMU",
          "BOL",
          "BRA",
          "BRB",
          "BRN",
          "BTN",
          "BWA",
          "CAF",
          "CAN",
          "CAS",
          "CHE",
          "CHL",
          "CHN",
          "CIV",
          "CMR",
          "COD",
          "COG",
          "COK",
          "COL",
          "COM",
          "CPV",
          "CRB",
          "CRI",
          "CUB",
          "CYM",
          "CYP",
          "CZE",
          "DEU",
          "DJI",
          "DMA",
          "DNK",
          "DOM",
          "DZA",
          "EAF",
          "ECU",
          "EGY",
          "ERI",
          "ESP",
          "EST",
          "ETH",
          "EUR",
          "FIN",
          "FJI",
          "FRA",
          "FSM",
          "GAB",
          "GBR",
          "GEO",
          "GHA",
          "GIN",
          "GMB",
          "GNB",
          "GNQ",
          "GRC",
          "GRD",
          "GTM",
          "GUY",
          "HKG",
          "HND",
          "HRV",
          "HTI",
          "HUN",
          "IDN",
          "IND",
          "IRL",
          "IRN",
          "IRQ",
          "ISL",
          "ISR",
          "ITA",
          "JAM",
          "JOR",
          "JPN",
          "KAZ",
          "KEN",
          "KGZ",
          "KHM",
          "KIR",
          "KNA",
          "KOR",
          "KWT",
          "LAM",
          "LAO",
          "LBN",
          "LBR",
          "LBY",
          "LCA",
          "LIE",
          "LKA",
          "LSO",
          "LTU",
          "LUX",
          "LVA",
          "MAC",
          "MAR",
          "MCO",
          "MDA",
          "MDG",
          "MDV",
          "MEA",
          "MEX",
          "MHL",
          "MKD",
          "MLI",
          "MLT",
          "MMR",
          "MNG",
          "MOZ",
          "MRT",
          "MUS",
          "MWI",
          "MYS",
          "NAF",
          "NAM",
          "NER",
          "NGA",
          "NIC",
          "NLD",
          "NMR",
          "NOR",
          "NPL",
          "NRU",
          "NZL",
          "OMN",
          "PAK",
          "PAN",
          "PER",
          "PGS",
          "PHL",
          "PLW",
          "PNG",
          "POL",
          "PRI",
          "PRK",
          "PRT",
          "PRY",
          "PSE",
          "QAT",
          "ROM",
          "RUS",
          "RWA",
          "SAF",
          "SAM",
          "SAS",
          "SAU",
          "SCN",
          "SDN",
          "SEA",
          "SEN",
          "SGP",
          "SHN",
          "SLB",
          "SLE",
          "SLV",
          "SMR",
          "SOM",
          "SRB",
          "SSD",
          "STP",
          "SUR",
          "SVK",
          "SWE",
          "SWZ",
          "SYC",
          "SYR",
          "TCD",
          "TGO",
          "THA",
          "TJK",
          "TKM",
          "TMP",
          "TON",
          "TTO",
          "TUN",
          "TUR",
          "TUV",
          "TWN",
          "TZA",
          "UGA",
          "UKR",
          "URY",
          "USA",
          "UZB",
          "VAT",
          "VCT",
          "VEN",
          "VNM",
          "VUT",
          "WAF",
          "WLF",
          "WSM",
          "WST",
          "YEM",
          "ZAF",
          "ZMB",
          "ZWE",
          "CAU"
         ],
         "name": "",
         "type": "choropleth",
         "z": {
          "bdata": "dtsAANCuRgBX6HsArPMDACkyAABSkwYANCQAAFkoKwDArw4Af7AaACssAQBjrQEAZ1fSASU/DwBUUCYAbXcBAI9bHwC35wIAAKwEAKRuKgBBSwsAxWoIADOZCADw+BIAV/sDAG5hAwB3PQUAuy4qAFJrAwCMngMAsnsDAMTCAgC2jQEAfJWCAYBLAAA6YyUA4IUKAPNauwFeOQIAaZoDAD4ZCgC9kQUAsGQBAOreDwA5nAAAKpoAAF5pAADTiwMALG4TAOhoAQA/ZwkAI48LAEMzkADHLQUAZK0AACH+HQBYUwYAGdsHAHp/AABd4wcA0tBSABdmAgDdFzsAkhUIADzUDwCzNqwATjUWADAkCADFMcUAi8QAAKH1AQDm5SIDOhIAAJ5mKQDzkwIAyEIFAFGQAADOyQAAZQYrAC7cAgD1jQYAK2AJABPEAAALtAQA4dIDACl7EQAOfRUAUgAtAKCDwQDvsKEAwQidAJvrIAA8hAUAQaXVAgNrYABFihAAfHY0AOpukACDLwsA+BQsADGfBgAqaxMA2fgAAPrvBgDvamEAoMUIAI0LAADEpQYAG6tCAFSSCAAGYwsA21kCAIFzAAAizhsAx/MBAM8fCwBGrgMAxk8GAPtyAAASSwsA6bAIAAznBgAzkAEAQRIaACErAgA0DUwALxcBAH10AgB8qAcAEYsIADxUFQB5/QQAu/ADAGohAQBwQQMARfwGAJ19JwCwAAAA6E0FAMutDACgBZEAYx4FAKQUKwB19AYAuCQXAAjREQAB4QAA3UI6AM2eCQCckpEApfgHACwmDwBtgAEA/WNCAFYAAQCeoAcAt5otACgAAADsjzQAseYVAHxBAgC/QEkBNWssAPwKAADwNAICSPgRANCIAQDUDQAAAmQDAHbBRgAQBQAAnS0kAMIlEgB54QYAQNUdAK4KAAAjLAUAdT8DAP1aCwBiJQAAVp0MABjWCAAkcwcALiYAAJ00AQAJ9AgAe8ocAPGEAADGpAIA/RI2AF0rCgBoOAEAj9MqAP9qBADFYQQAuVACAMDMAQCjFwUAoRMKAP4dWwCS8gAAlB4yAIygBwDtAxAAZAatAdd9AgAFIvUQ6bIJAKk3GAAtowIAsLwWACyEPwAIHQIAH8IFAPYBAADQvQMA2mQoAE4dEwA0+B4Axe0FAJN8FgAbAAAA",
          "dtype": "i4"
         }
        }
       ],
       "layout": {
        "coloraxis": {
         "colorbar": {
          "title": {
           "text": "NumMentions"
          }
         },
         "colorscale": [
          [
           0,
           "#0d0887"
          ],
          [
           0.1111111111111111,
           "#46039f"
          ],
          [
           0.2222222222222222,
           "#7201a8"
          ],
          [
           0.3333333333333333,
           "#9c179e"
          ],
          [
           0.4444444444444444,
           "#bd3786"
          ],
          [
           0.5555555555555556,
           "#d8576b"
          ],
          [
           0.6666666666666666,
           "#ed7953"
          ],
          [
           0.7777777777777778,
           "#fb9f3a"
          ],
          [
           0.8888888888888888,
           "#fdca26"
          ],
          [
           1,
           "#f0f921"
          ]
         ]
        },
        "geo": {
         "center": {},
         "domain": {
          "x": [
           0,
           1
          ],
          "y": [
           0,
           1
          ]
         }
        },
        "legend": {
         "tracegroupgap": 0
        },
        "template": {
         "data": {
          "bar": [
           {
            "error_x": {
             "color": "#2a3f5f"
            },
            "error_y": {
             "color": "#2a3f5f"
            },
            "marker": {
             "line": {
              "color": "#E5ECF6",
              "width": 0.5
             },
             "pattern": {
              "fillmode": "overlay",
              "size": 10,
              "solidity": 0.2
             }
            },
            "type": "bar"
           }
          ],
          "barpolar": [
           {
            "marker": {
             "line": {
              "color": "#E5ECF6",
              "width": 0.5
             },
             "pattern": {
              "fillmode": "overlay",
              "size": 10,
              "solidity": 0.2
             }
            },
            "type": "barpolar"
           }
          ],
          "carpet": [
           {
            "aaxis": {
             "endlinecolor": "#2a3f5f",
             "gridcolor": "white",
             "linecolor": "white",
             "minorgridcolor": "white",
             "startlinecolor": "#2a3f5f"
            },
            "baxis": {
             "endlinecolor": "#2a3f5f",
             "gridcolor": "white",
             "linecolor": "white",
             "minorgridcolor": "white",
             "startlinecolor": "#2a3f5f"
            },
            "type": "carpet"
           }
          ],
          "choropleth": [
           {
            "colorbar": {
             "outlinewidth": 0,
             "ticks": ""
            },
            "type": "choropleth"
           }
          ],
          "contour": [
           {
            "colorbar": {
             "outlinewidth": 0,
             "ticks": ""
            },
            "colorscale": [
             [
              0,
              "#0d0887"
             ],
             [
              0.1111111111111111,
              "#46039f"
             ],
             [
              0.2222222222222222,
              "#7201a8"
             ],
             [
              0.3333333333333333,
              "#9c179e"
             ],
             [
              0.4444444444444444,
              "#bd3786"
             ],
             [
              0.5555555555555556,
              "#d8576b"
             ],
             [
              0.6666666666666666,
              "#ed7953"
             ],
             [
              0.7777777777777778,
              "#fb9f3a"
             ],
             [
              0.8888888888888888,
              "#fdca26"
             ],
             [
              1,
              "#f0f921"
             ]
            ],
            "type": "contour"
           }
          ],
          "contourcarpet": [
           {
            "colorbar": {
             "outlinewidth": 0,
             "ticks": ""
            },
            "type": "contourcarpet"
           }
          ],
          "heatmap": [
           {
            "colorbar": {
             "outlinewidth": 0,
             "ticks": ""
            },
            "colorscale": [
             [
              0,
              "#0d0887"
             ],
             [
              0.1111111111111111,
              "#46039f"
             ],
             [
              0.2222222222222222,
              "#7201a8"
             ],
             [
              0.3333333333333333,
              "#9c179e"
             ],
             [
              0.4444444444444444,
              "#bd3786"
             ],
             [
              0.5555555555555556,
              "#d8576b"
             ],
             [
              0.6666666666666666,
              "#ed7953"
             ],
             [
              0.7777777777777778,
              "#fb9f3a"
             ],
             [
              0.8888888888888888,
              "#fdca26"
             ],
             [
              1,
              "#f0f921"
             ]
            ],
            "type": "heatmap"
           }
          ],
          "histogram": [
           {
            "marker": {
             "pattern": {
              "fillmode": "overlay",
              "size": 10,
              "solidity": 0.2
             }
            },
            "type": "histogram"
           }
          ],
          "histogram2d": [
           {
            "colorbar": {
             "outlinewidth": 0,
             "ticks": ""
            },
            "colorscale": [
             [
              0,
              "#0d0887"
             ],
             [
              0.1111111111111111,
              "#46039f"
             ],
             [
              0.2222222222222222,
              "#7201a8"
             ],
             [
              0.3333333333333333,
              "#9c179e"
             ],
             [
              0.4444444444444444,
              "#bd3786"
             ],
             [
              0.5555555555555556,
              "#d8576b"
             ],
             [
              0.6666666666666666,
              "#ed7953"
             ],
             [
              0.7777777777777778,
              "#fb9f3a"
             ],
             [
              0.8888888888888888,
              "#fdca26"
             ],
             [
              1,
              "#f0f921"
             ]
            ],
            "type": "histogram2d"
           }
          ],
          "histogram2dcontour": [
           {
            "colorbar": {
             "outlinewidth": 0,
             "ticks": ""
            },
            "colorscale": [
             [
              0,
              "#0d0887"
             ],
             [
              0.1111111111111111,
              "#46039f"
             ],
             [
              0.2222222222222222,
              "#7201a8"
             ],
             [
              0.3333333333333333,
              "#9c179e"
             ],
             [
              0.4444444444444444,
              "#bd3786"
             ],
             [
              0.5555555555555556,
              "#d8576b"
             ],
             [
              0.6666666666666666,
              "#ed7953"
             ],
             [
              0.7777777777777778,
              "#fb9f3a"
             ],
             [
              0.8888888888888888,
              "#fdca26"
             ],
             [
              1,
              "#f0f921"
             ]
            ],
            "type": "histogram2dcontour"
           }
          ],
          "mesh3d": [
           {
            "colorbar": {
             "outlinewidth": 0,
             "ticks": ""
            },
            "type": "mesh3d"
           }
          ],
          "parcoords": [
           {
            "line": {
             "colorbar": {
              "outlinewidth": 0,
              "ticks": ""
             }
            },
            "type": "parcoords"
           }
          ],
          "pie": [
           {
            "automargin": true,
            "type": "pie"
           }
          ],
          "scatter": [
           {
            "fillpattern": {
             "fillmode": "overlay",
             "size": 10,
             "solidity": 0.2
            },
            "type": "scatter"
           }
          ],
          "scatter3d": [
           {
            "line": {
             "colorbar": {
              "outlinewidth": 0,
              "ticks": ""
             }
            },
            "marker": {
             "colorbar": {
              "outlinewidth": 0,
              "ticks": ""
             }
            },
            "type": "scatter3d"
           }
          ],
          "scattercarpet": [
           {
            "marker": {
             "colorbar": {
              "outlinewidth": 0,
              "ticks": ""
             }
            },
            "type": "scattercarpet"
           }
          ],
          "scattergeo": [
           {
            "marker": {
             "colorbar": {
              "outlinewidth": 0,
              "ticks": ""
             }
            },
            "type": "scattergeo"
           }
          ],
          "scattergl": [
           {
            "marker": {
             "colorbar": {
              "outlinewidth": 0,
              "ticks": ""
             }
            },
            "type": "scattergl"
           }
          ],
          "scattermap": [
           {
            "marker": {
             "colorbar": {
              "outlinewidth": 0,
              "ticks": ""
             }
            },
            "type": "scattermap"
           }
          ],
          "scattermapbox": [
           {
            "marker": {
             "colorbar": {
              "outlinewidth": 0,
              "ticks": ""
             }
            },
            "type": "scattermapbox"
           }
          ],
          "scatterpolar": [
           {
            "marker": {
             "colorbar": {
              "outlinewidth": 0,
              "ticks": ""
             }
            },
            "type": "scatterpolar"
           }
          ],
          "scatterpolargl": [
           {
            "marker": {
             "colorbar": {
              "outlinewidth": 0,
              "ticks": ""
             }
            },
            "type": "scatterpolargl"
           }
          ],
          "scatterternary": [
           {
            "marker": {
             "colorbar": {
              "outlinewidth": 0,
              "ticks": ""
             }
            },
            "type": "scatterternary"
           }
          ],
          "surface": [
           {
            "colorbar": {
             "outlinewidth": 0,
             "ticks": ""
            },
            "colorscale": [
             [
              0,
              "#0d0887"
             ],
             [
              0.1111111111111111,
              "#46039f"
             ],
             [
              0.2222222222222222,
              "#7201a8"
             ],
             [
              0.3333333333333333,
              "#9c179e"
             ],
             [
              0.4444444444444444,
              "#bd3786"
             ],
             [
              0.5555555555555556,
              "#d8576b"
             ],
             [
              0.6666666666666666,
              "#ed7953"
             ],
             [
              0.7777777777777778,
              "#fb9f3a"
             ],
             [
              0.8888888888888888,
              "#fdca26"
             ],
             [
              1,
              "#f0f921"
             ]
            ],
            "type": "surface"
           }
          ],
          "table": [
           {
            "cells": {
             "fill": {
              "color": "#EBF0F8"
             },
             "line": {
              "color": "white"
             }
            },
            "header": {
             "fill": {
              "color": "#C8D4E3"
             },
             "line": {
              "color": "white"
             }
            },
            "type": "table"
           }
          ]
         },
         "layout": {
          "annotationdefaults": {
           "arrowcolor": "#2a3f5f",
           "arrowhead": 0,
           "arrowwidth": 1
          },
          "autotypenumbers": "strict",
          "coloraxis": {
           "colorbar": {
            "outlinewidth": 0,
            "ticks": ""
           }
          },
          "colorscale": {
           "diverging": [
            [
             0,
             "#8e0152"
            ],
            [
             0.1,
             "#c51b7d"
            ],
            [
             0.2,
             "#de77ae"
            ],
            [
             0.3,
             "#f1b6da"
            ],
            [
             0.4,
             "#fde0ef"
            ],
            [
             0.5,
             "#f7f7f7"
            ],
            [
             0.6,
             "#e6f5d0"
            ],
            [
             0.7,
             "#b8e186"
            ],
            [
             0.8,
             "#7fbc41"
            ],
            [
             0.9,
             "#4d9221"
            ],
            [
             1,
             "#276419"
            ]
           ],
           "sequential": [
            [
             0,
             "#0d0887"
            ],
            [
             0.1111111111111111,
             "#46039f"
            ],
            [
             0.2222222222222222,
             "#7201a8"
            ],
            [
             0.3333333333333333,
             "#9c179e"
            ],
            [
             0.4444444444444444,
             "#bd3786"
            ],
            [
             0.5555555555555556,
             "#d8576b"
            ],
            [
             0.6666666666666666,
             "#ed7953"
            ],
            [
             0.7777777777777778,
             "#fb9f3a"
            ],
            [
             0.8888888888888888,
             "#fdca26"
            ],
            [
             1,
             "#f0f921"
            ]
           ],
           "sequentialminus": [
            [
             0,
             "#0d0887"
            ],
            [
             0.1111111111111111,
             "#46039f"
            ],
            [
             0.2222222222222222,
             "#7201a8"
            ],
            [
             0.3333333333333333,
             "#9c179e"
            ],
            [
             0.4444444444444444,
             "#bd3786"
            ],
            [
             0.5555555555555556,
             "#d8576b"
            ],
            [
             0.6666666666666666,
             "#ed7953"
            ],
            [
             0.7777777777777778,
             "#fb9f3a"
            ],
            [
             0.8888888888888888,
             "#fdca26"
            ],
            [
             1,
             "#f0f921"
            ]
           ]
          },
          "colorway": [
           "#636efa",
           "#EF553B",
           "#00cc96",
           "#ab63fa",
           "#FFA15A",
           "#19d3f3",
           "#FF6692",
           "#B6E880",
           "#FF97FF",
           "#FECB52"
          ],
          "font": {
           "color": "#2a3f5f"
          },
          "geo": {
           "bgcolor": "white",
           "lakecolor": "white",
           "landcolor": "#E5ECF6",
           "showlakes": true,
           "showland": true,
           "subunitcolor": "white"
          },
          "hoverlabel": {
           "align": "left"
          },
          "hovermode": "closest",
          "mapbox": {
           "style": "light"
          },
          "paper_bgcolor": "white",
          "plot_bgcolor": "#E5ECF6",
          "polar": {
           "angularaxis": {
            "gridcolor": "white",
            "linecolor": "white",
            "ticks": ""
           },
           "bgcolor": "#E5ECF6",
           "radialaxis": {
            "gridcolor": "white",
            "linecolor": "white",
            "ticks": ""
           }
          },
          "scene": {
           "xaxis": {
            "backgroundcolor": "#E5ECF6",
            "gridcolor": "white",
            "gridwidth": 2,
            "linecolor": "white",
            "showbackground": true,
            "ticks": "",
            "zerolinecolor": "white"
           },
           "yaxis": {
            "backgroundcolor": "#E5ECF6",
            "gridcolor": "white",
            "gridwidth": 2,
            "linecolor": "white",
            "showbackground": true,
            "ticks": "",
            "zerolinecolor": "white"
           },
           "zaxis": {
            "backgroundcolor": "#E5ECF6",
            "gridcolor": "white",
            "gridwidth": 2,
            "linecolor": "white",
            "showbackground": true,
            "ticks": "",
            "zerolinecolor": "white"
           }
          },
          "shapedefaults": {
           "line": {
            "color": "#2a3f5f"
           }
          },
          "ternary": {
           "aaxis": {
            "gridcolor": "white",
            "linecolor": "white",
            "ticks": ""
           },
           "baxis": {
            "gridcolor": "white",
            "linecolor": "white",
            "ticks": ""
           },
           "bgcolor": "#E5ECF6",
           "caxis": {
            "gridcolor": "white",
            "linecolor": "white",
            "ticks": ""
           }
          },
          "title": {
           "x": 0.05
          },
          "xaxis": {
           "automargin": true,
           "gridcolor": "white",
           "linecolor": "white",
           "ticks": "",
           "title": {
            "standoff": 15
           },
           "zerolinecolor": "white",
           "zerolinewidth": 2
          },
          "yaxis": {
           "automargin": true,
           "gridcolor": "white",
           "linecolor": "white",
           "ticks": "",
           "title": {
            "standoff": 15
           },
           "zerolinecolor": "white",
           "zerolinewidth": 2
          }
         }
        },
        "title": {
         "text": "Actor1CountryCode - NumMentions (sum)"
        }
       }
      }
     },
     "metadata": {},
     "output_type": "display_data"
    },
    {
     "name": "stdout",
     "output_type": "stream",
     "text": [
      "[###                                     ] | 7% Completed | 61.93 sms"
     ]
    },
    {
     "name": "stderr",
     "output_type": "stream",
     "text": [
      "IOStream.flush timed out\n",
      "IOStream.flush timed out\n"
     ]
    },
    {
     "name": "stdout",
     "output_type": "stream",
     "text": [
      "[########################################] | 100% Completed | 443.29 s\n",
      "[####################                    ] | 51% Completed | 106.21 s"
     ]
    },
    {
     "name": "stderr",
     "output_type": "stream",
     "text": [
      "IOStream.flush timed out\n"
     ]
    },
    {
     "name": "stdout",
     "output_type": "stream",
     "text": [
      "[########################################] | 100% Completed | 159.02 s\n"
     ]
    },
    {
     "data": {
      "application/vnd.plotly.v1+json": {
       "config": {
        "plotlyServerURL": "https://plot.ly"
       },
       "data": [
        {
         "coloraxis": "coloraxis",
         "geo": "geo",
         "hovertemplate": "<b>%{hovertext}</b><br><br>Actor1CountryCode=%{location}<br>AvgTone=%{z}<extra></extra>",
         "hovertext": [
          "ABW",
          "AFG",
          "AFR",
          "AGO",
          "AIA",
          "ALB",
          "AND",
          "ARE",
          "ARG",
          "ARM",
          "ASA",
          "ATG",
          "AUS",
          "AUT",
          "AZE",
          "BDI",
          "BEL",
          "BEN",
          "BFA",
          "BGD",
          "BGR",
          "BHR",
          "BHS",
          "BLR",
          "BLZ",
          "BMU",
          "BOL",
          "BRA",
          "BRB",
          "BRN",
          "BTN",
          "BWA",
          "CAF",
          "CAN",
          "CAS",
          "CHE",
          "CHL",
          "CHN",
          "CIV",
          "CMR",
          "COD",
          "COG",
          "COK",
          "COL",
          "COM",
          "CPV",
          "CRB",
          "CRI",
          "CUB",
          "CYM",
          "CYP",
          "CZE",
          "DEU",
          "DJI",
          "DMA",
          "DNK",
          "DOM",
          "DZA",
          "EAF",
          "ECU",
          "EGY",
          "ERI",
          "ESP",
          "EST",
          "ETH",
          "EUR",
          "FIN",
          "FJI",
          "FRA",
          "FSM",
          "GAB",
          "GBR",
          "GEO",
          "GHA",
          "GIN",
          "GMB",
          "GNB",
          "GNQ",
          "GRC",
          "GRD",
          "GTM",
          "GUY",
          "HKG",
          "HND",
          "HRV",
          "HTI",
          "HUN",
          "IDN",
          "IND",
          "IRL",
          "IRN",
          "IRQ",
          "ISL",
          "ISR",
          "ITA",
          "JAM",
          "JOR",
          "JPN",
          "KAZ",
          "KEN",
          "KGZ",
          "KHM",
          "KIR",
          "KNA",
          "KOR",
          "KWT",
          "LAM",
          "LAO",
          "LBN",
          "LBR",
          "LBY",
          "LCA",
          "LIE",
          "LKA",
          "LSO",
          "LTU",
          "LUX",
          "LVA",
          "MAC",
          "MAR",
          "MCO",
          "MDA",
          "MDG",
          "MDV",
          "MEA",
          "MEX",
          "MHL",
          "MKD",
          "MLI",
          "MLT",
          "MMR",
          "MNG",
          "MOZ",
          "MRT",
          "MUS",
          "MWI",
          "MYS",
          "NAF",
          "NAM",
          "NER",
          "NGA",
          "NIC",
          "NLD",
          "NMR",
          "NOR",
          "NPL",
          "NRU",
          "NZL",
          "OMN",
          "PAK",
          "PAN",
          "PER",
          "PGS",
          "PHL",
          "PLW",
          "PNG",
          "POL",
          "PRI",
          "PRK",
          "PRT",
          "PRY",
          "PSE",
          "QAT",
          "ROM",
          "RUS",
          "RWA",
          "SAF",
          "SAM",
          "SAS",
          "SAU",
          "SCN",
          "SDN",
          "SEA",
          "SEN",
          "SGP",
          "SHN",
          "SLB",
          "SLE",
          "SLV",
          "SMR",
          "SOM",
          "SRB",
          "SSD",
          "STP",
          "SUR",
          "SVK",
          "SWE",
          "SWZ",
          "SYC",
          "SYR",
          "TCD",
          "TGO",
          "THA",
          "TJK",
          "TKM",
          "TMP",
          "TON",
          "TTO",
          "TUN",
          "TUR",
          "TUV",
          "TWN",
          "TZA",
          "UGA",
          "UKR",
          "URY",
          "USA",
          "UZB",
          "VAT",
          "VCT",
          "VEN",
          "VNM",
          "VUT",
          "WAF",
          "WLF",
          "WSM",
          "WST",
          "YEM",
          "ZAF",
          "ZMB",
          "ZWE",
          "CAU"
         ],
         "locations": [
          "ABW",
          "AFG",
          "AFR",
          "AGO",
          "AIA",
          "ALB",
          "AND",
          "ARE",
          "ARG",
          "ARM",
          "ASA",
          "ATG",
          "AUS",
          "AUT",
          "AZE",
          "BDI",
          "BEL",
          "BEN",
          "BFA",
          "BGD",
          "BGR",
          "BHR",
          "BHS",
          "BLR",
          "BLZ",
          "BMU",
          "BOL",
          "BRA",
          "BRB",
          "BRN",
          "BTN",
          "BWA",
          "CAF",
          "CAN",
          "CAS",
          "CHE",
          "CHL",
          "CHN",
          "CIV",
          "CMR",
          "COD",
          "COG",
          "COK",
          "COL",
          "COM",
          "CPV",
          "CRB",
          "CRI",
          "CUB",
          "CYM",
          "CYP",
          "CZE",
          "DEU",
          "DJI",
          "DMA",
          "DNK",
          "DOM",
          "DZA",
          "EAF",
          "ECU",
          "EGY",
          "ERI",
          "ESP",
          "EST",
          "ETH",
          "EUR",
          "FIN",
          "FJI",
          "FRA",
          "FSM",
          "GAB",
          "GBR",
          "GEO",
          "GHA",
          "GIN",
          "GMB",
          "GNB",
          "GNQ",
          "GRC",
          "GRD",
          "GTM",
          "GUY",
          "HKG",
          "HND",
          "HRV",
          "HTI",
          "HUN",
          "IDN",
          "IND",
          "IRL",
          "IRN",
          "IRQ",
          "ISL",
          "ISR",
          "ITA",
          "JAM",
          "JOR",
          "JPN",
          "KAZ",
          "KEN",
          "KGZ",
          "KHM",
          "KIR",
          "KNA",
          "KOR",
          "KWT",
          "LAM",
          "LAO",
          "LBN",
          "LBR",
          "LBY",
          "LCA",
          "LIE",
          "LKA",
          "LSO",
          "LTU",
          "LUX",
          "LVA",
          "MAC",
          "MAR",
          "MCO",
          "MDA",
          "MDG",
          "MDV",
          "MEA",
          "MEX",
          "MHL",
          "MKD",
          "MLI",
          "MLT",
          "MMR",
          "MNG",
          "MOZ",
          "MRT",
          "MUS",
          "MWI",
          "MYS",
          "NAF",
          "NAM",
          "NER",
          "NGA",
          "NIC",
          "NLD",
          "NMR",
          "NOR",
          "NPL",
          "NRU",
          "NZL",
          "OMN",
          "PAK",
          "PAN",
          "PER",
          "PGS",
          "PHL",
          "PLW",
          "PNG",
          "POL",
          "PRI",
          "PRK",
          "PRT",
          "PRY",
          "PSE",
          "QAT",
          "ROM",
          "RUS",
          "RWA",
          "SAF",
          "SAM",
          "SAS",
          "SAU",
          "SCN",
          "SDN",
          "SEA",
          "SEN",
          "SGP",
          "SHN",
          "SLB",
          "SLE",
          "SLV",
          "SMR",
          "SOM",
          "SRB",
          "SSD",
          "STP",
          "SUR",
          "SVK",
          "SWE",
          "SWZ",
          "SYC",
          "SYR",
          "TCD",
          "TGO",
          "THA",
          "TJK",
          "TKM",
          "TMP",
          "TON",
          "TTO",
          "TUN",
          "TUR",
          "TUV",
          "TWN",
          "TZA",
          "UGA",
          "UKR",
          "URY",
          "USA",
          "UZB",
          "VAT",
          "VCT",
          "VEN",
          "VNM",
          "VUT",
          "WAF",
          "WLF",
          "WSM",
          "WST",
          "YEM",
          "ZAF",
          "ZMB",
          "ZWE",
          "CAU"
         ],
         "name": "",
         "type": "choropleth",
         "z": {
          "bdata": "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",
          "dtype": "f8"
         }
        }
       ],
       "layout": {
        "coloraxis": {
         "colorbar": {
          "title": {
           "text": "AvgTone"
          }
         },
         "colorscale": [
          [
           0,
           "#0d0887"
          ],
          [
           0.1111111111111111,
           "#46039f"
          ],
          [
           0.2222222222222222,
           "#7201a8"
          ],
          [
           0.3333333333333333,
           "#9c179e"
          ],
          [
           0.4444444444444444,
           "#bd3786"
          ],
          [
           0.5555555555555556,
           "#d8576b"
          ],
          [
           0.6666666666666666,
           "#ed7953"
          ],
          [
           0.7777777777777778,
           "#fb9f3a"
          ],
          [
           0.8888888888888888,
           "#fdca26"
          ],
          [
           1,
           "#f0f921"
          ]
         ]
        },
        "geo": {
         "center": {},
         "domain": {
          "x": [
           0,
           1
          ],
          "y": [
           0,
           1
          ]
         }
        },
        "legend": {
         "tracegroupgap": 0
        },
        "template": {
         "data": {
          "bar": [
           {
            "error_x": {
             "color": "#2a3f5f"
            },
            "error_y": {
             "color": "#2a3f5f"
            },
            "marker": {
             "line": {
              "color": "#E5ECF6",
              "width": 0.5
             },
             "pattern": {
              "fillmode": "overlay",
              "size": 10,
              "solidity": 0.2
             }
            },
            "type": "bar"
           }
          ],
          "barpolar": [
           {
            "marker": {
             "line": {
              "color": "#E5ECF6",
              "width": 0.5
             },
             "pattern": {
              "fillmode": "overlay",
              "size": 10,
              "solidity": 0.2
             }
            },
            "type": "barpolar"
           }
          ],
          "carpet": [
           {
            "aaxis": {
             "endlinecolor": "#2a3f5f",
             "gridcolor": "white",
             "linecolor": "white",
             "minorgridcolor": "white",
             "startlinecolor": "#2a3f5f"
            },
            "baxis": {
             "endlinecolor": "#2a3f5f",
             "gridcolor": "white",
             "linecolor": "white",
             "minorgridcolor": "white",
             "startlinecolor": "#2a3f5f"
            },
            "type": "carpet"
           }
          ],
          "choropleth": [
           {
            "colorbar": {
             "outlinewidth": 0,
             "ticks": ""
            },
            "type": "choropleth"
           }
          ],
          "contour": [
           {
            "colorbar": {
             "outlinewidth": 0,
             "ticks": ""
            },
            "colorscale": [
             [
              0,
              "#0d0887"
             ],
             [
              0.1111111111111111,
              "#46039f"
             ],
             [
              0.2222222222222222,
              "#7201a8"
             ],
             [
              0.3333333333333333,
              "#9c179e"
             ],
             [
              0.4444444444444444,
              "#bd3786"
             ],
             [
              0.5555555555555556,
              "#d8576b"
             ],
             [
              0.6666666666666666,
              "#ed7953"
             ],
             [
              0.7777777777777778,
              "#fb9f3a"
             ],
             [
              0.8888888888888888,
              "#fdca26"
             ],
             [
              1,
              "#f0f921"
             ]
            ],
            "type": "contour"
           }
          ],
          "contourcarpet": [
           {
            "colorbar": {
             "outlinewidth": 0,
             "ticks": ""
            },
            "type": "contourcarpet"
           }
          ],
          "heatmap": [
           {
            "colorbar": {
             "outlinewidth": 0,
             "ticks": ""
            },
            "colorscale": [
             [
              0,
              "#0d0887"
             ],
             [
              0.1111111111111111,
              "#46039f"
             ],
             [
              0.2222222222222222,
              "#7201a8"
             ],
             [
              0.3333333333333333,
              "#9c179e"
             ],
             [
              0.4444444444444444,
              "#bd3786"
             ],
             [
              0.5555555555555556,
              "#d8576b"
             ],
             [
              0.6666666666666666,
              "#ed7953"
             ],
             [
              0.7777777777777778,
              "#fb9f3a"
             ],
             [
              0.8888888888888888,
              "#fdca26"
             ],
             [
              1,
              "#f0f921"
             ]
            ],
            "type": "heatmap"
           }
          ],
          "histogram": [
           {
            "marker": {
             "pattern": {
              "fillmode": "overlay",
              "size": 10,
              "solidity": 0.2
             }
            },
            "type": "histogram"
           }
          ],
          "histogram2d": [
           {
            "colorbar": {
             "outlinewidth": 0,
             "ticks": ""
            },
            "colorscale": [
             [
              0,
              "#0d0887"
             ],
             [
              0.1111111111111111,
              "#46039f"
             ],
             [
              0.2222222222222222,
              "#7201a8"
             ],
             [
              0.3333333333333333,
              "#9c179e"
             ],
             [
              0.4444444444444444,
              "#bd3786"
             ],
             [
              0.5555555555555556,
              "#d8576b"
             ],
             [
              0.6666666666666666,
              "#ed7953"
             ],
             [
              0.7777777777777778,
              "#fb9f3a"
             ],
             [
              0.8888888888888888,
              "#fdca26"
             ],
             [
              1,
              "#f0f921"
             ]
            ],
            "type": "histogram2d"
           }
          ],
          "histogram2dcontour": [
           {
            "colorbar": {
             "outlinewidth": 0,
             "ticks": ""
            },
            "colorscale": [
             [
              0,
              "#0d0887"
             ],
             [
              0.1111111111111111,
              "#46039f"
             ],
             [
              0.2222222222222222,
              "#7201a8"
             ],
             [
              0.3333333333333333,
              "#9c179e"
             ],
             [
              0.4444444444444444,
              "#bd3786"
             ],
             [
              0.5555555555555556,
              "#d8576b"
             ],
             [
              0.6666666666666666,
              "#ed7953"
             ],
             [
              0.7777777777777778,
              "#fb9f3a"
             ],
             [
              0.8888888888888888,
              "#fdca26"
             ],
             [
              1,
              "#f0f921"
             ]
            ],
            "type": "histogram2dcontour"
           }
          ],
          "mesh3d": [
           {
            "colorbar": {
             "outlinewidth": 0,
             "ticks": ""
            },
            "type": "mesh3d"
           }
          ],
          "parcoords": [
           {
            "line": {
             "colorbar": {
              "outlinewidth": 0,
              "ticks": ""
             }
            },
            "type": "parcoords"
           }
          ],
          "pie": [
           {
            "automargin": true,
            "type": "pie"
           }
          ],
          "scatter": [
           {
            "fillpattern": {
             "fillmode": "overlay",
             "size": 10,
             "solidity": 0.2
            },
            "type": "scatter"
           }
          ],
          "scatter3d": [
           {
            "line": {
             "colorbar": {
              "outlinewidth": 0,
              "ticks": ""
             }
            },
            "marker": {
             "colorbar": {
              "outlinewidth": 0,
              "ticks": ""
             }
            },
            "type": "scatter3d"
           }
          ],
          "scattercarpet": [
           {
            "marker": {
             "colorbar": {
              "outlinewidth": 0,
              "ticks": ""
             }
            },
            "type": "scattercarpet"
           }
          ],
          "scattergeo": [
           {
            "marker": {
             "colorbar": {
              "outlinewidth": 0,
              "ticks": ""
             }
            },
            "type": "scattergeo"
           }
          ],
          "scattergl": [
           {
            "marker": {
             "colorbar": {
              "outlinewidth": 0,
              "ticks": ""
             }
            },
            "type": "scattergl"
           }
          ],
          "scattermap": [
           {
            "marker": {
             "colorbar": {
              "outlinewidth": 0,
              "ticks": ""
             }
            },
            "type": "scattermap"
           }
          ],
          "scattermapbox": [
           {
            "marker": {
             "colorbar": {
              "outlinewidth": 0,
              "ticks": ""
             }
            },
            "type": "scattermapbox"
           }
          ],
          "scatterpolar": [
           {
            "marker": {
             "colorbar": {
              "outlinewidth": 0,
              "ticks": ""
             }
            },
            "type": "scatterpolar"
           }
          ],
          "scatterpolargl": [
           {
            "marker": {
             "colorbar": {
              "outlinewidth": 0,
              "ticks": ""
             }
            },
            "type": "scatterpolargl"
           }
          ],
          "scatterternary": [
           {
            "marker": {
             "colorbar": {
              "outlinewidth": 0,
              "ticks": ""
             }
            },
            "type": "scatterternary"
           }
          ],
          "surface": [
           {
            "colorbar": {
             "outlinewidth": 0,
             "ticks": ""
            },
            "colorscale": [
             [
              0,
              "#0d0887"
             ],
             [
              0.1111111111111111,
              "#46039f"
             ],
             [
              0.2222222222222222,
              "#7201a8"
             ],
             [
              0.3333333333333333,
              "#9c179e"
             ],
             [
              0.4444444444444444,
              "#bd3786"
             ],
             [
              0.5555555555555556,
              "#d8576b"
             ],
             [
              0.6666666666666666,
              "#ed7953"
             ],
             [
              0.7777777777777778,
              "#fb9f3a"
             ],
             [
              0.8888888888888888,
              "#fdca26"
             ],
             [
              1,
              "#f0f921"
             ]
            ],
            "type": "surface"
           }
          ],
          "table": [
           {
            "cells": {
             "fill": {
              "color": "#EBF0F8"
             },
             "line": {
              "color": "white"
             }
            },
            "header": {
             "fill": {
              "color": "#C8D4E3"
             },
             "line": {
              "color": "white"
             }
            },
            "type": "table"
           }
          ]
         },
         "layout": {
          "annotationdefaults": {
           "arrowcolor": "#2a3f5f",
           "arrowhead": 0,
           "arrowwidth": 1
          },
          "autotypenumbers": "strict",
          "coloraxis": {
           "colorbar": {
            "outlinewidth": 0,
            "ticks": ""
           }
          },
          "colorscale": {
           "diverging": [
            [
             0,
             "#8e0152"
            ],
            [
             0.1,
             "#c51b7d"
            ],
            [
             0.2,
             "#de77ae"
            ],
            [
             0.3,
             "#f1b6da"
            ],
            [
             0.4,
             "#fde0ef"
            ],
            [
             0.5,
             "#f7f7f7"
            ],
            [
             0.6,
             "#e6f5d0"
            ],
            [
             0.7,
             "#b8e186"
            ],
            [
             0.8,
             "#7fbc41"
            ],
            [
             0.9,
             "#4d9221"
            ],
            [
             1,
             "#276419"
            ]
           ],
           "sequential": [
            [
             0,
             "#0d0887"
            ],
            [
             0.1111111111111111,
             "#46039f"
            ],
            [
             0.2222222222222222,
             "#7201a8"
            ],
            [
             0.3333333333333333,
             "#9c179e"
            ],
            [
             0.4444444444444444,
             "#bd3786"
            ],
            [
             0.5555555555555556,
             "#d8576b"
            ],
            [
             0.6666666666666666,
             "#ed7953"
            ],
            [
             0.7777777777777778,
             "#fb9f3a"
            ],
            [
             0.8888888888888888,
             "#fdca26"
            ],
            [
             1,
             "#f0f921"
            ]
           ],
           "sequentialminus": [
            [
             0,
             "#0d0887"
            ],
            [
             0.1111111111111111,
             "#46039f"
            ],
            [
             0.2222222222222222,
             "#7201a8"
            ],
            [
             0.3333333333333333,
             "#9c179e"
            ],
            [
             0.4444444444444444,
             "#bd3786"
            ],
            [
             0.5555555555555556,
             "#d8576b"
            ],
            [
             0.6666666666666666,
             "#ed7953"
            ],
            [
             0.7777777777777778,
             "#fb9f3a"
            ],
            [
             0.8888888888888888,
             "#fdca26"
            ],
            [
             1,
             "#f0f921"
            ]
           ]
          },
          "colorway": [
           "#636efa",
           "#EF553B",
           "#00cc96",
           "#ab63fa",
           "#FFA15A",
           "#19d3f3",
           "#FF6692",
           "#B6E880",
           "#FF97FF",
           "#FECB52"
          ],
          "font": {
           "color": "#2a3f5f"
          },
          "geo": {
           "bgcolor": "white",
           "lakecolor": "white",
           "landcolor": "#E5ECF6",
           "showlakes": true,
           "showland": true,
           "subunitcolor": "white"
          },
          "hoverlabel": {
           "align": "left"
          },
          "hovermode": "closest",
          "mapbox": {
           "style": "light"
          },
          "paper_bgcolor": "white",
          "plot_bgcolor": "#E5ECF6",
          "polar": {
           "angularaxis": {
            "gridcolor": "white",
            "linecolor": "white",
            "ticks": ""
           },
           "bgcolor": "#E5ECF6",
           "radialaxis": {
            "gridcolor": "white",
            "linecolor": "white",
            "ticks": ""
           }
          },
          "scene": {
           "xaxis": {
            "backgroundcolor": "#E5ECF6",
            "gridcolor": "white",
            "gridwidth": 2,
            "linecolor": "white",
            "showbackground": true,
            "ticks": "",
            "zerolinecolor": "white"
           },
           "yaxis": {
            "backgroundcolor": "#E5ECF6",
            "gridcolor": "white",
            "gridwidth": 2,
            "linecolor": "white",
            "showbackground": true,
            "ticks": "",
            "zerolinecolor": "white"
           },
           "zaxis": {
            "backgroundcolor": "#E5ECF6",
            "gridcolor": "white",
            "gridwidth": 2,
            "linecolor": "white",
            "showbackground": true,
            "ticks": "",
            "zerolinecolor": "white"
           }
          },
          "shapedefaults": {
           "line": {
            "color": "#2a3f5f"
           }
          },
          "ternary": {
           "aaxis": {
            "gridcolor": "white",
            "linecolor": "white",
            "ticks": ""
           },
           "baxis": {
            "gridcolor": "white",
            "linecolor": "white",
            "ticks": ""
           },
           "bgcolor": "#E5ECF6",
           "caxis": {
            "gridcolor": "white",
            "linecolor": "white",
            "ticks": ""
           }
          },
          "title": {
           "x": 0.05
          },
          "xaxis": {
           "automargin": true,
           "gridcolor": "white",
           "linecolor": "white",
           "ticks": "",
           "title": {
            "standoff": 15
           },
           "zerolinecolor": "white",
           "zerolinewidth": 2
          },
          "yaxis": {
           "automargin": true,
           "gridcolor": "white",
           "linecolor": "white",
           "ticks": "",
           "title": {
            "standoff": 15
           },
           "zerolinecolor": "white",
           "zerolinewidth": 2
          }
         }
        },
        "title": {
         "text": "Actor1CountryCode - AvgTone (mean)"
        }
       }
      }
     },
     "metadata": {},
     "output_type": "display_data"
    },
    {
     "name": "stdout",
     "output_type": "stream",
     "text": [
      "Visualization processes completed.\n"
     ]
    }
   ],
   "source": [
    "import pandas as pd\n",
    "import numpy as np\n",
    "import matplotlib.pyplot as plt\n",
    "import matplotlib.font_manager as fm\n",
    "import seaborn as sns\n",
    "import plotly.express as px\n",
    "import dask.dataframe as dd\n",
    "from dask.diagnostics import ProgressBar\n",
    "from wordcloud import WordCloud\n",
    "import re\n",
    "from collections import Counter\n",
    "from pathlib import Path\n",
    "from datetime import datetime\n",
    "\n",
    "try:\n",
    "    import japanize_matplotlib\n",
    "except ImportError:\n",
    "    pass\n",
    "\n",
    "plt.rcParams['axes.unicode_minus'] = False\n",
    "\n",
    "wordcloud_font_path = None\n",
    "try:\n",
    "    font_name_for_wc = 'IPAexGothic'\n",
    "    font_prop_wc = fm.FontProperties(family=font_name_for_wc)\n",
    "    found_path = fm.findfont(font_prop_wc, fallback_to_default=False)\n",
    "    if found_path and Path(found_path).exists():\n",
    "        wordcloud_font_path = found_path\n",
    "except Exception:\n",
    "    pass\n",
    "\n",
    "\n",
    "def load_gdelt_data_dask(gdelt_path_str, target_start_date=None, target_end_date=None, columns_to_load=None):\n",
    "    ddf_gdelt = None\n",
    "    gdelt_path = Path(gdelt_path_str)\n",
    "\n",
    "    if not (gdelt_path.is_dir() or (gdelt_path.is_file() and gdelt_path.suffix.lower() == '.parquet')):\n",
    "        return None\n",
    "\n",
    "    try:\n",
    "        filters = []\n",
    "        if target_start_date:\n",
    "            filters.append(('SQLDATE', '>=', pd.Timestamp(target_start_date)))\n",
    "        if target_end_date:\n",
    "            filters.append(('SQLDATE', '<=', pd.Timestamp(target_end_date)))\n",
    "        \n",
    "        ddf_gdelt = dd.read_parquet(\n",
    "            gdelt_path, \n",
    "            columns=columns_to_load,\n",
    "            filters=filters if filters else None,\n",
    "            engine='pyarrow' \n",
    "        )\n",
    "\n",
    "        with ProgressBar():\n",
    "            is_empty = ddf_gdelt.map_partitions(len).compute().sum() == 0\n",
    "        \n",
    "        if is_empty:\n",
    "            return None\n",
    "\n",
    "        if 'SQLDATE' in ddf_gdelt.columns:\n",
    "            if not pd.api.types.is_datetime64_any_dtype(ddf_gdelt['SQLDATE'].dtype):\n",
    "                ddf_gdelt['SQLDATE'] = dd.to_datetime(ddf_gdelt['SQLDATE'], errors='coerce')\n",
    "\n",
    "        numeric_cols_meta = {\n",
    "            'NumMentions': 'Int32', 'AvgTone': 'float32', 'GoldsteinScale': 'float32',\n",
    "            'ActionGeo_Lat': 'float32', 'ActionGeo_Long': 'float32', 'QuadClass': 'Int8'\n",
    "        }\n",
    "        for col, dtype in numeric_cols_meta.items():\n",
    "            if col in ddf_gdelt.columns:\n",
    "                if ddf_gdelt[col].dtype == 'object': \n",
    "                    ddf_gdelt[col] = dd.to_numeric(ddf_gdelt[col], errors='coerce')\n",
    "                \n",
    "                if dtype in ['Int32', 'Int8'] and col == 'NumMentions': \n",
    "                     ddf_gdelt[col] = ddf_gdelt[col].fillna(0) \n",
    "                \n",
    "                if ddf_gdelt[col].dtype.name.lower() != dtype.lower():\n",
    "                    try:\n",
    "                        ddf_gdelt[col] = ddf_gdelt[col].astype(dtype)\n",
    "                    except Exception: \n",
    "                        pass\n",
    "        \n",
    "        categorical_cols = [\n",
    "            'Actor1CountryCode', 'Actor2CountryCode', 'EventRootCode', 'EventCodeFull', \n",
    "            'Actor1Type1Code', 'Actor2Type1Code', 'ActionGeo_CountryCode', 'ActionGeo_ADM1Code',\n",
    "            'Actor1Name', 'Actor2Name', 'ActionGeo_Fullname', 'SOURCEURL', 'GLOBALEVENTID'\n",
    "        ]\n",
    "        for col in categorical_cols:\n",
    "            if col in ddf_gdelt.columns:\n",
    "                ddf_gdelt[col] = ddf_gdelt[col].astype(str).fillna('')\n",
    "\n",
    "    except Exception:\n",
    "        return None\n",
    "    return ddf_gdelt\n",
    "\n",
    "\n",
    "def plot_gdelt_choropleth_plotly_dask(ddf_gdelt, column='NumMentions', agg_func='sum', actor_country_col='Actor1CountryCode'):\n",
    "    if ddf_gdelt is None or ddf_gdelt.npartitions == 0 or actor_country_col not in ddf_gdelt.columns or column not in ddf_gdelt.columns:\n",
    "        return\n",
    "    ddf_gdelt_filtered = ddf_gdelt[ddf_gdelt[actor_country_col].astype(str).str.len() == 3].copy() \n",
    "    with ProgressBar(): \n",
    "        num_filtered_rows = ddf_gdelt_filtered.map_partitions(len).compute().sum()\n",
    "    \n",
    "    if num_filtered_rows == 0: return\n",
    "\n",
    "    if agg_func == 'sum':\n",
    "        country_data_dask = ddf_gdelt_filtered.groupby(actor_country_col)[column].sum()\n",
    "    elif agg_func == 'mean':\n",
    "        country_data_dask = ddf_gdelt_filtered.groupby(actor_country_col)[column].mean()\n",
    "    elif agg_func == 'max':\n",
    "        country_data_dask = ddf_gdelt_filtered.groupby(actor_country_col)[column].max()\n",
    "    else: \n",
    "        return\n",
    "\n",
    "    with ProgressBar(): \n",
    "        country_data_pd = country_data_dask.compute().reset_index()\n",
    "\n",
    "    if country_data_pd.empty: return\n",
    "    fig = px.choropleth(country_data_pd, locations=actor_country_col, color=column, hover_name=actor_country_col,\n",
    "                        color_continuous_scale=px.colors.sequential.Plasma, title=f'{actor_country_col} - {column} ({agg_func})')\n",
    "    fig.show()\n",
    "\n",
    "\n",
    "def plot_gdelt_timeseries_matplotlib_dask(ddf_gdelt, date_col='SQLDATE', value_col='NumMentions', agg_func='sum'):\n",
    "    if ddf_gdelt is None or ddf_gdelt.npartitions == 0 or date_col not in ddf_gdelt.columns or value_col not in ddf_gdelt.columns:\n",
    "        return\n",
    "    ddf_temp = ddf_gdelt[[date_col, value_col]].copy()\n",
    "    ddf_temp = ddf_temp.dropna(subset=[date_col]) \n",
    "\n",
    "    if not pd.api.types.is_datetime64_any_dtype(ddf_temp[date_col].dtype):\n",
    "        ddf_temp[date_col] = dd.to_datetime(ddf_temp[date_col], errors='coerce')\n",
    "        ddf_temp = ddf_temp.dropna(subset=[date_col])\n",
    "\n",
    "    ddf_indexed = ddf_temp.set_index(date_col, sorted=True)\n",
    "    try:\n",
    "        if agg_func == 'sum': \n",
    "            time_data_dask = ddf_indexed[value_col].resample('M').sum()\n",
    "        elif agg_func == 'mean': \n",
    "            time_data_dask = ddf_indexed[value_col].resample('M').mean()\n",
    "        elif agg_func == 'count': \n",
    "            time_data_dask = ddf_indexed[value_col].resample('M').count()\n",
    "        else: return\n",
    "        with ProgressBar(): \n",
    "            time_data_pd = time_data_dask.compute()\n",
    "    except Exception: \n",
    "        return\n",
    "\n",
    "    if time_data_pd.empty: return\n",
    "    plt.figure(figsize=(12, 6))\n",
    "    time_data_pd.plot(kind='line')\n",
    "    plt.title(f'{value_col} Time Series ({agg_func})')\n",
    "    plt.xlabel('Date')\n",
    "    plt.ylabel(value_col)\n",
    "    plt.grid(True)\n",
    "    plt.tight_layout()\n",
    "    plt.show()\n",
    "\n",
    "\n",
    "def plot_gdelt_type_heatmap_seaborn_dask(ddf_gdelt, date_col='SQLDATE', type_col='EventRootCode', value_col='NumMentions'):\n",
    "    if ddf_gdelt is None or ddf_gdelt.npartitions == 0 or date_col not in ddf_gdelt.columns or type_col not in ddf_gdelt.columns or value_col not in ddf_gdelt.columns:\n",
    "        return\n",
    "    ddf_temp = ddf_gdelt[[date_col, type_col, value_col]].copy()\n",
    "    ddf_temp = ddf_temp.dropna(subset=[date_col])\n",
    "\n",
    "    if not pd.api.types.is_datetime64_any_dtype(ddf_temp[date_col].dtype):\n",
    "        ddf_temp[date_col] = dd.to_datetime(ddf_temp[date_col], errors='coerce')\n",
    "        ddf_temp = ddf_temp.dropna(subset=[date_col])\n",
    "\n",
    "    ddf_temp = ddf_temp.assign(year_month=ddf_temp[date_col].dt.to_period('M'))\n",
    "    \n",
    "    heatmap_data_dask = ddf_temp.groupby(['year_month', type_col])[value_col].sum()\n",
    "    with ProgressBar(): \n",
    "        heatmap_data_pd = heatmap_data_dask.compute()\n",
    "\n",
    "    if heatmap_data_pd.empty: return\n",
    "    try:\n",
    "        heatmap_data_unstacked = heatmap_data_pd.unstack(level=type_col, fill_value=0).astype(float)\n",
    "    except Exception: \n",
    "        return\n",
    "    if heatmap_data_unstacked.empty: return\n",
    "    plt.figure(figsize=(15, 5))\n",
    "    sns.heatmap(heatmap_data_unstacked.T, cmap=\"YlGnBu\", annot=False)\n",
    "    plt.title(f'{value_col} Heatmap by Event Type and Month')\n",
    "    plt.xlabel('Month')\n",
    "    plt.ylabel('Event Type')\n",
    "    plt.tight_layout()\n",
    "    plt.show()\n",
    "\n",
    "\n",
    "if __name__ == '__main__':\n",
    "    gdelt_collection_start_date = datetime(2022, 4, 1)\n",
    "    gdelt_collection_end_date   = datetime(2025, 6, 9)\n",
    "\n",
    "    gdelt_output_dir_name = f\"gdelt_events_{gdelt_collection_start_date.strftime('%Y%m%d')}_{gdelt_collection_end_date.strftime('%Y%m%d')}.parquet\"\n",
    "    base_output_dir = Path(\"data\")\n",
    "    GDELT_PARQUET_PATH_DASK = base_output_dir / gdelt_output_dir_name\n",
    "    \n",
    "    NETFLOW_PARQUET_PATH = 'netflow_hourly.parquet' \n",
    "    TOKENS_PARQUET_PATH = 'event_tokens_hourly.parquet'   \n",
    "\n",
    "    gdelt_columns_to_load = [\n",
    "        \"SQLDATE\", \"NumMentions\", \"GoldsteinScale\", \"EventRootCode\", \n",
    "        \"AvgTone\", \"QuadClass\", \"Actor1CountryCode\", \"ActionGeo_CountryCode\",\n",
    "    ]\n",
    "\n",
    "    ddf_gdelt_loaded = load_gdelt_data_dask(\n",
    "        str(GDELT_PARQUET_PATH_DASK), \n",
    "        target_start_date=gdelt_collection_start_date, \n",
    "        target_end_date=gdelt_collection_end_date,\n",
    "        columns_to_load=gdelt_columns_to_load\n",
    "    )\n",
    "\n",
    "    ddf_gdelt_for_plotting = ddf_gdelt_loaded \n",
    "\n",
    "    if ddf_gdelt_for_plotting is not None and ddf_gdelt_for_plotting.npartitions > 0:\n",
    "        with ProgressBar():\n",
    "            is_ddf_empty = ddf_gdelt_for_plotting.map_partitions(len).compute().sum() == 0\n",
    "        \n",
    "        if not is_ddf_empty:\n",
    "            plot_gdelt_timeseries_matplotlib_dask(ddf_gdelt_for_plotting, date_col='SQLDATE', value_col='NumMentions', agg_func='sum')\n",
    "            plot_gdelt_timeseries_matplotlib_dask(ddf_gdelt_for_plotting, date_col='SQLDATE', value_col='GoldsteinScale', agg_func='mean')\n",
    "            plot_gdelt_type_heatmap_seaborn_dask(ddf_gdelt_for_plotting, date_col='SQLDATE', type_col='EventRootCode', value_col='NumMentions')\n",
    "            plot_gdelt_choropleth_plotly_dask(ddf_gdelt_for_plotting, column='NumMentions', agg_func='sum', actor_country_col='Actor1CountryCode')\n",
    "            plot_gdelt_choropleth_plotly_dask(ddf_gdelt_for_plotting, column='AvgTone', agg_func='mean', actor_country_col='Actor1CountryCode')\n",
    "\n",
    "    print(\"Visualization processes completed.\")\n"
   ]
  },
  {
   "cell_type": "markdown",
   "id": "bda80698",
   "metadata": {},
   "source": [
    "## 日中関係のグラフ化"
   ]
  },
  {
   "cell_type": "code",
   "execution_count": 8,
   "id": "799ce700",
   "metadata": {},
   "outputs": [
    {
     "name": "stdout",
     "output_type": "stream",
     "text": [
      "[                                        ] | 0% Completed | 6.29 s ms\n"
     ]
    },
    {
     "ename": "KeyboardInterrupt",
     "evalue": "",
     "output_type": "error",
     "traceback": [
      "\u001b[31m---------------------------------------------------------------------------\u001b[39m",
      "\u001b[31mKeyboardInterrupt\u001b[39m                         Traceback (most recent call last)",
      "\u001b[36mCell\u001b[39m\u001b[36m \u001b[39m\u001b[32mIn[8]\u001b[39m\u001b[32m, line 271\u001b[39m\n\u001b[32m    268\u001b[39m ddf_jpn_chn_filtered = filter_jpn_chn_events(ddf_gdelt_period_filtered)\n\u001b[32m    270\u001b[39m \u001b[38;5;28;01mwith\u001b[39;00m ProgressBar():\n\u001b[32m--> \u001b[39m\u001b[32m271\u001b[39m     ddf_jpn_chn_persisted = \u001b[43mddf_jpn_chn_filtered\u001b[49m\u001b[43m.\u001b[49m\u001b[43mpersist\u001b[49m\u001b[43m(\u001b[49m\u001b[43m)\u001b[49m\n\u001b[32m    273\u001b[39m \u001b[38;5;28;01mwith\u001b[39;00m ProgressBar():\n\u001b[32m    274\u001b[39m     row_count = \u001b[38;5;28mlen\u001b[39m(ddf_jpn_chn_persisted)\n",
      "\u001b[36mFile \u001b[39m\u001b[32m~/miniconda3/lib/python3.12/site-packages/dask/dataframe/dask_expr/_collection.py:460\u001b[39m, in \u001b[36mFrameBase.persist\u001b[39m\u001b[34m(self, fuse, **kwargs)\u001b[39m\n\u001b[32m    458\u001b[39m \u001b[38;5;28;01mdef\u001b[39;00m \u001b[34mpersist\u001b[39m(\u001b[38;5;28mself\u001b[39m, fuse=\u001b[38;5;28;01mTrue\u001b[39;00m, **kwargs):\n\u001b[32m    459\u001b[39m     out = \u001b[38;5;28mself\u001b[39m.optimize(fuse=fuse)\n\u001b[32m--> \u001b[39m\u001b[32m460\u001b[39m     \u001b[38;5;28;01mreturn\u001b[39;00m \u001b[43mDaskMethodsMixin\u001b[49m\u001b[43m.\u001b[49m\u001b[43mpersist\u001b[49m\u001b[43m(\u001b[49m\u001b[43mout\u001b[49m\u001b[43m,\u001b[49m\u001b[43m \u001b[49m\u001b[43m*\u001b[49m\u001b[43m*\u001b[49m\u001b[43mkwargs\u001b[49m\u001b[43m)\u001b[49m\n",
      "\u001b[36mFile \u001b[39m\u001b[32m~/miniconda3/lib/python3.12/site-packages/dask/base.py:346\u001b[39m, in \u001b[36mDaskMethodsMixin.persist\u001b[39m\u001b[34m(self, **kwargs)\u001b[39m\n\u001b[32m    307\u001b[39m \u001b[38;5;28;01mdef\u001b[39;00m \u001b[34mpersist\u001b[39m(\u001b[38;5;28mself\u001b[39m, **kwargs):\n\u001b[32m    308\u001b[39m \u001b[38;5;250m    \u001b[39m\u001b[33;03m\"\"\"Persist this dask collection into memory\u001b[39;00m\n\u001b[32m    309\u001b[39m \n\u001b[32m    310\u001b[39m \u001b[33;03m    This turns a lazy Dask collection into a Dask collection with the same\u001b[39;00m\n\u001b[32m   (...)\u001b[39m\u001b[32m    344\u001b[39m \u001b[33;03m    dask.persist\u001b[39;00m\n\u001b[32m    345\u001b[39m \u001b[33;03m    \"\"\"\u001b[39;00m\n\u001b[32m--> \u001b[39m\u001b[32m346\u001b[39m     (result,) = \u001b[43mpersist\u001b[49m\u001b[43m(\u001b[49m\u001b[38;5;28;43mself\u001b[39;49m\u001b[43m,\u001b[49m\u001b[43m \u001b[49m\u001b[43mtraverse\u001b[49m\u001b[43m=\u001b[49m\u001b[38;5;28;43;01mFalse\u001b[39;49;00m\u001b[43m,\u001b[49m\u001b[43m \u001b[49m\u001b[43m*\u001b[49m\u001b[43m*\u001b[49m\u001b[43mkwargs\u001b[49m\u001b[43m)\u001b[49m\n\u001b[32m    347\u001b[39m     \u001b[38;5;28;01mreturn\u001b[39;00m result\n",
      "\u001b[36mFile \u001b[39m\u001b[32m~/miniconda3/lib/python3.12/site-packages/dask/base.py:1021\u001b[39m, in \u001b[36mpersist\u001b[39m\u001b[34m(traverse, optimize_graph, scheduler, *args, **kwargs)\u001b[39m\n\u001b[32m   1018\u001b[39m     postpersists.append((rebuild, a_keys, state))\n\u001b[32m   1020\u001b[39m \u001b[38;5;28;01mwith\u001b[39;00m shorten_traceback():\n\u001b[32m-> \u001b[39m\u001b[32m1021\u001b[39m     results = \u001b[43mschedule\u001b[49m\u001b[43m(\u001b[49m\u001b[43mexpr\u001b[49m\u001b[43m,\u001b[49m\u001b[43m \u001b[49m\u001b[43mkeys\u001b[49m\u001b[43m,\u001b[49m\u001b[43m \u001b[49m\u001b[43m*\u001b[49m\u001b[43m*\u001b[49m\u001b[43mkwargs\u001b[49m\u001b[43m)\u001b[49m\n\u001b[32m   1023\u001b[39m d = \u001b[38;5;28mdict\u001b[39m(\u001b[38;5;28mzip\u001b[39m(keys, results))\n\u001b[32m   1024\u001b[39m results2 = [r({k: d[k] \u001b[38;5;28;01mfor\u001b[39;00m k \u001b[38;5;129;01min\u001b[39;00m ks}, *s) \u001b[38;5;28;01mfor\u001b[39;00m r, ks, s \u001b[38;5;129;01min\u001b[39;00m postpersists]\n",
      "\u001b[36mFile \u001b[39m\u001b[32m~/miniconda3/lib/python3.12/queue.py:171\u001b[39m, in \u001b[36mQueue.get\u001b[39m\u001b[34m(self, block, timeout)\u001b[39m\n\u001b[32m    169\u001b[39m \u001b[38;5;28;01melif\u001b[39;00m timeout \u001b[38;5;129;01mis\u001b[39;00m \u001b[38;5;28;01mNone\u001b[39;00m:\n\u001b[32m    170\u001b[39m     \u001b[38;5;28;01mwhile\u001b[39;00m \u001b[38;5;129;01mnot\u001b[39;00m \u001b[38;5;28mself\u001b[39m._qsize():\n\u001b[32m--> \u001b[39m\u001b[32m171\u001b[39m         \u001b[38;5;28;43mself\u001b[39;49m\u001b[43m.\u001b[49m\u001b[43mnot_empty\u001b[49m\u001b[43m.\u001b[49m\u001b[43mwait\u001b[49m\u001b[43m(\u001b[49m\u001b[43m)\u001b[49m\n\u001b[32m    172\u001b[39m \u001b[38;5;28;01melif\u001b[39;00m timeout < \u001b[32m0\u001b[39m:\n\u001b[32m    173\u001b[39m     \u001b[38;5;28;01mraise\u001b[39;00m \u001b[38;5;167;01mValueError\u001b[39;00m(\u001b[33m\"\u001b[39m\u001b[33m'\u001b[39m\u001b[33mtimeout\u001b[39m\u001b[33m'\u001b[39m\u001b[33m must be a non-negative number\u001b[39m\u001b[33m\"\u001b[39m)\n",
      "\u001b[36mFile \u001b[39m\u001b[32m~/miniconda3/lib/python3.12/threading.py:355\u001b[39m, in \u001b[36mCondition.wait\u001b[39m\u001b[34m(self, timeout)\u001b[39m\n\u001b[32m    353\u001b[39m \u001b[38;5;28;01mtry\u001b[39;00m:    \u001b[38;5;66;03m# restore state no matter what (e.g., KeyboardInterrupt)\u001b[39;00m\n\u001b[32m    354\u001b[39m     \u001b[38;5;28;01mif\u001b[39;00m timeout \u001b[38;5;129;01mis\u001b[39;00m \u001b[38;5;28;01mNone\u001b[39;00m:\n\u001b[32m--> \u001b[39m\u001b[32m355\u001b[39m         \u001b[43mwaiter\u001b[49m\u001b[43m.\u001b[49m\u001b[43macquire\u001b[49m\u001b[43m(\u001b[49m\u001b[43m)\u001b[49m\n\u001b[32m    356\u001b[39m         gotit = \u001b[38;5;28;01mTrue\u001b[39;00m\n\u001b[32m    357\u001b[39m     \u001b[38;5;28;01melse\u001b[39;00m:\n",
      "\u001b[31mKeyboardInterrupt\u001b[39m: "
     ]
    }
   ],
   "source": [
    "import pandas as pd\n",
    "import numpy as np\n",
    "import matplotlib.pyplot as plt\n",
    "import matplotlib.font_manager as fm\n",
    "import seaborn as sns\n",
    "import plotly.express as px\n",
    "from pathlib import Path\n",
    "from datetime import datetime\n",
    "import dask.dataframe as dd\n",
    "from dask.diagnostics import ProgressBar\n",
    "import matplotlib.dates as mdates\n",
    "\n",
    "plt.style.use('seaborn-v0_8-whitegrid')\n",
    "plt.rcParams['axes.unicode_minus'] = False \n",
    "\n",
    "CAMEO_ROOT_CODE_MAP = {\n",
    "    '01': 'Make Public Statement',\n",
    "    '02': 'Appeal',\n",
    "    '03': 'Express Intent to Cooperate',\n",
    "    '04': 'Consult',\n",
    "    '05': 'Engage in Diplomatic Cooperation',\n",
    "    '06': 'Engage in Material Cooperation',\n",
    "    '07': 'Provide Aid',\n",
    "    '08': 'Yield',\n",
    "    '09': 'Investigate',\n",
    "    '10': 'Demand',\n",
    "    '11': 'Disapprove',\n",
    "    '12': 'Reject',\n",
    "    '13': 'Threaten',\n",
    "    '14': 'Protest',\n",
    "    '15': 'Exhibit Force Posture',\n",
    "    '16': 'Reduce Relations',\n",
    "    '17': 'Coerce',\n",
    "    '18': 'Assault',\n",
    "    '19': 'Fight',\n",
    "    '20': 'Use Unconventional Mass Violence'\n",
    "}\n",
    "\n",
    "\n",
    "def load_gdelt_data_dask(gdelt_path_str, columns_to_load=None):\n",
    "    ddf_gdelt = None\n",
    "    gdelt_path = Path(gdelt_path_str)\n",
    "\n",
    "    if not (gdelt_path.is_dir() or (gdelt_path.is_file() and gdelt_path.suffix.lower() == '.parquet')):\n",
    "        return None\n",
    "\n",
    "    try:\n",
    "        ddf_gdelt = dd.read_parquet(\n",
    "            gdelt_path, \n",
    "            columns=columns_to_load,\n",
    "            engine='pyarrow'\n",
    "        )\n",
    "        if 'SQLDATE' in ddf_gdelt.columns and not pd.api.types.is_datetime64_any_dtype(ddf_gdelt['SQLDATE'].dtype):\n",
    "            ddf_gdelt['SQLDATE'] = dd.to_datetime(ddf_gdelt['SQLDATE'], errors='coerce')\n",
    "    except Exception:\n",
    "        return None\n",
    "    return ddf_gdelt\n",
    "\n",
    "\n",
    "def filter_jpn_chn_events(ddf):\n",
    "    jpn_chn_filter = ((ddf['Actor1CountryCode'] == 'JPN') & (ddf['Actor2CountryCode'] == 'CHN')) | \\\n",
    "                     ((ddf['Actor1CountryCode'] == 'CHN') & (ddf['Actor2CountryCode'] == 'JPN'))\n",
    "    return ddf[jpn_chn_filter]\n",
    "\n",
    "def plot_jpn_chn_timeseries(df_jpn_chn):\n",
    "    if not pd.api.types.is_datetime64_any_dtype(df_jpn_chn['SQLDATE'].dtype):\n",
    "        df_jpn_chn['SQLDATE'] = dd.to_datetime(df_jpn_chn['SQLDATE'], errors='coerce')\n",
    "        df_jpn_chn = df_jpn_chn.dropna(subset=['SQLDATE'])\n",
    "\n",
    "    df_jpn_chn_ts = df_jpn_chn.set_index('SQLDATE')\n",
    "    \n",
    "    with ProgressBar():\n",
    "        monthly_avg = df_jpn_chn_ts[['GoldsteinScale', 'AvgTone']].resample('M').mean().compute()\n",
    "    \n",
    "    if monthly_avg.empty:\n",
    "        return\n",
    "\n",
    "    fig, (ax1, ax2) = plt.subplots(2, 1, figsize=(15, 12), sharex=True)\n",
    "    \n",
    "    ax1.plot(monthly_avg.index, monthly_avg['GoldsteinScale'], marker='o', linestyle='-', color='b')\n",
    "    ax1.axhline(0, color='grey', linestyle='--', lw=1)\n",
    "    ax1.set_title('Japan-China Relations: Goldstein Scale (Monthly Avg)')\n",
    "    ax1.set_ylabel('Goldstein Scale\\n(Lower value means more conflict)')\n",
    "    ax1.grid(True)\n",
    "\n",
    "    ax2.plot(monthly_avg.index, monthly_avg['AvgTone'], marker='o', linestyle='-', color='g')\n",
    "    ax2.axhline(0, color='grey', linestyle='--', lw=1)\n",
    "    ax2.set_title('Japan-China Relations: Average News Tone (Monthly Avg)')\n",
    "    ax2.set_ylabel('Average Tone\\n(Lower value means more negative)')\n",
    "    ax2.set_xlabel('Date')\n",
    "    ax2.grid(True)\n",
    "    \n",
    "    ax2.xaxis.set_major_formatter(mdates.DateFormatter('%Y-%m'))\n",
    "    plt.xticks(rotation=45)\n",
    "    plt.tight_layout()\n",
    "    plt.show()\n",
    "\n",
    "def plot_jpn_chn_event_types(df_jpn_chn, top_n=20):\n",
    "    with ProgressBar():\n",
    "        event_counts = df_jpn_chn['EventRootCode'].value_counts().compute().nlargest(top_n)\n",
    "    \n",
    "    if event_counts.empty:\n",
    "        return\n",
    "\n",
    "    event_counts.index = event_counts.index.map(CAMEO_ROOT_CODE_MAP).fillna(event_counts.index)\n",
    "\n",
    "    plt.figure(figsize=(12, 8))\n",
    "    sns.barplot(x=event_counts.values, y=event_counts.index, orient='h', palette='viridis')\n",
    "    plt.title(f'Top {top_n} Event Types between Japan & China (2022/04 - 2025/05)')\n",
    "    plt.xlabel('Number of Events')\n",
    "    plt.ylabel('Event Type')\n",
    "    plt.show()\n",
    "    print(\"For CAMEO event code details, see https://www.gdeltproject.org/data/lookups/CAMEO.eventcodes.txt\")\n",
    "\n",
    "def analyze_jpn_chn_conflict_peaks(df_jpn_chn, n_events=5):\n",
    "    cols_to_show = ['SQLDATE', 'Actor1Name', 'Actor2Name', 'GoldsteinScale', 'AvgTone', 'EventCodeFull', 'EventRootCode', 'SOURCEURL']\n",
    "    available_cols = [col for col in cols_to_show if col in df_jpn_chn.columns]\n",
    "    \n",
    "    if 'GoldsteinScale' not in available_cols:\n",
    "        return\n",
    "    \n",
    "    with ProgressBar():\n",
    "        most_conflict = df_jpn_chn[available_cols].nsmallest(n_events, 'GoldsteinScale').compute()\n",
    "    \n",
    "    print(f\"\\n--- Top {n_events} Most Conflictual Events ---\")\n",
    "    if not most_conflict.empty:\n",
    "        for _, row in most_conflict.iterrows():\n",
    "            print(f\"Date: {row['SQLDATE'].strftime('%Y-%m-%d')}\")\n",
    "            if 'Actor1Name' in row and 'Actor2Name' in row:\n",
    "                print(f\"  Actors: {row['Actor1Name']} and {row['Actor2Name']}\")\n",
    "            print(f\"  GoldsteinScale: {row['GoldsteinScale']:.2f}, AvgTone: {row['AvgTone']:.2f}\")\n",
    "            if 'EventRootCode' in row:\n",
    "                event_type_str = CAMEO_ROOT_CODE_MAP.get(row['EventRootCode'], 'Unknown')\n",
    "                print(f\"  Event Type: {event_type_str} (Code: {row.get('EventCodeFull', 'N/A')})\")\n",
    "            elif 'EventCodeFull' in row:\n",
    "                 print(f\"  Event Code: {row['EventCodeFull']}\")\n",
    "            if 'SOURCEURL' in row:\n",
    "                print(f\"  Source URL: {row['SOURCEURL']}\")\n",
    "            print(\"-\" * 20)\n",
    "    else:\n",
    "        print(\"No data found.\")\n",
    "\n",
    "def plot_jpn_chn_event_breakdown(ddf_jpn_chn, top_n=15):\n",
    "    coop_events = ddf_jpn_chn[ddf_jpn_chn['GoldsteinScale'] > 0]\n",
    "    conf_events = ddf_jpn_chn[ddf_jpn_chn['GoldsteinScale'] < 0]\n",
    "\n",
    "    with ProgressBar():\n",
    "        coop_counts = coop_events['EventRootCode'].value_counts().nlargest(top_n).compute()\n",
    "        conf_counts = conf_events['EventRootCode'].value_counts().nlargest(top_n).compute()\n",
    "\n",
    "    fig, (ax1, ax2) = plt.subplots(1, 2, figsize=(20, 8))\n",
    "    fig.suptitle('Breakdown of Cooperative vs. Conflictual Event Types between Japan & China', fontsize=16)\n",
    "\n",
    "    if not coop_counts.empty:\n",
    "        coop_counts.index = coop_counts.index.map(CAMEO_ROOT_CODE_MAP).fillna(coop_counts.index)\n",
    "        sns.barplot(ax=ax1, x=coop_counts.values, y=coop_counts.index, orient='h', palette='summer')\n",
    "        ax1.set_title(f'Top {top_n} Cooperative Events')\n",
    "        ax1.set_xlabel('Number of Events')\n",
    "        ax1.set_ylabel('Event Type')\n",
    "    else:\n",
    "        ax1.text(0.5, 0.5, 'No cooperative event data', ha='center', va='center')\n",
    "        ax1.set_title(f'Top {top_n} Cooperative Events')\n",
    "\n",
    "    if not conf_counts.empty:\n",
    "        conf_counts.index = conf_counts.index.map(CAMEO_ROOT_CODE_MAP).fillna(conf_counts.index)\n",
    "        sns.barplot(ax=ax2, x=conf_counts.values, y=conf_counts.index, orient='h', palette='autumn')\n",
    "        ax2.set_title(f'Top {top_n} Conflictual Events')\n",
    "        ax2.set_xlabel('Number of Events')\n",
    "        ax2.set_ylabel('')\n",
    "    else:\n",
    "        ax2.text(0.5, 0.5, 'No conflictual event data', ha='center', va='center')\n",
    "        ax2.set_title(f'Top {top_n} Conflictual Events')\n",
    "        \n",
    "    plt.tight_layout(rect=[0, 0.03, 1, 0.95])\n",
    "    plt.show()\n",
    "\n",
    "def plot_jpn_chn_event_map(ddf_jpn_chn, sample_size=2000):\n",
    "    map_cols = ['ActionGeo_Lat', 'ActionGeo_Long', 'GoldsteinScale', 'NumMentions', 'Actor1Name', 'Actor2Name', 'ActionGeo_Fullname']\n",
    "    available_map_cols = [col for col in map_cols if col in ddf_jpn_chn.columns]\n",
    "    \n",
    "    if 'ActionGeo_Lat' not in available_map_cols or 'ActionGeo_Long' not in available_map_cols:\n",
    "        return\n",
    "\n",
    "    significant_events = ddf_jpn_chn[abs(ddf_jpn_chn['GoldsteinScale']) >= 3]\n",
    "    \n",
    "    with ProgressBar():\n",
    "        significant_count = len(significant_events)\n",
    "        if significant_count > 0:\n",
    "            frac = min(1.0, sample_size / significant_count if significant_count > 0 else 1.0)\n",
    "            map_data_pd = significant_events[available_map_cols].sample(frac=frac, random_state=42).compute()\n",
    "        else:\n",
    "            map_data_pd = pd.DataFrame(columns=available_map_cols)\n",
    "    \n",
    "    if map_data_pd.empty:\n",
    "        return\n",
    "\n",
    "    map_data_pd.dropna(subset=['ActionGeo_Lat', 'ActionGeo_Long'], inplace=True)\n",
    "    if map_data_pd.empty:\n",
    "        return\n",
    "\n",
    "    fig = px.scatter_mapbox(\n",
    "        map_data_pd,\n",
    "        lat=\"ActionGeo_Lat\",\n",
    "        lon=\"ActionGeo_Long\",\n",
    "        color=\"GoldsteinScale\",\n",
    "        size=\"NumMentions\",\n",
    "        color_continuous_scale=px.colors.diverging.RdYlBu,\n",
    "        size_max=15,\n",
    "        zoom=2,\n",
    "        mapbox_style=\"carto-positron\",\n",
    "        title=\"Map of Japan-China Related Event Locations\",\n",
    "        hover_name=\"ActionGeo_Fullname\",\n",
    "        hover_data={\"Actor1Name\": True, \"Actor2Name\": True, \"NumMentions\": True, \"GoldsteinScale\": True}\n",
    "    )\n",
    "    fig.update_layout(margin={\"r\":0,\"t\":40,\"l\":0,\"b\":0})\n",
    "    fig.show()\n",
    "\n",
    "def plot_jpn_chn_top_actors(ddf_jpn_chn, top_n=15):\n",
    "    if 'Actor1Name' not in ddf_jpn_chn.columns:\n",
    "        return\n",
    "        \n",
    "    generic_names = ['JAPAN', 'CHINA', 'BEIJING', 'TOKYO']\n",
    "    filtered_actors = ddf_jpn_chn[~ddf_jpn_chn['Actor1Name'].isin(generic_names)]\n",
    "    \n",
    "    with ProgressBar():\n",
    "        top_actors = filtered_actors['Actor1Name'].value_counts().nlargest(top_n).compute()\n",
    "\n",
    "    if top_actors.empty:\n",
    "        return\n",
    "\n",
    "    plt.figure(figsize=(12, 8))\n",
    "    sns.barplot(x=top_actors.values, y=top_actors.index, orient='h', palette='crest')\n",
    "    plt.title(f'Top {top_n} Actors Involved in Japan-China Events (Actor1)')\n",
    "    plt.xlabel('Number of Events')\n",
    "    plt.ylabel('Actor Name')\n",
    "    plt.show()\n",
    "\n",
    "if __name__ == '__main__':\n",
    "    analysis_start_date = datetime(2022, 4, 1)\n",
    "    analysis_end_date   = datetime(2025, 6, 9)\n",
    "\n",
    "    gdelt_filename = f\"gdelt_events_20220401_20250609.parquet\"\n",
    "    gdelt_output_dir = Path(\"data\") \n",
    "    GDELT_PARQUET_PATH = gdelt_output_dir / gdelt_filename\n",
    "    \n",
    "    columns_to_load = [\n",
    "        \"SQLDATE\", \"Actor1CountryCode\", \"Actor2CountryCode\", \"EventRootCode\",\n",
    "        \"GoldsteinScale\", \"AvgTone\", \"EventCodeFull\", \n",
    "        \"Actor1Name\", \"Actor2Name\", \"SOURCEURL\",\n",
    "        \"ActionGeo_Lat\", \"ActionGeo_Long\", \"ActionGeo_Fullname\", \"NumMentions\"\n",
    "    ]\n",
    "\n",
    "    ddf_gdelt_raw = load_gdelt_data_dask(\n",
    "        str(GDELT_PARQUET_PATH),\n",
    "        columns_to_load=columns_to_load\n",
    "    )\n",
    "\n",
    "    if ddf_gdelt_raw is not None and ddf_gdelt_raw.npartitions > 0:\n",
    "        \n",
    "        if not pd.api.types.is_datetime64_any_dtype(ddf_gdelt_raw['SQLDATE'].dtype):\n",
    "            ddf_gdelt_raw['SQLDATE'] = dd.to_datetime(ddf_gdelt_raw['SQLDATE'], errors='coerce')\n",
    "        \n",
    "        ddf_gdelt_period_filtered = ddf_gdelt_raw[\n",
    "            (ddf_gdelt_raw['SQLDATE'] >= analysis_start_date) & \n",
    "            (ddf_gdelt_raw['SQLDATE'] <= analysis_end_date)\n",
    "        ]\n",
    "        \n",
    "        ddf_jpn_chn_filtered = filter_jpn_chn_events(ddf_gdelt_period_filtered)\n",
    "        \n",
    "        with ProgressBar():\n",
    "            ddf_jpn_chn_persisted = ddf_jpn_chn_filtered.persist()\n",
    "        \n",
    "        with ProgressBar():\n",
    "            row_count = len(ddf_jpn_chn_persisted)\n",
    "        \n",
    "        if row_count > 0:\n",
    "            print(f\"Number of extracted Japan-China events: {row_count}\")\n",
    "            \n",
    "            plot_jpn_chn_timeseries(ddf_jpn_chn_persisted)\n",
    "            plot_jpn_chn_event_types(ddf_jpn_chn_persisted, top_n=20)\n",
    "            analyze_jpn_chn_conflict_peaks(ddf_jpn_chn_persisted, n_events=5)\n",
    "            plot_jpn_chn_event_breakdown(ddf_jpn_chn_persisted, top_n=15)\n",
    "            plot_jpn_chn_event_map(ddf_jpn_chn_persisted, sample_size=2000)\n",
    "            plot_jpn_chn_top_actors(ddf_jpn_chn_persisted, top_n=15)\n",
    "\n"
   ]
  },
  {
   "cell_type": "markdown",
   "id": "1bb3265e",
   "metadata": {},
   "source": [
    "- Goldsteinスケールはプラスとマイナスの間を大きく変動しており、日中関係が安定的ではないことを示している\n",
    "- 日中関係に関する報道は全体としてネガティブな論調でなされる傾向\n",
    "- 「訪問」「協議」「訪問の受け入れ」といった対話関連が多い。まずは対話という姿勢が出ているのか\n",
    "- 012（非難）、111（外交関係悪化）、110（外交的非難）といった言語的・外交的な対立が上位を占めている\n",
    "- 両国の主要都市が上位にあるこれは、地名から歴史認識や経済特区などに関連していると考えられる\n",
    "- TYOTA, HONDA, SONY, MITSUBISHI といった日本企業が多数ランクインしており、日中関係において製造業が非常に重要な位置を占めている"
   ]
  },
  {
   "cell_type": "markdown",
   "id": "a682cc35",
   "metadata": {},
   "source": [
    "## 米中関係のグラフ化"
   ]
  },
  {
   "cell_type": "code",
   "execution_count": 7,
   "id": "58276819",
   "metadata": {},
   "outputs": [
    {
     "name": "stdout",
     "output_type": "stream",
     "text": [
      "Loading with Dask: data/gdelt_events_20220401_20250609.parquet (Columns: ['SQLDATE', 'Actor1CountryCode', 'Actor2CountryCode', 'EventRootCode', 'GoldsteinScale', 'AvgTone', 'EventCodeFull', 'Actor1Name', 'Actor2Name', 'SOURCEURL', 'ActionGeo_Lat', 'ActionGeo_Long', 'ActionGeo_Fullname', 'NumMentions'])\n",
      "Loaded Dask DataFrame from 'data/gdelt_events_20220401_20250609.parquet'. Number of partitions: 57\n",
      "Filtering for events involving USA and China (CHN)...\n",
      "Persisting filtered results in memory. This may take some time...\n",
      "[#######################                 ] | 58% Completed | 121.43 s\n"
     ]
    },
    {
     "ename": "KeyboardInterrupt",
     "evalue": "",
     "output_type": "error",
     "traceback": [
      "\u001b[31m---------------------------------------------------------------------------\u001b[39m",
      "\u001b[31mKeyboardInterrupt\u001b[39m                         Traceback (most recent call last)",
      "\u001b[36mCell\u001b[39m\u001b[36m \u001b[39m\u001b[32mIn[7]\u001b[39m\u001b[32m, line 315\u001b[39m\n\u001b[32m    313\u001b[39m \u001b[38;5;28mprint\u001b[39m(\u001b[33m\"\u001b[39m\u001b[33mPersisting filtered results in memory. This may take some time...\u001b[39m\u001b[33m\"\u001b[39m)\n\u001b[32m    314\u001b[39m \u001b[38;5;28;01mwith\u001b[39;00m ProgressBar():\n\u001b[32m--> \u001b[39m\u001b[32m315\u001b[39m     ddf_usa_chn_persisted = \u001b[43mddf_usa_chn_filtered\u001b[49m\u001b[43m.\u001b[49m\u001b[43mpersist\u001b[49m\u001b[43m(\u001b[49m\u001b[43m)\u001b[49m\n\u001b[32m    317\u001b[39m \u001b[38;5;28mprint\u001b[39m(\u001b[33m\"\u001b[39m\u001b[33mCalculating number of events from persisted data...\u001b[39m\u001b[33m\"\u001b[39m)\n\u001b[32m    318\u001b[39m \u001b[38;5;28;01mwith\u001b[39;00m ProgressBar():\n",
      "\u001b[36mFile \u001b[39m\u001b[32m~/miniconda3/lib/python3.12/site-packages/dask/dataframe/dask_expr/_collection.py:460\u001b[39m, in \u001b[36mFrameBase.persist\u001b[39m\u001b[34m(self, fuse, **kwargs)\u001b[39m\n\u001b[32m    458\u001b[39m \u001b[38;5;28;01mdef\u001b[39;00m \u001b[34mpersist\u001b[39m(\u001b[38;5;28mself\u001b[39m, fuse=\u001b[38;5;28;01mTrue\u001b[39;00m, **kwargs):\n\u001b[32m    459\u001b[39m     out = \u001b[38;5;28mself\u001b[39m.optimize(fuse=fuse)\n\u001b[32m--> \u001b[39m\u001b[32m460\u001b[39m     \u001b[38;5;28;01mreturn\u001b[39;00m \u001b[43mDaskMethodsMixin\u001b[49m\u001b[43m.\u001b[49m\u001b[43mpersist\u001b[49m\u001b[43m(\u001b[49m\u001b[43mout\u001b[49m\u001b[43m,\u001b[49m\u001b[43m \u001b[49m\u001b[43m*\u001b[49m\u001b[43m*\u001b[49m\u001b[43mkwargs\u001b[49m\u001b[43m)\u001b[49m\n",
      "\u001b[36mFile \u001b[39m\u001b[32m~/miniconda3/lib/python3.12/site-packages/dask/base.py:346\u001b[39m, in \u001b[36mDaskMethodsMixin.persist\u001b[39m\u001b[34m(self, **kwargs)\u001b[39m\n\u001b[32m    307\u001b[39m \u001b[38;5;28;01mdef\u001b[39;00m \u001b[34mpersist\u001b[39m(\u001b[38;5;28mself\u001b[39m, **kwargs):\n\u001b[32m    308\u001b[39m \u001b[38;5;250m    \u001b[39m\u001b[33;03m\"\"\"Persist this dask collection into memory\u001b[39;00m\n\u001b[32m    309\u001b[39m \n\u001b[32m    310\u001b[39m \u001b[33;03m    This turns a lazy Dask collection into a Dask collection with the same\u001b[39;00m\n\u001b[32m   (...)\u001b[39m\u001b[32m    344\u001b[39m \u001b[33;03m    dask.persist\u001b[39;00m\n\u001b[32m    345\u001b[39m \u001b[33;03m    \"\"\"\u001b[39;00m\n\u001b[32m--> \u001b[39m\u001b[32m346\u001b[39m     (result,) = \u001b[43mpersist\u001b[49m\u001b[43m(\u001b[49m\u001b[38;5;28;43mself\u001b[39;49m\u001b[43m,\u001b[49m\u001b[43m \u001b[49m\u001b[43mtraverse\u001b[49m\u001b[43m=\u001b[49m\u001b[38;5;28;43;01mFalse\u001b[39;49;00m\u001b[43m,\u001b[49m\u001b[43m \u001b[49m\u001b[43m*\u001b[49m\u001b[43m*\u001b[49m\u001b[43mkwargs\u001b[49m\u001b[43m)\u001b[49m\n\u001b[32m    347\u001b[39m     \u001b[38;5;28;01mreturn\u001b[39;00m result\n",
      "\u001b[36mFile \u001b[39m\u001b[32m~/miniconda3/lib/python3.12/site-packages/dask/base.py:1021\u001b[39m, in \u001b[36mpersist\u001b[39m\u001b[34m(traverse, optimize_graph, scheduler, *args, **kwargs)\u001b[39m\n\u001b[32m   1018\u001b[39m     postpersists.append((rebuild, a_keys, state))\n\u001b[32m   1020\u001b[39m \u001b[38;5;28;01mwith\u001b[39;00m shorten_traceback():\n\u001b[32m-> \u001b[39m\u001b[32m1021\u001b[39m     results = \u001b[43mschedule\u001b[49m\u001b[43m(\u001b[49m\u001b[43mexpr\u001b[49m\u001b[43m,\u001b[49m\u001b[43m \u001b[49m\u001b[43mkeys\u001b[49m\u001b[43m,\u001b[49m\u001b[43m \u001b[49m\u001b[43m*\u001b[49m\u001b[43m*\u001b[49m\u001b[43mkwargs\u001b[49m\u001b[43m)\u001b[49m\n\u001b[32m   1023\u001b[39m d = \u001b[38;5;28mdict\u001b[39m(\u001b[38;5;28mzip\u001b[39m(keys, results))\n\u001b[32m   1024\u001b[39m results2 = [r({k: d[k] \u001b[38;5;28;01mfor\u001b[39;00m k \u001b[38;5;129;01min\u001b[39;00m ks}, *s) \u001b[38;5;28;01mfor\u001b[39;00m r, ks, s \u001b[38;5;129;01min\u001b[39;00m postpersists]\n",
      "\u001b[36mFile \u001b[39m\u001b[32m~/miniconda3/lib/python3.12/queue.py:171\u001b[39m, in \u001b[36mQueue.get\u001b[39m\u001b[34m(self, block, timeout)\u001b[39m\n\u001b[32m    169\u001b[39m \u001b[38;5;28;01melif\u001b[39;00m timeout \u001b[38;5;129;01mis\u001b[39;00m \u001b[38;5;28;01mNone\u001b[39;00m:\n\u001b[32m    170\u001b[39m     \u001b[38;5;28;01mwhile\u001b[39;00m \u001b[38;5;129;01mnot\u001b[39;00m \u001b[38;5;28mself\u001b[39m._qsize():\n\u001b[32m--> \u001b[39m\u001b[32m171\u001b[39m         \u001b[38;5;28;43mself\u001b[39;49m\u001b[43m.\u001b[49m\u001b[43mnot_empty\u001b[49m\u001b[43m.\u001b[49m\u001b[43mwait\u001b[49m\u001b[43m(\u001b[49m\u001b[43m)\u001b[49m\n\u001b[32m    172\u001b[39m \u001b[38;5;28;01melif\u001b[39;00m timeout < \u001b[32m0\u001b[39m:\n\u001b[32m    173\u001b[39m     \u001b[38;5;28;01mraise\u001b[39;00m \u001b[38;5;167;01mValueError\u001b[39;00m(\u001b[33m\"\u001b[39m\u001b[33m'\u001b[39m\u001b[33mtimeout\u001b[39m\u001b[33m'\u001b[39m\u001b[33m must be a non-negative number\u001b[39m\u001b[33m\"\u001b[39m)\n",
      "\u001b[36mFile \u001b[39m\u001b[32m~/miniconda3/lib/python3.12/threading.py:355\u001b[39m, in \u001b[36mCondition.wait\u001b[39m\u001b[34m(self, timeout)\u001b[39m\n\u001b[32m    353\u001b[39m \u001b[38;5;28;01mtry\u001b[39;00m:    \u001b[38;5;66;03m# restore state no matter what (e.g., KeyboardInterrupt)\u001b[39;00m\n\u001b[32m    354\u001b[39m     \u001b[38;5;28;01mif\u001b[39;00m timeout \u001b[38;5;129;01mis\u001b[39;00m \u001b[38;5;28;01mNone\u001b[39;00m:\n\u001b[32m--> \u001b[39m\u001b[32m355\u001b[39m         \u001b[43mwaiter\u001b[49m\u001b[43m.\u001b[49m\u001b[43macquire\u001b[49m\u001b[43m(\u001b[49m\u001b[43m)\u001b[49m\n\u001b[32m    356\u001b[39m         gotit = \u001b[38;5;28;01mTrue\u001b[39;00m\n\u001b[32m    357\u001b[39m     \u001b[38;5;28;01melse\u001b[39;00m:\n",
      "\u001b[31mKeyboardInterrupt\u001b[39m: "
     ]
    }
   ],
   "source": [
    "import pandas as pd\n",
    "import numpy as np\n",
    "import matplotlib.pyplot as plt\n",
    "import matplotlib.font_manager as fm\n",
    "import seaborn as sns\n",
    "import plotly.express as px\n",
    "from pathlib import Path\n",
    "from datetime import datetime\n",
    "import dask.dataframe as dd\n",
    "from dask.diagnostics import ProgressBar\n",
    "import matplotlib.dates as mdates\n",
    "\n",
    "plt.style.use('seaborn-v0_8-whitegrid')\n",
    "plt.rcParams['axes.unicode_minus'] = False \n",
    "\n",
    "CAMEO_ROOT_CODE_MAP = {\n",
    "    '01': 'Make Public Statement',\n",
    "    '02': 'Appeal',\n",
    "    '03': 'Express Intent to Cooperate',\n",
    "    '04': 'Consult',\n",
    "    '05': 'Engage in Diplomatic Cooperation',\n",
    "    '06': 'Engage in Material Cooperation',\n",
    "    '07': 'Provide Aid',\n",
    "    '08': 'Yield',\n",
    "    '09': 'Investigate',\n",
    "    '10': 'Demand',\n",
    "    '11': 'Disapprove',\n",
    "    '12': 'Reject',\n",
    "    '13': 'Threaten',\n",
    "    '14': 'Protest',\n",
    "    '15': 'Exhibit Force Posture',\n",
    "    '16': 'Reduce Relations',\n",
    "    '17': 'Coerce',\n",
    "    '18': 'Assault',\n",
    "    '19': 'Fight',\n",
    "    '20': 'Use Unconventional Mass Violence'\n",
    "}\n",
    "\n",
    "\n",
    "def load_gdelt_data_dask(gdelt_path_str, columns_to_load=None):\n",
    "    \"\"\"Load GDELT Parquet data as a Dask DataFrame\"\"\"\n",
    "    ddf_gdelt = None\n",
    "    gdelt_path = Path(gdelt_path_str)\n",
    "\n",
    "    if not (gdelt_path.is_dir() or (gdelt_path.is_file() and gdelt_path.suffix.lower() == '.parquet')):\n",
    "        print(f\"Error: GDELT Parquet path '{gdelt_path}' not found or is not a valid Parquet directory/file.\")\n",
    "        return None\n",
    "\n",
    "    try:\n",
    "        print(f\"Loading with Dask: {gdelt_path} (Columns: {columns_to_load if columns_to_load else 'All'})\")\n",
    "        ddf_gdelt = dd.read_parquet(\n",
    "            gdelt_path, \n",
    "            columns=columns_to_load,\n",
    "            engine='pyarrow'\n",
    "        )\n",
    "        print(f\"Loaded Dask DataFrame from '{gdelt_path}'. Number of partitions: {ddf_gdelt.npartitions}\")\n",
    "        \n",
    "        if 'SQLDATE' in ddf_gdelt.columns and not pd.api.types.is_datetime64_any_dtype(ddf_gdelt['SQLDATE'].dtype):\n",
    "            ddf_gdelt['SQLDATE'] = dd.to_datetime(ddf_gdelt['SQLDATE'], errors='coerce')\n",
    "\n",
    "    except Exception as e:\n",
    "        print(f\"Error: Failed to load Dask DataFrame from '{gdelt_path}': {e}\")\n",
    "        return None\n",
    "    return ddf_gdelt\n",
    "\n",
    "def filter_usa_chn_events(ddf):\n",
    "    \"\"\"Filter events involving the United States and China\"\"\"\n",
    "    print(\"Filtering for events involving USA and China (CHN)...\")\n",
    "    usa_chn_filter = ((ddf['Actor1CountryCode'] == 'USA') & (ddf['Actor2CountryCode'] == 'CHN')) | \\\n",
    "                     ((ddf['Actor1CountryCode'] == 'CHN') & (ddf['Actor2CountryCode'] == 'USA'))\n",
    "    \n",
    "    return ddf[usa_chn_filter]\n",
    "\n",
    "def plot_usa_chn_timeseries(ddf_usa_chn):\n",
    "    \"\"\"Plot time-series graph of US-China relations indicators (GoldsteinScale, AvgTone)\"\"\"\n",
    "    print(\"Aggregating monthly data for time-series plot...\")\n",
    "    \n",
    "    if not pd.api.types.is_datetime64_any_dtype(ddf_usa_chn['SQLDATE'].dtype):\n",
    "        ddf_usa_chn['SQLDATE'] = dd.to_datetime(ddf_usa_chn['SQLDATE'], errors='coerce')\n",
    "        ddf_usa_chn = ddf_usa_chn.dropna(subset=['SQLDATE'])\n",
    "\n",
    "    ddf_usa_chn_ts = ddf_usa_chn.set_index('SQLDATE')\n",
    "    \n",
    "    with ProgressBar():\n",
    "        monthly_avg = ddf_usa_chn_ts[['GoldsteinScale', 'AvgTone']].resample('M').mean().compute()\n",
    "    \n",
    "    if monthly_avg.empty:\n",
    "        print(\"Data is empty after monthly aggregation.\")\n",
    "        return\n",
    "\n",
    "    fig, (ax1, ax2) = plt.subplots(2, 1, figsize=(15, 12), sharex=True)\n",
    "    \n",
    "    ax1.plot(monthly_avg.index, monthly_avg['GoldsteinScale'], marker='o', linestyle='-', color='b')\n",
    "    ax1.axhline(0, color='grey', linestyle='--', lw=1)\n",
    "    ax1.set_title('US-China Relations: Goldstein Scale (Monthly Avg)')\n",
    "    ax1.set_ylabel('Goldstein Scale\\n(Lower value means more conflict)')\n",
    "    ax1.grid(True)\n",
    "\n",
    "    ax2.plot(monthly_avg.index, monthly_avg['AvgTone'], marker='o', linestyle='-', color='g')\n",
    "    ax2.axhline(0, color='grey', linestyle='--', lw=1)\n",
    "    ax2.set_title('US-China Relations: Average News Tone (Monthly Avg)')\n",
    "    ax2.set_ylabel('Average Tone\\n(Lower value means more negative)')\n",
    "    ax2.set_xlabel('Date')\n",
    "    ax2.grid(True)\n",
    "    \n",
    "    ax2.xaxis.set_major_formatter(mdates.DateFormatter('%Y-%m'))\n",
    "    plt.xticks(rotation=45)\n",
    "    plt.tight_layout()\n",
    "    plt.show()\n",
    "    print(\"Generated time-series graph of US-China relations.\")\n",
    "\n",
    "def plot_usa_chn_event_types(ddf_usa_chn, top_n=20):\n",
    "    \"\"\"Plot event types between the US and China\"\"\"\n",
    "    print(f\"Aggregating top {top_n} event types...\")\n",
    "    \n",
    "    with ProgressBar():\n",
    "        event_counts = ddf_usa_chn['EventRootCode'].value_counts().compute().nlargest(top_n)\n",
    "    \n",
    "    if event_counts.empty:\n",
    "        print(\"Aggregated event type result is empty.\")\n",
    "        return\n",
    "\n",
    "    # Map event codes to names for plotting\n",
    "    mapped_index = event_counts.index.map(CAMEO_ROOT_CODE_MAP)\n",
    "    event_counts.index = mapped_index.where(mapped_index.notna(), event_counts.index)\n",
    "\n",
    "    plt.figure(figsize=(12, 8))\n",
    "    sns.barplot(x=event_counts.values, y=event_counts.index, orient='h', palette='viridis')\n",
    "    plt.title(f'Top {top_n} Event Types between USA & China (2022/04 - 2025/05)')\n",
    "    plt.xlabel('Number of Events')\n",
    "    plt.ylabel('Event Type')\n",
    "    plt.show()\n",
    "    print(\"Generated bar plot of event types between the US and China.\")\n",
    "    print(\"For CAMEO event code details, see https://www.gdeltproject.org/data/lookups/CAMEO.eventcodes.txt\")\n",
    "\n",
    "def analyze_usa_chn_conflict_peaks(ddf_usa_chn, n_events=5):\n",
    "    \"\"\"Extract most conflictual events (lowest GoldsteinScale)\"\"\"\n",
    "    print(f\"Extracting top {n_events} most conflictual events...\")\n",
    "    \n",
    "    cols_to_show = ['SQLDATE', 'Actor1Name', 'Actor2Name', 'GoldsteinScale', 'AvgTone', 'EventCodeFull', 'EventRootCode', 'SOURCEURL']\n",
    "    available_cols = [col for col in cols_to_show if col in ddf_usa_chn.columns]\n",
    "    \n",
    "    if 'GoldsteinScale' not in available_cols:\n",
    "        print(\"Skipping conflict peak analysis because GoldsteinScale column is missing.\")\n",
    "        return\n",
    "    \n",
    "    with ProgressBar():\n",
    "        most_conflict = ddf_usa_chn[available_cols].nsmallest(n_events, 'GoldsteinScale').compute()\n",
    "    \n",
    "    print(f\"\\n--- Top {n_events} Most Conflictual Events ---\")\n",
    "    if not most_conflict.empty:\n",
    "        for _, row in most_conflict.iterrows():\n",
    "            print(f\"Date: {row['SQLDATE'].strftime('%Y-%m-%d')}\")\n",
    "            if 'Actor1Name' in row and 'Actor2Name' in row:\n",
    "                print(f\"  Actors: {row['Actor1Name']} and {row['Actor2Name']}\")\n",
    "            print(f\"  GoldsteinScale: {row['GoldsteinScale']:.2f}, AvgTone: {row['AvgTone']:.2f}\")\n",
    "            if 'EventRootCode' in row:\n",
    "                event_type_str = CAMEO_ROOT_CODE_MAP.get(str(row['EventRootCode']), 'Unknown')\n",
    "                print(f\"  Event Type: {event_type_str} (Code: {row.get('EventCodeFull', 'N/A')})\")\n",
    "            elif 'EventCodeFull' in row:\n",
    "                 print(f\"  Event Code: {row['EventCodeFull']}\")\n",
    "            if 'SOURCEURL' in row:\n",
    "                print(f\"  Source URL: {row['SOURCEURL']}\")\n",
    "            print(\"-\" * 20)\n",
    "    else:\n",
    "        print(\"No data found.\")\n",
    "\n",
    "def plot_usa_chn_event_breakdown(ddf_usa_chn, top_n=15):\n",
    "    \"\"\"Plot breakdown of cooperative vs conflictual event types.\"\"\"\n",
    "    print(f\"Aggregating breakdown of cooperative vs. conflictual events (Top {top_n})...\")\n",
    "\n",
    "    coop_events = ddf_usa_chn[ddf_usa_chn['GoldsteinScale'] > 0]\n",
    "    conf_events = ddf_usa_chn[ddf_usa_chn['GoldsteinScale'] < 0]\n",
    "\n",
    "    with ProgressBar():\n",
    "        coop_counts = coop_events['EventRootCode'].value_counts().nlargest(top_n).compute()\n",
    "        conf_counts = conf_events['EventRootCode'].value_counts().nlargest(top_n).compute()\n",
    "\n",
    "    fig, (ax1, ax2) = plt.subplots(1, 2, figsize=(20, 8))\n",
    "    fig.suptitle('Breakdown of Cooperative vs. Conflictual Event Types between USA & China', fontsize=16)\n",
    "\n",
    "    if not coop_counts.empty:\n",
    "        mapped_coop_index = coop_counts.index.map(CAMEO_ROOT_CODE_MAP)\n",
    "        coop_counts.index = mapped_coop_index.where(mapped_coop_index.notna(), coop_counts.index)\n",
    "        sns.barplot(ax=ax1, x=coop_counts.values, y=coop_counts.index, orient='h', palette='summer')\n",
    "        ax1.set_title(f'Top {top_n} Cooperative Events')\n",
    "        ax1.set_xlabel('Number of Events')\n",
    "        ax1.set_ylabel('Event Type')\n",
    "    else:\n",
    "        ax1.text(0.5, 0.5, 'No cooperative event data', ha='center', va='center')\n",
    "        ax1.set_title(f'Top {top_n} Cooperative Events')\n",
    "\n",
    "    if not conf_counts.empty:\n",
    "        mapped_conf_index = conf_counts.index.map(CAMEO_ROOT_CODE_MAP)\n",
    "        conf_counts.index = mapped_conf_index.where(mapped_conf_index.notna(), conf_counts.index)\n",
    "        sns.barplot(ax=ax2, x=conf_counts.values, y=conf_counts.index, orient='h', palette='autumn')\n",
    "        ax2.set_title(f'Top {top_n} Conflictual Events')\n",
    "        ax2.set_xlabel('Number of Events')\n",
    "        ax2.set_ylabel('')\n",
    "    else:\n",
    "        ax2.text(0.5, 0.5, 'No conflictual event data', ha='center', va='center')\n",
    "        ax2.set_title(f'Top {top_n} Conflictual Events')\n",
    "        \n",
    "    plt.tight_layout(rect=[0, 0.03, 1, 0.95])\n",
    "    plt.show()\n",
    "    print(\"Generated breakdown graph of cooperative vs. conflictual events.\")\n",
    "\n",
    "def plot_usa_chn_event_map(ddf_usa_chn, sample_size=2000):\n",
    "    \"\"\"Plot a map of event locations between the US and China.\"\"\"\n",
    "    print(\"Creating a geographical map of event locations...\")\n",
    "    \n",
    "    map_cols = ['ActionGeo_Lat', 'ActionGeo_Long', 'GoldsteinScale', 'NumMentions', 'Actor1Name', 'Actor2Name', 'ActionGeo_Fullname']\n",
    "    available_map_cols = [col for col in map_cols if col in ddf_usa_chn.columns]\n",
    "    \n",
    "    if 'ActionGeo_Lat' not in available_map_cols or 'ActionGeo_Long' not in available_map_cols:\n",
    "        print(\"Cannot generate map because geographical information is missing.\")\n",
    "        return\n",
    "\n",
    "    significant_events = ddf_usa_chn[abs(ddf_usa_chn['GoldsteinScale']) >= 3]\n",
    "    \n",
    "    with ProgressBar():\n",
    "        significant_count = len(significant_events)\n",
    "        if significant_count > 0:\n",
    "            frac = min(1.0, sample_size / significant_count if significant_count > 0 else 1.0)\n",
    "            map_data_pd = significant_events[available_map_cols].sample(frac=frac, random_state=42).compute()\n",
    "        else:\n",
    "            map_data_pd = pd.DataFrame(columns=available_map_cols)\n",
    "    \n",
    "    if map_data_pd.empty:\n",
    "        print(\"No data found to plot on the map.\")\n",
    "        return\n",
    "\n",
    "    map_data_pd.dropna(subset=['ActionGeo_Lat', 'ActionGeo_Long'], inplace=True)\n",
    "    if map_data_pd.empty:\n",
    "        print(\"No data with valid latitude/longitude found.\")\n",
    "        return\n",
    "\n",
    "    fig = px.scatter_mapbox(\n",
    "        map_data_pd,\n",
    "        lat=\"ActionGeo_Lat\",\n",
    "        lon=\"ActionGeo_Long\",\n",
    "        color=\"GoldsteinScale\",\n",
    "        size=\"NumMentions\",\n",
    "        color_continuous_scale=px.colors.diverging.RdYlBu,\n",
    "        size_max=15,\n",
    "        zoom=1,\n",
    "        mapbox_style=\"carto-positron\",\n",
    "        title=\"Map of US-China Related Event Locations\",\n",
    "        hover_name=\"ActionGeo_Fullname\",\n",
    "        hover_data={\"Actor1Name\": True, \"Actor2Name\": True, \"NumMentions\": True, \"GoldsteinScale\": True}\n",
    "    )\n",
    "    fig.update_layout(margin={\"r\":0,\"t\":40,\"l\":0,\"b\":0})\n",
    "    fig.show()\n",
    "    print(\"Generated event location map.\")\n",
    "\n",
    "def plot_usa_chn_top_actors(ddf_usa_chn, top_n=15):\n",
    "    \"\"\"Analyze and plot the top actors involved in US-CHN events.\"\"\"\n",
    "    print(f\"Aggregating top {top_n} involved actors...\")\n",
    "    if 'Actor1Name' not in ddf_usa_chn.columns:\n",
    "        print(\"Skipping actor analysis because Actor1Name column is missing.\")\n",
    "        return\n",
    "        \n",
    "    generic_names = ['UNITED STATES', 'CHINA', 'BEIJING', 'WASHINGTON', 'TAIWAN']\n",
    "    filtered_actors = ddf_usa_chn[~ddf_usa_chn['Actor1Name'].isin(generic_names)]\n",
    "    \n",
    "    with ProgressBar():\n",
    "        top_actors = filtered_actors['Actor1Name'].value_counts().nlargest(top_n).compute()\n",
    "\n",
    "    if top_actors.empty:\n",
    "        return\n",
    "\n",
    "    plt.figure(figsize=(12, 8))\n",
    "    sns.barplot(x=top_actors.values, y=top_actors.index, orient='h', palette='crest')\n",
    "    plt.title(f'Top {top_n} Actors Involved in US-China Events (Actor1)')\n",
    "    plt.xlabel('Number of Events')\n",
    "    plt.ylabel('Actor Name')\n",
    "    plt.show()\n",
    "    print(\"Generated graph of top involved actors.\")\n",
    "\n",
    "\n",
    "if __name__ == '__main__':\n",
    "    analysis_start_date = datetime(2022, 4, 1)\n",
    "    analysis_end_date   = datetime(2025, 6, 9)\n",
    "\n",
    "    gdelt_filename = f\"gdelt_events_20220401_20250609.parquet\"\n",
    "    gdelt_output_dir = Path(\"data\") \n",
    "    GDELT_PARQUET_PATH = gdelt_output_dir / gdelt_filename\n",
    "    \n",
    "    columns_to_load = [\n",
    "        \"SQLDATE\", \"Actor1CountryCode\", \"Actor2CountryCode\", \"EventRootCode\",\n",
    "        \"GoldsteinScale\", \"AvgTone\", \"EventCodeFull\", \n",
    "        \"Actor1Name\", \"Actor2Name\", \"SOURCEURL\",\n",
    "        \"ActionGeo_Lat\", \"ActionGeo_Long\", \"ActionGeo_Fullname\", \"NumMentions\"\n",
    "    ]\n",
    "\n",
    "    ddf_gdelt_raw = load_gdelt_data_dask(\n",
    "        str(GDELT_PARQUET_PATH),\n",
    "        columns_to_load=columns_to_load\n",
    "    )\n",
    "\n",
    "    if ddf_gdelt_raw is not None and ddf_gdelt_raw.npartitions > 0:\n",
    "        \n",
    "        if not pd.api.types.is_datetime64_any_dtype(ddf_gdelt_raw['SQLDATE'].dtype):\n",
    "            ddf_gdelt_raw['SQLDATE'] = dd.to_datetime(ddf_gdelt_raw['SQLDATE'], errors='coerce')\n",
    "        \n",
    "        ddf_gdelt_period_filtered = ddf_gdelt_raw[\n",
    "            (ddf_gdelt_raw['SQLDATE'] >= analysis_start_date) & \n",
    "            (ddf_gdelt_raw['SQLDATE'] <= analysis_end_date)\n",
    "        ]\n",
    "        \n",
    "        ddf_usa_chn_filtered = filter_usa_chn_events(ddf_gdelt_period_filtered)\n",
    "        \n",
    "        print(\"Persisting filtered results in memory. This may take some time...\")\n",
    "        with ProgressBar():\n",
    "            ddf_usa_chn_persisted = ddf_usa_chn_filtered.persist()\n",
    "        \n",
    "        print(\"Calculating number of events from persisted data...\")\n",
    "        with ProgressBar():\n",
    "            row_count = len(ddf_usa_chn_persisted)\n",
    "        \n",
    "        if row_count > 0:\n",
    "            print(f\"Number of extracted US-China events: {row_count}\")\n",
    "            \n",
    "            plot_usa_chn_timeseries(ddf_usa_chn_persisted)\n",
    "            plot_usa_chn_event_types(ddf_usa_chn_persisted, top_n=20)\n",
    "            analyze_usa_chn_conflict_peaks(ddf_usa_chn_persisted, n_events=5)\n",
    "            plot_usa_chn_event_breakdown(ddf_usa_chn_persisted, top_n=15)\n",
    "            plot_usa_chn_event_map(ddf_usa_chn_persisted, sample_size=2000)\n",
    "            plot_usa_chn_top_actors(ddf_usa_chn_persisted, top_n=15)\n",
    "\n",
    "        else:\n",
    "            print(\"No events involving the US and China were found in the specified period.\")\n",
    "\n",
    "    else:\n",
    "        print(\"Skipping analysis because GDELT Dask DataFrame is empty or failed to load.\")\n",
    "\n",
    "    print(\"\\nAnalysis finished.\")\n"
   ]
  },
  {
   "cell_type": "markdown",
   "id": "363df835",
   "metadata": {},
   "source": [
    "- Goldsteinスケールは平均して良い傾向にあるが、上下に触れていることから関係が不安定\n",
    "- ニュースに関する平均トーンは一貫して負の領域にあり、米中関係に関する報道が全体としてネガティブな論調\n",
    "- 020 (物質的協力) や051 (経済協力) といった協力的なイベントと並んで、112 (外交関係の悪化) や 130 (脅迫) といった対立的なイベントも入っている\n",
    "- CHINESE, THE US, AMERICANが上位を占め、特定の政府機関だけでなく国民を指す言葉が上位に来ている\n",
    "- 特定の人物や政治の主要な場所がランクインしており、リーダーの動向が関係の中心的"
   ]
  }
 ],
 "metadata": {
  "kernelspec": {
   "display_name": "base",
   "language": "python",
   "name": "python3"
  },
  "language_info": {
   "codemirror_mode": {
    "name": "ipython",
    "version": 3
   },
   "file_extension": ".py",
   "mimetype": "text/x-python",
   "name": "python",
   "nbconvert_exporter": "python",
   "pygments_lexer": "ipython3",
   "version": "3.12.9"
  }
 },
 "nbformat": 4,
 "nbformat_minor": 5
}
